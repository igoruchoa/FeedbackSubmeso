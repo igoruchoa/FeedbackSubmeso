{
 "cells": [
  {
   "cell_type": "code",
   "execution_count": 1,
   "id": "ff9eef4f-5899-4985-a007-25c2c2033b04",
   "metadata": {},
   "outputs": [
    {
     "name": "stderr",
     "output_type": "stream",
     "text": [
      "/homes/metogra/iufarias/xroms/xroms/interp.py:18: UserWarning: xESMF is not installed, so `interpll` will not run.\n",
      "  warnings.warn(\"xESMF is not installed, so `interpll` will not run.\")\n"
     ]
    },
    {
     "data": {
      "text/plain": [
       "<dask.config.set at 0x7f54750a33a0>"
      ]
     },
     "execution_count": 1,
     "metadata": {},
     "output_type": "execute_result"
    }
   ],
   "source": [
    "from glob import glob\n",
    "import matplotlib.pyplot as plt\n",
    "import gc\n",
    "import xarray as xr\n",
    "import pandas as pd\n",
    "import xrft as xrft\n",
    "from matplotlib.ticker import FormatStrFormatter\n",
    "import xroms\n",
    "import numpy as np\n",
    "import seawater as sw\n",
    "import sys\n",
    "sys.path.append(\"/homes/metogra/iufarias/Documents/Scripts/useful\")\n",
    "import romspickle as rp\n",
    "\n",
    "from dask.distributed import Client \n",
    "\n",
    "from dask.diagnostics import ProgressBar\n",
    "import dask\n",
    "dask.config.set(**{'array.slicing.split_large_chunks': True})"
   ]
  },
  {
   "cell_type": "code",
   "execution_count": 9,
   "id": "551c3876-7786-4e43-a06e-6a852e79b12f",
   "metadata": {},
   "outputs": [],
   "source": [
    "client = Client(memory_limit='96GB',n_workers=64)"
   ]
  },
  {
   "cell_type": "code",
   "execution_count": 10,
   "id": "5a892133-cd96-4e18-8436-333b2966fa1f",
   "metadata": {},
   "outputs": [
    {
     "data": {
      "text/plain": [
       "'http://127.0.0.1:46645/status'"
      ]
     },
     "execution_count": 10,
     "metadata": {},
     "output_type": "execute_result"
    }
   ],
   "source": [
    "client.dashboard_link"
   ]
  },
  {
   "cell_type": "code",
   "execution_count": 11,
   "id": "27271d3f-60c4-41a2-b736-f93bd43d34a3",
   "metadata": {},
   "outputs": [],
   "source": [
    "def spec_ogive(spec,kr):\n",
    "    \n",
    "    Ogive_Kr=np.array(kr)\n",
    "    # Middle Value Wavenumber position for plot\n",
    "    Ogive_Krx=(Ogive_Kr[:-1]+Ogive_Kr[1:])/2\n",
    "    # dK=np.diff(Ogive_Kr)[0]\n",
    "    \n",
    "    #Flipped Integration in wavenumber and then flipped again\n",
    "    Ogive_inv=integ.cumtrapz(y=spec[::-1],x=Ogive_Kr[::-1]);\n",
    "    Ogive_Spec=-Ogive_inv[::-1];\n",
    "\n",
    "\n",
    "    return Ogive_Krx,Ogive_Spec"
   ]
  },
  {
   "cell_type": "code",
   "execution_count": 12,
   "id": "bff7bc5f-6fb0-42f0-9173-39766c782f01",
   "metadata": {},
   "outputs": [],
   "source": [
    "import warnings\n",
    "\n",
    "warnings.filterwarnings(\"ignore\")"
   ]
  },
  {
   "cell_type": "code",
   "execution_count": 93,
   "id": "7250f759-b241-4642-a4a0-19a57613b890",
   "metadata": {},
   "outputs": [],
   "source": [
    "chunks={'time_counter':10, 'x_rho':1000, 'y_rho':1520,'s_rho':80,'s_w':80}\n",
    "path='/data/pacific/lrenault/SASI/CROCO/'\n",
    "\n",
    "varf=xr.open_mfdataset(path + 'FULL/SASI*2012-04*.nc',data_vars='minimal',chunks=chunks)\n",
    "vart=xr.open_mfdataset(path + 'SMTH/SASI*2012-04*.nc',data_vars='minimal',chunks=chunks)\n",
    "\n",
    "\n",
    "\n",
    "\n",
    "#3D\n",
    "# path='/data/pacific/lrenault/SASI/CROCO/'\n",
    "\n",
    "# varf=xr.open_mfdataset(path + 'FULL/SASI*2012*.nc',data_vars='minimal')\n",
    "# vart=xr.open_mfdataset(path + 'SMTH/SASI*2012*.nc',data_vars='minimal')\n",
    "\n"
   ]
  },
  {
   "cell_type": "code",
   "execution_count": 94,
   "id": "265d6c47-1c8a-408a-858b-071665dd2740",
   "metadata": {},
   "outputs": [],
   "source": [
    "varx = varf.rename({\"time_counter\":\"ocean_time\",\"x_rho\": \"xi_rho\",\"x_u\":\"xi_u\",\"x_v\":\"xi_v\",\"x_w\":\"xi_w\",\n",
    "                    \"y_rho\":\"eta_rho\",\"y_v\":\"eta_v\",\"y_u\":\"eta_u\",\"y_w\":\"eta_w\",\"s_rho\":\"s_rho\",\"s_w\":\"s_w\"})\n",
    "df,gf=xroms.roms_dataset(varx,Vtransform=varx.Vtransform.data)\n",
    "\n",
    "vary = vart.rename({\"time_counter\":\"ocean_time\",\"x_rho\": \"xi_rho\",\"x_u\":\"xi_u\",\"x_v\":\"xi_v\",\n",
    "                    \"y_rho\":\"eta_rho\",\"y_v\":\"eta_v\",\"y_u\":\"eta_u\",\"y_w\":\"eta_w\",\"s_rho\":\"s_rho\",\"s_w\":\"s_w\"})\n",
    "dt,gt=xroms.roms_dataset(vary,Vtransform=vary.Vtransform.data)"
   ]
  },
  {
   "cell_type": "code",
   "execution_count": 95,
   "id": "71199409-490b-48da-8f0c-729990dfa97b",
   "metadata": {},
   "outputs": [],
   "source": [
    "timer_h=pd.DatetimeIndex(dt.ocean_time)\n",
    "timer_d=pd.DatetimeIndex(dt.ocean_time.groupby(\"ocean_time.dayofyear\").mean())"
   ]
  },
  {
   "cell_type": "markdown",
   "id": "2cfbfdcb-1b6a-405f-8fdd-bccd8a83ddad",
   "metadata": {
    "tags": []
   },
   "source": [
    "## FULL"
   ]
  },
  {
   "cell_type": "markdown",
   "id": "33cf29e1-987a-4988-9734-7108e39995aa",
   "metadata": {},
   "source": [
    "#### Buoyancy"
   ]
  },
  {
   "cell_type": "code",
   "execution_count": 96,
   "id": "8b05d270-8fa1-4314-9715-35bbf403352c",
   "metadata": {},
   "outputs": [],
   "source": [
    "tfi=df.temp.xroms.isoslice(np.linspace(0,-50, 10))\n",
    "tfi=tfi.groupby(\"ocean_time.dayofyear\").mean()\n",
    "\n",
    "sfi=df.salt.xroms.isoslice(np.linspace(0,-50, 10))\n",
    "sfi=sfi.groupby(\"ocean_time.dayofyear\").mean()"
   ]
  },
  {
   "cell_type": "code",
   "execution_count": 97,
   "id": "e9edd7f5-4269-4619-9e63-6e5291104c10",
   "metadata": {},
   "outputs": [
    {
     "name": "stdout",
     "output_type": "stream",
     "text": [
      "CPU times: user 5min 26s, sys: 3min 18s, total: 8min 44s\n",
      "Wall time: 18min 2s\n"
     ]
    }
   ],
   "source": [
    "%%time\n",
    "\n",
    "Tfi=tfi[:,:,120:-120,120:800].compute()\n",
    "\n",
    "Sfi=sfi[:,:,120:-120,120:800].compute()"
   ]
  },
  {
   "cell_type": "code",
   "execution_count": 98,
   "id": "f51498b7-d572-442b-9561-b79db8027632",
   "metadata": {},
   "outputs": [
    {
     "name": "stdout",
     "output_type": "stream",
     "text": [
      "CPU times: user 2min 38s, sys: 30 s, total: 3min 8s\n",
      "Wall time: 2min 3s\n"
     ]
    }
   ],
   "source": [
    "%%time\n",
    "rhof=xroms.potential_density(Tfi,Sfi)\n",
    "Bfi=xroms.buoyancy(rhof)"
   ]
  },
  {
   "cell_type": "code",
   "execution_count": 99,
   "id": "a7edbf96-62f4-4c78-a981-8fb6635324ec",
   "metadata": {},
   "outputs": [],
   "source": [
    "del tfi,sfi,Tfi,Sfi"
   ]
  },
  {
   "cell_type": "code",
   "execution_count": 100,
   "id": "57211b45-7c7e-4a9c-ac14-324936445f4a",
   "metadata": {},
   "outputs": [],
   "source": [
    "del Bfi.attrs['grid']\n",
    "Bfi.to_netcdf(\"/homes/metogra/iufarias/Documents/data/b/bfi_{0}_TOTAL.nc\".format(varx.name[13:16]))"
   ]
  },
  {
   "cell_type": "markdown",
   "id": "d4d60dc7-7fb3-49f0-b048-5c406ecaeba0",
   "metadata": {},
   "source": [
    "#### Vertical Velocity"
   ]
  },
  {
   "cell_type": "code",
   "execution_count": 101,
   "id": "78623ebf-d48b-4d7d-9927-9a2e33975d8f",
   "metadata": {},
   "outputs": [],
   "source": [
    "wfi=df.w.xroms.isoslice(np.linspace(0,-50, 10))\n",
    "wfi=wfi.groupby(\"ocean_time.dayofyear\").mean()"
   ]
  },
  {
   "cell_type": "code",
   "execution_count": 102,
   "id": "0c367fa4-b206-4d3c-ba64-bda9d929a022",
   "metadata": {},
   "outputs": [
    {
     "name": "stdout",
     "output_type": "stream",
     "text": [
      "CPU times: user 2min 49s, sys: 1min 40s, total: 4min 29s\n",
      "Wall time: 9min 6s\n"
     ]
    }
   ],
   "source": [
    "%%time\n",
    "\n",
    "Wfi=wfi[:,:,120:-120,120:800].compute()"
   ]
  },
  {
   "cell_type": "code",
   "execution_count": 103,
   "id": "c9c4404d-cfdc-455a-b478-36ff76db84b0",
   "metadata": {},
   "outputs": [],
   "source": [
    "del Wfi.attrs['grid']\n",
    "Wfi.to_netcdf(\"/homes/metogra/iufarias/Documents/data/w/wfi_{0}_TOTAL.nc\".format(varx.name[13:16]))"
   ]
  },
  {
   "cell_type": "code",
   "execution_count": 104,
   "id": "25c7e8ed-6498-4826-9250-0b9ad68a7cdb",
   "metadata": {},
   "outputs": [],
   "source": [
    "nf=2\n",
    "wdws='hann' #'flattop','hann'\n",
    "wdw_cor=True\n",
    "scl='density'\n",
    "\n",
    "\n",
    "\n",
    "VBP_f=xrft.isotropic_cross_spectrum(Wfi[:,1:,:,:].drop(['nav_lat_rho', 'nav_lon_rho']),\n",
    "                                    Bfi[:,1:,:,:].drop(['nav_lat_rho', 'nav_lon_rho']),\n",
    "                                    dim=['xi_rho','eta_rho'],nfactor=nf,truncate='True',scaling=scl,detrend='linear', \n",
    "                                     window=wdws,window_correction=wdw_cor).real\n",
    "\n",
    "# VBP_t=xrft.isotropic_cross_spectrum(wti.drop(['z_rho_psi']),\n",
    "#                                 bti.drop(['z_rho_psi']),\n",
    "#                                          dim=['xi_u','eta_v'],nfactor=nf,truncate='True',scaling=scl,detrend='linear', \n",
    "#                                      window=wdws,window_correction=wdw_cor).real"
   ]
  },
  {
   "cell_type": "code",
   "execution_count": 105,
   "id": "69b4d9c7-719c-4526-a1ca-06f69f0c8f67",
   "metadata": {},
   "outputs": [],
   "source": [
    "VBP_f[:-1].to_netcdf(\"/homes/metogra/iufarias/Documents/data/spec/VBP/VBP_f_{0}_TOTAL.nc\".format(varx.name[13:16]))"
   ]
  },
  {
   "cell_type": "code",
   "execution_count": 106,
   "id": "56daf22f-384c-4c82-96c3-bead8a342e26",
   "metadata": {},
   "outputs": [
    {
     "data": {
      "image/png": "[encoded data removed]",
      "text/plain": [
       "<Figure size 640x480 with 1 Axes>"
      ]
     },
     "metadata": {},
     "output_type": "display_data"
    }
   ],
   "source": [
    "VBP_f.mean(axis=0).mean(axis=0).plot()\n",
    "plt.yscale('log')\n",
    "plt.xscale('log')"
   ]
  },
  {
   "cell_type": "markdown",
   "id": "7dc36a1e-2d5c-4bd4-b44e-62661d0e940d",
   "metadata": {},
   "source": [
    "## SMTH"
   ]
  },
  {
   "cell_type": "code",
   "execution_count": 107,
   "id": "0fdd96de-190a-48d9-b176-961ed05927a2",
   "metadata": {},
   "outputs": [],
   "source": [
    "tti=dt.temp.xroms.isoslice(np.linspace(0,-50, 10))\n",
    "tti=tti.groupby(\"ocean_time.dayofyear\").mean()\n",
    "\n",
    "sti=dt.salt.xroms.isoslice(np.linspace(0,-50, 10))\n",
    "sti=sti.groupby(\"ocean_time.dayofyear\").mean()"
   ]
  },
  {
   "cell_type": "code",
   "execution_count": 108,
   "id": "d48d1353-ac01-4ac4-a8db-a71c706e0d11",
   "metadata": {},
   "outputs": [
    {
     "name": "stderr",
     "output_type": "stream",
     "text": [
      "2023-03-22 15:03:56,022 - distributed.worker - ERROR - Worker stream died during communication: tcp://127.0.0.1:41958\n",
      "Traceback (most recent call last):\n",
      "  File \"/homes/metogra/iufarias/miniconda3/envs/XROMS/lib/python3.8/site-packages/distributed/comm/core.py\", line 328, in connect\n",
      "    handshake = await asyncio.wait_for(comm.read(), time_left())\n",
      "  File \"/homes/metogra/iufarias/miniconda3/envs/XROMS/lib/python3.8/asyncio/tasks.py\", line 501, in wait_for\n",
      "    raise exceptions.TimeoutError()\n",
      "asyncio.exceptions.TimeoutError\n",
      "\n",
      "The above exception was the direct cause of the following exception:\n",
      "\n",
      "Traceback (most recent call last):\n",
      "  File \"/homes/metogra/iufarias/miniconda3/envs/XROMS/lib/python3.8/site-packages/distributed/worker.py\", line 2016, in gather_dep\n",
      "    response = await get_data_from_worker(\n",
      "  File \"/homes/metogra/iufarias/miniconda3/envs/XROMS/lib/python3.8/site-packages/distributed/worker.py\", line 2805, in get_data_from_worker\n",
      "    return await retry_operation(_get_data, operation=\"get_data_from_worker\")\n",
      "  File \"/homes/metogra/iufarias/miniconda3/envs/XROMS/lib/python3.8/site-packages/distributed/utils_comm.py\", line 383, in retry_operation\n",
      "    return await retry(\n",
      "  File \"/homes/metogra/iufarias/miniconda3/envs/XROMS/lib/python3.8/site-packages/distributed/utils_comm.py\", line 368, in retry\n",
      "    return await coro()\n",
      "  File \"/homes/metogra/iufarias/miniconda3/envs/XROMS/lib/python3.8/site-packages/distributed/worker.py\", line 2782, in _get_data\n",
      "    comm = await rpc.connect(worker)\n",
      "  File \"/homes/metogra/iufarias/miniconda3/envs/XROMS/lib/python3.8/site-packages/distributed/core.py\", line 1372, in connect\n",
      "    return await connect_attempt\n",
      "  File \"/homes/metogra/iufarias/miniconda3/envs/XROMS/lib/python3.8/site-packages/distributed/core.py\", line 1308, in _connect\n",
      "    comm = await connect(\n",
      "  File \"/homes/metogra/iufarias/miniconda3/envs/XROMS/lib/python3.8/site-packages/distributed/comm/core.py\", line 333, in connect\n",
      "    raise OSError(\n",
      "OSError: Timed out during handshake while connecting to tcp://127.0.0.1:41958 after 30 s\n",
      "2023-03-22 15:13:18,801 - distributed.nanny - WARNING - Restarting worker\n",
      "2023-03-22 15:13:31,039 - distributed.worker_memory - WARNING - Worker is at 81% memory usage. Pausing worker.  Process memory: 73.28 GiB -- Worker memory limit: 89.41 GiB\n",
      "2023-03-22 15:13:38,285 - distributed.worker_memory - WARNING - Worker tcp://127.0.0.1:43876 (pid=37369) exceeded 95% memory budget. Restarting...\n",
      "2023-03-22 15:13:41,159 - distributed.nanny - WARNING - Restarting worker\n"
     ]
    },
    {
     "name": "stdout",
     "output_type": "stream",
     "text": [
      "CPU times: user 5min 36s, sys: 3min 24s, total: 9min\n",
      "Wall time: 18min 44s\n"
     ]
    }
   ],
   "source": [
    "%%time\n",
    "\n",
    "Tti=tti[:,:,120:-120,120:800].compute()\n",
    "\n",
    "Sti=sti[:,:,120:-120,120:800].compute()"
   ]
  },
  {
   "cell_type": "code",
   "execution_count": 109,
   "id": "93279200-7fb5-4e88-a360-4aa7f1133898",
   "metadata": {},
   "outputs": [
    {
     "name": "stdout",
     "output_type": "stream",
     "text": [
      "CPU times: user 2min 38s, sys: 29.6 s, total: 3min 8s\n",
      "Wall time: 2min 3s\n"
     ]
    }
   ],
   "source": [
    "%%time\n",
    "rhot=xroms.potential_density(Tti,Sti)\n",
    "Bti=xroms.buoyancy(rhot)"
   ]
  },
  {
   "cell_type": "code",
   "execution_count": 110,
   "id": "e6c51c21-43ea-4c1d-a8a0-7b4ad878ee3d",
   "metadata": {},
   "outputs": [],
   "source": [
    "del tti,sti,Tti,Sti"
   ]
  },
  {
   "cell_type": "code",
   "execution_count": 111,
   "id": "141c797f-d6d1-4caa-b938-ae8b68886858",
   "metadata": {},
   "outputs": [],
   "source": [
    "del Bti.attrs['grid']\n",
    "Bti.to_netcdf(\"/homes/metogra/iufarias/Documents/data/b/bti_{0}_TOTAL.nc\".format(varx.name[13:16]))"
   ]
  },
  {
   "cell_type": "code",
   "execution_count": 112,
   "id": "ba8a819a-8d4a-47c7-a295-735dade6eccb",
   "metadata": {},
   "outputs": [],
   "source": [
    "wti=dt.w.xroms.isoslice(np.linspace(0,-50, 10))\n",
    "wti=wti.groupby(\"ocean_time.dayofyear\").mean()"
   ]
  },
  {
   "cell_type": "code",
   "execution_count": 113,
   "id": "b842bf13-d2c2-4f23-b084-a5ed020840be",
   "metadata": {},
   "outputs": [
    {
     "name": "stderr",
     "output_type": "stream",
     "text": [
      "2023-03-22 15:24:46,802 - distributed.worker_memory - WARNING - Worker is at 89% memory usage. Pausing worker.  Process memory: 79.83 GiB -- Worker memory limit: 89.41 GiB\n",
      "2023-03-22 15:24:47,335 - distributed.worker_memory - WARNING - Worker tcp://127.0.0.1:38748 (pid=37312) exceeded 95% memory budget. Restarting...\n",
      "2023-03-22 15:24:48,709 - distributed.nanny - WARNING - Restarting worker\n",
      "2023-03-22 15:24:48,701 - distributed.worker - ERROR - Worker stream died during communication: tcp://127.0.0.1:38748\n",
      "Traceback (most recent call last):\n",
      "  File \"/homes/metogra/iufarias/miniconda3/envs/XROMS/lib/python3.8/site-packages/distributed/comm/tcp.py\", line 235, in read\n",
      "    n = await stream.read_into(chunk)\n",
      "tornado.iostream.StreamClosedError: Stream is closed\n",
      "\n",
      "The above exception was the direct cause of the following exception:\n",
      "\n",
      "Traceback (most recent call last):\n",
      "  File \"/homes/metogra/iufarias/miniconda3/envs/XROMS/lib/python3.8/site-packages/distributed/worker.py\", line 2016, in gather_dep\n",
      "    response = await get_data_from_worker(\n",
      "  File \"/homes/metogra/iufarias/miniconda3/envs/XROMS/lib/python3.8/site-packages/distributed/worker.py\", line 2805, in get_data_from_worker\n",
      "    return await retry_operation(_get_data, operation=\"get_data_from_worker\")\n",
      "  File \"/homes/metogra/iufarias/miniconda3/envs/XROMS/lib/python3.8/site-packages/distributed/utils_comm.py\", line 383, in retry_operation\n",
      "    return await retry(\n",
      "  File \"/homes/metogra/iufarias/miniconda3/envs/XROMS/lib/python3.8/site-packages/distributed/utils_comm.py\", line 368, in retry\n",
      "    return await coro()\n",
      "  File \"/homes/metogra/iufarias/miniconda3/envs/XROMS/lib/python3.8/site-packages/distributed/worker.py\", line 2785, in _get_data\n",
      "    response = await send_recv(\n",
      "  File \"/homes/metogra/iufarias/miniconda3/envs/XROMS/lib/python3.8/site-packages/distributed/core.py\", line 919, in send_recv\n",
      "    response = await comm.read(deserializers=deserializers)\n",
      "  File \"/homes/metogra/iufarias/miniconda3/envs/XROMS/lib/python3.8/site-packages/distributed/comm/tcp.py\", line 241, in read\n",
      "    convert_stream_closed_error(self, e)\n",
      "  File \"/homes/metogra/iufarias/miniconda3/envs/XROMS/lib/python3.8/site-packages/distributed/comm/tcp.py\", line 144, in convert_stream_closed_error\n",
      "    raise CommClosedError(f\"in {obj}: {exc}\") from exc\n",
      "distributed.comm.core.CommClosedError: in <TCP (closed) Ephemeral Worker->Worker for gather local=tcp://127.0.0.1:37742 remote=tcp://127.0.0.1:38748>: Stream is closed\n",
      "/homes/metogra/iufarias/miniconda3/envs/XROMS/lib/python3.8/site-packages/numba/np/ufunc/gufunc.py:170: RuntimeWarning: invalid value encountered in _interp_1d_linear\n",
      "  return self.ufunc(*args, **kwargs)\n",
      "2023-03-22 15:24:48,700 - distributed.worker - ERROR - Worker stream died during communication: tcp://127.0.0.1:38748\n",
      "Traceback (most recent call last):\n",
      "  File \"/homes/metogra/iufarias/miniconda3/envs/XROMS/lib/python3.8/site-packages/distributed/comm/tcp.py\", line 235, in read\n",
      "    n = await stream.read_into(chunk)\n",
      "tornado.iostream.StreamClosedError: Stream is closed\n",
      "\n",
      "The above exception was the direct cause of the following exception:\n",
      "\n",
      "Traceback (most recent call last):\n",
      "  File \"/homes/metogra/iufarias/miniconda3/envs/XROMS/lib/python3.8/site-packages/distributed/worker.py\", line 2016, in gather_dep\n",
      "    response = await get_data_from_worker(\n",
      "  File \"/homes/metogra/iufarias/miniconda3/envs/XROMS/lib/python3.8/site-packages/distributed/worker.py\", line 2805, in get_data_from_worker\n",
      "    return await retry_operation(_get_data, operation=\"get_data_from_worker\")\n",
      "  File \"/homes/metogra/iufarias/miniconda3/envs/XROMS/lib/python3.8/site-packages/distributed/utils_comm.py\", line 383, in retry_operation\n",
      "    return await retry(\n",
      "  File \"/homes/metogra/iufarias/miniconda3/envs/XROMS/lib/python3.8/site-packages/distributed/utils_comm.py\", line 368, in retry\n",
      "    return await coro()\n",
      "  File \"/homes/metogra/iufarias/miniconda3/envs/XROMS/lib/python3.8/site-packages/distributed/worker.py\", line 2785, in _get_data\n",
      "    response = await send_recv(\n",
      "  File \"/homes/metogra/iufarias/miniconda3/envs/XROMS/lib/python3.8/site-packages/distributed/core.py\", line 919, in send_recv\n",
      "    response = await comm.read(deserializers=deserializers)\n",
      "  File \"/homes/metogra/iufarias/miniconda3/envs/XROMS/lib/python3.8/site-packages/distributed/comm/tcp.py\", line 241, in read\n",
      "    convert_stream_closed_error(self, e)\n",
      "  File \"/homes/metogra/iufarias/miniconda3/envs/XROMS/lib/python3.8/site-packages/distributed/comm/tcp.py\", line 144, in convert_stream_closed_error\n",
      "    raise CommClosedError(f\"in {obj}: {exc}\") from exc\n",
      "distributed.comm.core.CommClosedError: in <TCP (closed) Ephemeral Worker->Worker for gather local=tcp://127.0.0.1:36416 remote=tcp://127.0.0.1:38748>: Stream is closed\n",
      "2023-03-22 15:25:06,911 - distributed.nanny - WARNING - Worker process still alive after 3.1999986267089846 seconds, killing\n"
     ]
    },
    {
     "name": "stdout",
     "output_type": "stream",
     "text": [
      "CPU times: user 2min 39s, sys: 1min 34s, total: 4min 14s\n",
      "Wall time: 8min 59s\n"
     ]
    }
   ],
   "source": [
    "%%time\n",
    "\n",
    "Wti=wti[:,:,120:-120,120:800].compute()"
   ]
  },
  {
   "cell_type": "code",
   "execution_count": 114,
   "id": "04d3164e-4b95-4078-a754-9e0b1bf33ae5",
   "metadata": {},
   "outputs": [],
   "source": [
    "del Wti.attrs['grid']\n",
    "Wti.to_netcdf(\"/homes/metogra/iufarias/Documents/data/w/wti_{0}_TOTAL.nc\".format(varx.name[13:16]))"
   ]
  },
  {
   "cell_type": "code",
   "execution_count": 115,
   "id": "ab964560-6300-46c1-bce4-50b95dbf8a67",
   "metadata": {},
   "outputs": [],
   "source": [
    "nf=2\n",
    "wdws='hann' #'flattop','hann'\n",
    "wdw_cor=True\n",
    "scl='density'\n",
    "\n",
    "\n",
    "\n",
    "VBP_t=xrft.isotropic_cross_spectrum(Wti[:,1:,:,:].drop(['nav_lat_rho', 'nav_lon_rho']),\n",
    "                                    Bti[:,1:,:,:].drop(['nav_lat_rho', 'nav_lon_rho']),\n",
    "                                    dim=['xi_rho','eta_rho'],nfactor=nf,truncate='True',scaling=scl,detrend='linear', \n",
    "                                     window=wdws,window_correction=wdw_cor).real"
   ]
  },
  {
   "cell_type": "code",
   "execution_count": 116,
   "id": "5ef9ce48-683c-48fc-a4e2-48ae212aa631",
   "metadata": {},
   "outputs": [],
   "source": [
    "VBP_t[:-1].to_netcdf(\"/homes/metogra/iufarias/Documents/data/spec/VBP/VBP_t_{0}_TOTAL.nc\".format(varx.name[13:16]))"
   ]
  },
  {
   "cell_type": "code",
   "execution_count": 117,
   "id": "bf8e9d95-d27e-4543-98e6-da3ffc13a3cd",
   "metadata": {},
   "outputs": [
    {
     "data": {
      "text/plain": [
       "'M04'"
      ]
     },
     "execution_count": 117,
     "metadata": {},
     "output_type": "execute_result"
    }
   ],
   "source": [
    "varx.name[13:16]"
   ]
  },
  {
   "cell_type": "code",
   "execution_count": null,
   "id": "7969d6b6-3a08-4c8a-9146-59ffaa09808f",
   "metadata": {},
   "outputs": [],
   "source": []
  },
  {
   "cell_type": "code",
   "execution_count": 31,
   "id": "b905f459-de4c-49d1-b6ae-fea87b9128a6",
   "metadata": {},
   "outputs": [],
   "source": [
    "with ProgressBar():\n",
    "    for ix in range(len(timer_d)):\n",
    "\n",
    "        tf_i=tfi[ix,:,120:-120,120:800].compute()\n",
    "        \n",
    "\n",
    "        sf_i=sfi[ix,:,120:-120,120:800].compute()\n",
    "\n",
    "        rhof=xroms.potential_density(tf_i,sf_i)\n",
    "        bfi=xroms.buoyancy(rhof)\n",
    "        \n",
    "        del bfi.attrs['grid']\n",
    "        \n",
    "        bfi.to_netcdf(\"/homes/metogra/iufarias/Documents/data/b/bfi_{0}_{1}.nc\".format(varx.name[13:16],ix))\n",
    "        gc.collect()\n",
    "        print(ix)"
   ]
  },
  {
   "cell_type": "code",
   "execution_count": 35,
   "id": "918db2dc-2b15-49cd-8da6-74f18ebd43a4",
   "metadata": {},
   "outputs": [],
   "source": [
    "tti=dt.temp.xroms.isoslice(np.linspace(0,-50, 10))\n",
    "tti=tti.groupby(\"ocean_time.dayofyear\").mean()\n",
    "\n",
    "sti=dt.salt.xroms.isoslice(np.linspace(0,-50, 10))\n",
    "sti=sti.groupby(\"ocean_time.dayofyear\").mean()"
   ]
  },
  {
   "cell_type": "code",
   "execution_count": 36,
   "id": "3f667922-b554-4360-92e4-691d0023ade8",
   "metadata": {},
   "outputs": [
    {
     "name": "stdout",
     "output_type": "stream",
     "text": [
      "0\n",
      "1\n"
     ]
    },
    {
     "name": "stderr",
     "output_type": "stream",
     "text": [
      "2023-03-21 22:45:10,088 - distributed.worker_memory - WARNING - Worker is at 81% memory usage. Pausing worker.  Process memory: 72.98 GiB -- Worker memory limit: 89.41 GiB\n",
      "2023-03-21 22:45:21,228 - distributed.worker_memory - WARNING - Unmanaged memory use is high. This may indicate a memory leak or the memory may not be released to the OS; see https://distributed.dask.org/en/latest/worker-memory.html#memory-not-released-back-to-the-os for more information. -- Unmanaged memory: 74.17 GiB -- Worker memory limit: 89.41 GiB\n",
      "2023-03-21 22:45:21,228 - distributed.worker_memory - WARNING - Unmanaged memory use is high. This may indicate a memory leak or the memory may not be released to the OS; see https://distributed.dask.org/en/latest/worker-memory.html#memory-not-released-back-to-the-os for more information. -- Unmanaged memory: 74.17 GiB -- Worker memory limit: 89.41 GiB\n",
      "2023-03-21 22:45:21,305 - distributed.worker_memory - WARNING - Unmanaged memory use is high. This may indicate a memory leak or the memory may not be released to the OS; see https://distributed.dask.org/en/latest/worker-memory.html#memory-not-released-back-to-the-os for more information. -- Unmanaged memory: 74.18 GiB -- Worker memory limit: 89.41 GiB\n",
      "2023-03-21 22:45:21,405 - distributed.worker_memory - WARNING - Unmanaged memory use is high. This may indicate a memory leak or the memory may not be released to the OS; see https://distributed.dask.org/en/latest/worker-memory.html#memory-not-released-back-to-the-os for more information. -- Unmanaged memory: 74.19 GiB -- Worker memory limit: 89.41 GiB\n",
      "2023-03-21 22:45:21,504 - distributed.worker_memory - WARNING - Unmanaged memory use is high. This may indicate a memory leak or the memory may not be released to the OS; see https://distributed.dask.org/en/latest/worker-memory.html#memory-not-released-back-to-the-os for more information. -- Unmanaged memory: 74.20 GiB -- Worker memory limit: 89.41 GiB\n",
      "2023-03-21 22:45:21,604 - distributed.worker_memory - WARNING - Unmanaged memory use is high. This may indicate a memory leak or the memory may not be released to the OS; see https://distributed.dask.org/en/latest/worker-memory.html#memory-not-released-back-to-the-os for more information. -- Unmanaged memory: 74.21 GiB -- Worker memory limit: 89.41 GiB\n",
      "2023-03-21 22:45:21,705 - distributed.worker_memory - WARNING - Unmanaged memory use is high. This may indicate a memory leak or the memory may not be released to the OS; see https://distributed.dask.org/en/latest/worker-memory.html#memory-not-released-back-to-the-os for more information. -- Unmanaged memory: 74.22 GiB -- Worker memory limit: 89.41 GiB\n",
      "2023-03-21 22:45:21,804 - distributed.worker_memory - WARNING - Unmanaged memory use is high. This may indicate a memory leak or the memory may not be released to the OS; see https://distributed.dask.org/en/latest/worker-memory.html#memory-not-released-back-to-the-os for more information. -- Unmanaged memory: 74.23 GiB -- Worker memory limit: 89.41 GiB\n",
      "2023-03-21 22:45:21,904 - distributed.worker_memory - WARNING - Unmanaged memory use is high. This may indicate a memory leak or the memory may not be released to the OS; see https://distributed.dask.org/en/latest/worker-memory.html#memory-not-released-back-to-the-os for more information. -- Unmanaged memory: 74.24 GiB -- Worker memory limit: 89.41 GiB\n",
      "2023-03-21 22:45:22,004 - distributed.worker_memory - WARNING - Unmanaged memory use is high. This may indicate a memory leak or the memory may not be released to the OS; see https://distributed.dask.org/en/latest/worker-memory.html#memory-not-released-back-to-the-os for more information. -- Unmanaged memory: 74.25 GiB -- Worker memory limit: 89.41 GiB\n",
      "2023-03-21 22:45:22,106 - distributed.worker_memory - WARNING - Unmanaged memory use is high. This may indicate a memory leak or the memory may not be released to the OS; see https://distributed.dask.org/en/latest/worker-memory.html#memory-not-released-back-to-the-os for more information. -- Unmanaged memory: 74.26 GiB -- Worker memory limit: 89.41 GiB\n",
      "2023-03-21 22:45:22,203 - distributed.worker_memory - WARNING - Unmanaged memory use is high. This may indicate a memory leak or the memory may not be released to the OS; see https://distributed.dask.org/en/latest/worker-memory.html#memory-not-released-back-to-the-os for more information. -- Unmanaged memory: 74.27 GiB -- Worker memory limit: 89.41 GiB\n",
      "2023-03-21 22:45:22,305 - distributed.worker_memory - WARNING - Unmanaged memory use is high. This may indicate a memory leak or the memory may not be released to the OS; see https://distributed.dask.org/en/latest/worker-memory.html#memory-not-released-back-to-the-os for more information. -- Unmanaged memory: 74.28 GiB -- Worker memory limit: 89.41 GiB\n",
      "2023-03-21 22:45:22,405 - distributed.worker_memory - WARNING - Unmanaged memory use is high. This may indicate a memory leak or the memory may not be released to the OS; see https://distributed.dask.org/en/latest/worker-memory.html#memory-not-released-back-to-the-os for more information. -- Unmanaged memory: 74.29 GiB -- Worker memory limit: 89.41 GiB\n",
      "2023-03-21 22:45:22,504 - distributed.worker_memory - WARNING - Unmanaged memory use is high. This may indicate a memory leak or the memory may not be released to the OS; see https://distributed.dask.org/en/latest/worker-memory.html#memory-not-released-back-to-the-os for more information. -- Unmanaged memory: 74.29 GiB -- Worker memory limit: 89.41 GiB\n",
      "2023-03-21 22:45:22,604 - distributed.worker_memory - WARNING - Unmanaged memory use is high. This may indicate a memory leak or the memory may not be released to the OS; see https://distributed.dask.org/en/latest/worker-memory.html#memory-not-released-back-to-the-os for more information. -- Unmanaged memory: 74.30 GiB -- Worker memory limit: 89.41 GiB\n",
      "2023-03-21 22:45:22,705 - distributed.worker_memory - WARNING - Unmanaged memory use is high. This may indicate a memory leak or the memory may not be released to the OS; see https://distributed.dask.org/en/latest/worker-memory.html#memory-not-released-back-to-the-os for more information. -- Unmanaged memory: 74.31 GiB -- Worker memory limit: 89.41 GiB\n",
      "2023-03-21 22:45:22,805 - distributed.worker_memory - WARNING - Unmanaged memory use is high. This may indicate a memory leak or the memory may not be released to the OS; see https://distributed.dask.org/en/latest/worker-memory.html#memory-not-released-back-to-the-os for more information. -- Unmanaged memory: 74.32 GiB -- Worker memory limit: 89.41 GiB\n",
      "2023-03-21 22:45:22,904 - distributed.worker_memory - WARNING - Unmanaged memory use is high. This may indicate a memory leak or the memory may not be released to the OS; see https://distributed.dask.org/en/latest/worker-memory.html#memory-not-released-back-to-the-os for more information. -- Unmanaged memory: 74.33 GiB -- Worker memory limit: 89.41 GiB\n",
      "2023-03-21 22:45:23,004 - distributed.worker_memory - WARNING - Unmanaged memory use is high. This may indicate a memory leak or the memory may not be released to the OS; see https://distributed.dask.org/en/latest/worker-memory.html#memory-not-released-back-to-the-os for more information. -- Unmanaged memory: 74.34 GiB -- Worker memory limit: 89.41 GiB\n",
      "2023-03-21 22:45:23,104 - distributed.worker_memory - WARNING - Unmanaged memory use is high. This may indicate a memory leak or the memory may not be released to the OS; see https://distributed.dask.org/en/latest/worker-memory.html#memory-not-released-back-to-the-os for more information. -- Unmanaged memory: 74.35 GiB -- Worker memory limit: 89.41 GiB\n",
      "2023-03-21 22:45:23,205 - distributed.worker_memory - WARNING - Unmanaged memory use is high. This may indicate a memory leak or the memory may not be released to the OS; see https://distributed.dask.org/en/latest/worker-memory.html#memory-not-released-back-to-the-os for more information. -- Unmanaged memory: 74.36 GiB -- Worker memory limit: 89.41 GiB\n",
      "2023-03-21 22:45:23,305 - distributed.worker_memory - WARNING - Unmanaged memory use is high. This may indicate a memory leak or the memory may not be released to the OS; see https://distributed.dask.org/en/latest/worker-memory.html#memory-not-released-back-to-the-os for more information. -- Unmanaged memory: 74.37 GiB -- Worker memory limit: 89.41 GiB\n",
      "2023-03-21 22:45:23,404 - distributed.worker_memory - WARNING - Unmanaged memory use is high. This may indicate a memory leak or the memory may not be released to the OS; see https://distributed.dask.org/en/latest/worker-memory.html#memory-not-released-back-to-the-os for more information. -- Unmanaged memory: 74.38 GiB -- Worker memory limit: 89.41 GiB\n",
      "2023-03-21 22:45:23,504 - distributed.worker_memory - WARNING - Unmanaged memory use is high. This may indicate a memory leak or the memory may not be released to the OS; see https://distributed.dask.org/en/latest/worker-memory.html#memory-not-released-back-to-the-os for more information. -- Unmanaged memory: 74.39 GiB -- Worker memory limit: 89.41 GiB\n",
      "2023-03-21 22:45:23,606 - distributed.worker_memory - WARNING - Unmanaged memory use is high. This may indicate a memory leak or the memory may not be released to the OS; see https://distributed.dask.org/en/latest/worker-memory.html#memory-not-released-back-to-the-os for more information. -- Unmanaged memory: 74.40 GiB -- Worker memory limit: 89.41 GiB\n",
      "2023-03-21 22:45:23,704 - distributed.worker_memory - WARNING - Unmanaged memory use is high. This may indicate a memory leak or the memory may not be released to the OS; see https://distributed.dask.org/en/latest/worker-memory.html#memory-not-released-back-to-the-os for more information. -- Unmanaged memory: 74.41 GiB -- Worker memory limit: 89.41 GiB\n",
      "2023-03-21 22:45:23,805 - distributed.worker_memory - WARNING - Unmanaged memory use is high. This may indicate a memory leak or the memory may not be released to the OS; see https://distributed.dask.org/en/latest/worker-memory.html#memory-not-released-back-to-the-os for more information. -- Unmanaged memory: 74.42 GiB -- Worker memory limit: 89.41 GiB\n",
      "2023-03-21 22:45:23,905 - distributed.worker_memory - WARNING - Unmanaged memory use is high. This may indicate a memory leak or the memory may not be released to the OS; see https://distributed.dask.org/en/latest/worker-memory.html#memory-not-released-back-to-the-os for more information. -- Unmanaged memory: 74.43 GiB -- Worker memory limit: 89.41 GiB\n",
      "2023-03-21 22:45:24,005 - distributed.worker_memory - WARNING - Unmanaged memory use is high. This may indicate a memory leak or the memory may not be released to the OS; see https://distributed.dask.org/en/latest/worker-memory.html#memory-not-released-back-to-the-os for more information. -- Unmanaged memory: 74.44 GiB -- Worker memory limit: 89.41 GiB\n",
      "2023-03-21 22:45:24,105 - distributed.worker_memory - WARNING - Unmanaged memory use is high. This may indicate a memory leak or the memory may not be released to the OS; see https://distributed.dask.org/en/latest/worker-memory.html#memory-not-released-back-to-the-os for more information. -- Unmanaged memory: 74.45 GiB -- Worker memory limit: 89.41 GiB\n",
      "2023-03-21 22:45:24,203 - distributed.worker_memory - WARNING - Unmanaged memory use is high. This may indicate a memory leak or the memory may not be released to the OS; see https://distributed.dask.org/en/latest/worker-memory.html#memory-not-released-back-to-the-os for more information. -- Unmanaged memory: 74.46 GiB -- Worker memory limit: 89.41 GiB\n",
      "2023-03-21 22:45:24,305 - distributed.worker_memory - WARNING - Unmanaged memory use is high. This may indicate a memory leak or the memory may not be released to the OS; see https://distributed.dask.org/en/latest/worker-memory.html#memory-not-released-back-to-the-os for more information. -- Unmanaged memory: 74.47 GiB -- Worker memory limit: 89.41 GiB\n",
      "2023-03-21 22:45:24,405 - distributed.worker_memory - WARNING - Unmanaged memory use is high. This may indicate a memory leak or the memory may not be released to the OS; see https://distributed.dask.org/en/latest/worker-memory.html#memory-not-released-back-to-the-os for more information. -- Unmanaged memory: 74.48 GiB -- Worker memory limit: 89.41 GiB\n",
      "2023-03-21 22:45:24,504 - distributed.worker_memory - WARNING - Unmanaged memory use is high. This may indicate a memory leak or the memory may not be released to the OS; see https://distributed.dask.org/en/latest/worker-memory.html#memory-not-released-back-to-the-os for more information. -- Unmanaged memory: 74.49 GiB -- Worker memory limit: 89.41 GiB\n",
      "2023-03-21 22:45:24,604 - distributed.worker_memory - WARNING - Unmanaged memory use is high. This may indicate a memory leak or the memory may not be released to the OS; see https://distributed.dask.org/en/latest/worker-memory.html#memory-not-released-back-to-the-os for more information. -- Unmanaged memory: 74.50 GiB -- Worker memory limit: 89.41 GiB\n",
      "2023-03-21 22:45:24,705 - distributed.worker_memory - WARNING - Unmanaged memory use is high. This may indicate a memory leak or the memory may not be released to the OS; see https://distributed.dask.org/en/latest/worker-memory.html#memory-not-released-back-to-the-os for more information. -- Unmanaged memory: 74.51 GiB -- Worker memory limit: 89.41 GiB\n",
      "2023-03-21 22:45:24,804 - distributed.worker_memory - WARNING - Unmanaged memory use is high. This may indicate a memory leak or the memory may not be released to the OS; see https://distributed.dask.org/en/latest/worker-memory.html#memory-not-released-back-to-the-os for more information. -- Unmanaged memory: 74.52 GiB -- Worker memory limit: 89.41 GiB\n",
      "2023-03-21 22:45:24,904 - distributed.worker_memory - WARNING - Unmanaged memory use is high. This may indicate a memory leak or the memory may not be released to the OS; see https://distributed.dask.org/en/latest/worker-memory.html#memory-not-released-back-to-the-os for more information. -- Unmanaged memory: 74.53 GiB -- Worker memory limit: 89.41 GiB\n",
      "2023-03-21 22:45:25,004 - distributed.worker_memory - WARNING - Unmanaged memory use is high. This may indicate a memory leak or the memory may not be released to the OS; see https://distributed.dask.org/en/latest/worker-memory.html#memory-not-released-back-to-the-os for more information. -- Unmanaged memory: 74.54 GiB -- Worker memory limit: 89.41 GiB\n",
      "2023-03-21 22:45:25,106 - distributed.worker_memory - WARNING - Unmanaged memory use is high. This may indicate a memory leak or the memory may not be released to the OS; see https://distributed.dask.org/en/latest/worker-memory.html#memory-not-released-back-to-the-os for more information. -- Unmanaged memory: 74.54 GiB -- Worker memory limit: 89.41 GiB\n",
      "2023-03-21 22:45:25,203 - distributed.worker_memory - WARNING - Unmanaged memory use is high. This may indicate a memory leak or the memory may not be released to the OS; see https://distributed.dask.org/en/latest/worker-memory.html#memory-not-released-back-to-the-os for more information. -- Unmanaged memory: 74.56 GiB -- Worker memory limit: 89.41 GiB\n",
      "2023-03-21 22:45:25,305 - distributed.worker_memory - WARNING - Unmanaged memory use is high. This may indicate a memory leak or the memory may not be released to the OS; see https://distributed.dask.org/en/latest/worker-memory.html#memory-not-released-back-to-the-os for more information. -- Unmanaged memory: 74.56 GiB -- Worker memory limit: 89.41 GiB\n",
      "2023-03-21 22:45:25,405 - distributed.worker_memory - WARNING - Unmanaged memory use is high. This may indicate a memory leak or the memory may not be released to the OS; see https://distributed.dask.org/en/latest/worker-memory.html#memory-not-released-back-to-the-os for more information. -- Unmanaged memory: 74.58 GiB -- Worker memory limit: 89.41 GiB\n",
      "2023-03-21 22:45:25,504 - distributed.worker_memory - WARNING - Unmanaged memory use is high. This may indicate a memory leak or the memory may not be released to the OS; see https://distributed.dask.org/en/latest/worker-memory.html#memory-not-released-back-to-the-os for more information. -- Unmanaged memory: 74.58 GiB -- Worker memory limit: 89.41 GiB\n",
      "2023-03-21 22:45:25,604 - distributed.worker_memory - WARNING - Unmanaged memory use is high. This may indicate a memory leak or the memory may not be released to the OS; see https://distributed.dask.org/en/latest/worker-memory.html#memory-not-released-back-to-the-os for more information. -- Unmanaged memory: 74.60 GiB -- Worker memory limit: 89.41 GiB\n",
      "2023-03-21 22:45:25,704 - distributed.worker_memory - WARNING - Unmanaged memory use is high. This may indicate a memory leak or the memory may not be released to the OS; see https://distributed.dask.org/en/latest/worker-memory.html#memory-not-released-back-to-the-os for more information. -- Unmanaged memory: 74.60 GiB -- Worker memory limit: 89.41 GiB\n",
      "2023-03-21 22:45:25,804 - distributed.worker_memory - WARNING - Unmanaged memory use is high. This may indicate a memory leak or the memory may not be released to the OS; see https://distributed.dask.org/en/latest/worker-memory.html#memory-not-released-back-to-the-os for more information. -- Unmanaged memory: 74.61 GiB -- Worker memory limit: 89.41 GiB\n",
      "2023-03-21 22:45:25,903 - distributed.worker_memory - WARNING - Unmanaged memory use is high. This may indicate a memory leak or the memory may not be released to the OS; see https://distributed.dask.org/en/latest/worker-memory.html#memory-not-released-back-to-the-os for more information. -- Unmanaged memory: 74.62 GiB -- Worker memory limit: 89.41 GiB\n",
      "2023-03-21 22:45:26,005 - distributed.worker_memory - WARNING - Unmanaged memory use is high. This may indicate a memory leak or the memory may not be released to the OS; see https://distributed.dask.org/en/latest/worker-memory.html#memory-not-released-back-to-the-os for more information. -- Unmanaged memory: 74.63 GiB -- Worker memory limit: 89.41 GiB\n",
      "2023-03-21 22:45:26,105 - distributed.worker_memory - WARNING - Unmanaged memory use is high. This may indicate a memory leak or the memory may not be released to the OS; see https://distributed.dask.org/en/latest/worker-memory.html#memory-not-released-back-to-the-os for more information. -- Unmanaged memory: 74.64 GiB -- Worker memory limit: 89.41 GiB\n",
      "2023-03-21 22:45:26,204 - distributed.worker_memory - WARNING - Unmanaged memory use is high. This may indicate a memory leak or the memory may not be released to the OS; see https://distributed.dask.org/en/latest/worker-memory.html#memory-not-released-back-to-the-os for more information. -- Unmanaged memory: 74.65 GiB -- Worker memory limit: 89.41 GiB\n",
      "2023-03-21 22:45:26,303 - distributed.worker_memory - WARNING - Unmanaged memory use is high. This may indicate a memory leak or the memory may not be released to the OS; see https://distributed.dask.org/en/latest/worker-memory.html#memory-not-released-back-to-the-os for more information. -- Unmanaged memory: 74.66 GiB -- Worker memory limit: 89.41 GiB\n",
      "2023-03-21 22:45:26,405 - distributed.worker_memory - WARNING - Unmanaged memory use is high. This may indicate a memory leak or the memory may not be released to the OS; see https://distributed.dask.org/en/latest/worker-memory.html#memory-not-released-back-to-the-os for more information. -- Unmanaged memory: 74.67 GiB -- Worker memory limit: 89.41 GiB\n",
      "2023-03-21 22:45:26,505 - distributed.worker_memory - WARNING - Unmanaged memory use is high. This may indicate a memory leak or the memory may not be released to the OS; see https://distributed.dask.org/en/latest/worker-memory.html#memory-not-released-back-to-the-os for more information. -- Unmanaged memory: 74.68 GiB -- Worker memory limit: 89.41 GiB\n",
      "2023-03-21 22:45:26,605 - distributed.worker_memory - WARNING - Unmanaged memory use is high. This may indicate a memory leak or the memory may not be released to the OS; see https://distributed.dask.org/en/latest/worker-memory.html#memory-not-released-back-to-the-os for more information. -- Unmanaged memory: 74.69 GiB -- Worker memory limit: 89.41 GiB\n",
      "2023-03-21 22:45:26,705 - distributed.worker_memory - WARNING - Unmanaged memory use is high. This may indicate a memory leak or the memory may not be released to the OS; see https://distributed.dask.org/en/latest/worker-memory.html#memory-not-released-back-to-the-os for more information. -- Unmanaged memory: 74.70 GiB -- Worker memory limit: 89.41 GiB\n",
      "2023-03-21 22:45:26,804 - distributed.worker_memory - WARNING - Unmanaged memory use is high. This may indicate a memory leak or the memory may not be released to the OS; see https://distributed.dask.org/en/latest/worker-memory.html#memory-not-released-back-to-the-os for more information. -- Unmanaged memory: 74.71 GiB -- Worker memory limit: 89.41 GiB\n",
      "2023-03-21 22:45:26,904 - distributed.worker_memory - WARNING - Unmanaged memory use is high. This may indicate a memory leak or the memory may not be released to the OS; see https://distributed.dask.org/en/latest/worker-memory.html#memory-not-released-back-to-the-os for more information. -- Unmanaged memory: 74.72 GiB -- Worker memory limit: 89.41 GiB\n",
      "2023-03-21 22:45:27,003 - distributed.worker_memory - WARNING - Unmanaged memory use is high. This may indicate a memory leak or the memory may not be released to the OS; see https://distributed.dask.org/en/latest/worker-memory.html#memory-not-released-back-to-the-os for more information. -- Unmanaged memory: 74.73 GiB -- Worker memory limit: 89.41 GiB\n",
      "/homes/metogra/iufarias/miniconda3/envs/XROMS/lib/python3.8/site-packages/numba/np/ufunc/gufunc.py:170: RuntimeWarning: invalid value encountered in _interp_1d_linear\n",
      "  return self.ufunc(*args, **kwargs)\n",
      "2023-03-21 22:45:27,108 - distributed.worker_memory - WARNING - Worker is at 57% memory usage. Resuming worker. Process memory: 51.08 GiB -- Worker memory limit: 89.41 GiB\n"
     ]
    },
    {
     "name": "stdout",
     "output_type": "stream",
     "text": [
      "2\n",
      "3\n",
      "4\n"
     ]
    },
    {
     "name": "stderr",
     "output_type": "stream",
     "text": [
      "2023-03-21 22:48:56,343 - distributed.worker_memory - WARNING - Worker is at 81% memory usage. Pausing worker.  Process memory: 73.09 GiB -- Worker memory limit: 89.41 GiB\n",
      "2023-03-21 22:49:03,948 - distributed.worker_memory - WARNING - Worker tcp://127.0.0.1:36179 (pid=32120) exceeded 95% memory budget. Restarting...\n",
      "2023-03-21 22:49:05,251 - distributed.nanny - WARNING - Restarting worker\n",
      "2023-03-21 22:49:21,839 - distributed.worker_memory - WARNING - Worker is at 81% memory usage. Pausing worker.  Process memory: 73.03 GiB -- Worker memory limit: 89.41 GiB\n",
      "2023-03-21 22:49:29,547 - distributed.worker_memory - WARNING - Worker tcp://127.0.0.1:34323 (pid=31749) exceeded 95% memory budget. Restarting...\n",
      "2023-03-21 22:49:30,885 - distributed.nanny - WARNING - Restarting worker\n",
      "2023-03-21 22:49:49,131 - distributed.worker_memory - WARNING - Worker is at 81% memory usage. Pausing worker.  Process memory: 73.05 GiB -- Worker memory limit: 89.41 GiB\n",
      "2023-03-21 22:49:56,788 - distributed.worker_memory - WARNING - Worker tcp://127.0.0.1:40399 (pid=32287) exceeded 95% memory budget. Restarting...\n",
      "2023-03-21 22:49:58,222 - distributed.nanny - WARNING - Restarting worker\n",
      "2023-03-21 22:50:14,633 - distributed.worker_memory - WARNING - Worker is at 81% memory usage. Pausing worker.  Process memory: 73.06 GiB -- Worker memory limit: 89.41 GiB\n",
      "2023-03-21 22:50:25,640 - distributed.worker_memory - WARNING - Unmanaged memory use is high. This may indicate a memory leak or the memory may not be released to the OS; see https://distributed.dask.org/en/latest/worker-memory.html#memory-not-released-back-to-the-os for more information. -- Unmanaged memory: 74.37 GiB -- Worker memory limit: 89.41 GiB\n",
      "2023-03-21 22:50:25,640 - distributed.worker_memory - WARNING - Unmanaged memory use is high. This may indicate a memory leak or the memory may not be released to the OS; see https://distributed.dask.org/en/latest/worker-memory.html#memory-not-released-back-to-the-os for more information. -- Unmanaged memory: 74.37 GiB -- Worker memory limit: 89.41 GiB\n",
      "2023-03-21 22:50:25,698 - distributed.worker_memory - WARNING - Unmanaged memory use is high. This may indicate a memory leak or the memory may not be released to the OS; see https://distributed.dask.org/en/latest/worker-memory.html#memory-not-released-back-to-the-os for more information. -- Unmanaged memory: 74.37 GiB -- Worker memory limit: 89.41 GiB\n",
      "2023-03-21 22:50:25,798 - distributed.worker_memory - WARNING - Unmanaged memory use is high. This may indicate a memory leak or the memory may not be released to the OS; see https://distributed.dask.org/en/latest/worker-memory.html#memory-not-released-back-to-the-os for more information. -- Unmanaged memory: 74.38 GiB -- Worker memory limit: 89.41 GiB\n",
      "2023-03-21 22:50:25,897 - distributed.worker_memory - WARNING - Unmanaged memory use is high. This may indicate a memory leak or the memory may not be released to the OS; see https://distributed.dask.org/en/latest/worker-memory.html#memory-not-released-back-to-the-os for more information. -- Unmanaged memory: 74.39 GiB -- Worker memory limit: 89.41 GiB\n",
      "2023-03-21 22:50:25,998 - distributed.worker_memory - WARNING - Unmanaged memory use is high. This may indicate a memory leak or the memory may not be released to the OS; see https://distributed.dask.org/en/latest/worker-memory.html#memory-not-released-back-to-the-os for more information. -- Unmanaged memory: 74.40 GiB -- Worker memory limit: 89.41 GiB\n",
      "2023-03-21 22:50:26,098 - distributed.worker_memory - WARNING - Unmanaged memory use is high. This may indicate a memory leak or the memory may not be released to the OS; see https://distributed.dask.org/en/latest/worker-memory.html#memory-not-released-back-to-the-os for more information. -- Unmanaged memory: 74.41 GiB -- Worker memory limit: 89.41 GiB\n",
      "2023-03-21 22:50:26,197 - distributed.worker_memory - WARNING - Unmanaged memory use is high. This may indicate a memory leak or the memory may not be released to the OS; see https://distributed.dask.org/en/latest/worker-memory.html#memory-not-released-back-to-the-os for more information. -- Unmanaged memory: 74.42 GiB -- Worker memory limit: 89.41 GiB\n",
      "2023-03-21 22:50:26,297 - distributed.worker_memory - WARNING - Unmanaged memory use is high. This may indicate a memory leak or the memory may not be released to the OS; see https://distributed.dask.org/en/latest/worker-memory.html#memory-not-released-back-to-the-os for more information. -- Unmanaged memory: 74.43 GiB -- Worker memory limit: 89.41 GiB\n",
      "2023-03-21 22:50:26,399 - distributed.worker_memory - WARNING - Unmanaged memory use is high. This may indicate a memory leak or the memory may not be released to the OS; see https://distributed.dask.org/en/latest/worker-memory.html#memory-not-released-back-to-the-os for more information. -- Unmanaged memory: 74.44 GiB -- Worker memory limit: 89.41 GiB\n",
      "2023-03-21 22:50:26,499 - distributed.worker_memory - WARNING - Unmanaged memory use is high. This may indicate a memory leak or the memory may not be released to the OS; see https://distributed.dask.org/en/latest/worker-memory.html#memory-not-released-back-to-the-os for more information. -- Unmanaged memory: 74.45 GiB -- Worker memory limit: 89.41 GiB\n",
      "2023-03-21 22:50:26,598 - distributed.worker_memory - WARNING - Unmanaged memory use is high. This may indicate a memory leak or the memory may not be released to the OS; see https://distributed.dask.org/en/latest/worker-memory.html#memory-not-released-back-to-the-os for more information. -- Unmanaged memory: 74.46 GiB -- Worker memory limit: 89.41 GiB\n",
      "2023-03-21 22:50:26,698 - distributed.worker_memory - WARNING - Unmanaged memory use is high. This may indicate a memory leak or the memory may not be released to the OS; see https://distributed.dask.org/en/latest/worker-memory.html#memory-not-released-back-to-the-os for more information. -- Unmanaged memory: 74.47 GiB -- Worker memory limit: 89.41 GiB\n",
      "2023-03-21 22:50:26,797 - distributed.worker_memory - WARNING - Unmanaged memory use is high. This may indicate a memory leak or the memory may not be released to the OS; see https://distributed.dask.org/en/latest/worker-memory.html#memory-not-released-back-to-the-os for more information. -- Unmanaged memory: 74.48 GiB -- Worker memory limit: 89.41 GiB\n",
      "2023-03-21 22:50:26,899 - distributed.worker_memory - WARNING - Unmanaged memory use is high. This may indicate a memory leak or the memory may not be released to the OS; see https://distributed.dask.org/en/latest/worker-memory.html#memory-not-released-back-to-the-os for more information. -- Unmanaged memory: 74.49 GiB -- Worker memory limit: 89.41 GiB\n",
      "2023-03-21 22:50:26,999 - distributed.worker_memory - WARNING - Unmanaged memory use is high. This may indicate a memory leak or the memory may not be released to the OS; see https://distributed.dask.org/en/latest/worker-memory.html#memory-not-released-back-to-the-os for more information. -- Unmanaged memory: 74.50 GiB -- Worker memory limit: 89.41 GiB\n",
      "2023-03-21 22:50:27,098 - distributed.worker_memory - WARNING - Unmanaged memory use is high. This may indicate a memory leak or the memory may not be released to the OS; see https://distributed.dask.org/en/latest/worker-memory.html#memory-not-released-back-to-the-os for more information. -- Unmanaged memory: 74.51 GiB -- Worker memory limit: 89.41 GiB\n",
      "2023-03-21 22:50:27,198 - distributed.worker_memory - WARNING - Unmanaged memory use is high. This may indicate a memory leak or the memory may not be released to the OS; see https://distributed.dask.org/en/latest/worker-memory.html#memory-not-released-back-to-the-os for more information. -- Unmanaged memory: 74.52 GiB -- Worker memory limit: 89.41 GiB\n",
      "2023-03-21 22:50:27,298 - distributed.worker_memory - WARNING - Unmanaged memory use is high. This may indicate a memory leak or the memory may not be released to the OS; see https://distributed.dask.org/en/latest/worker-memory.html#memory-not-released-back-to-the-os for more information. -- Unmanaged memory: 74.53 GiB -- Worker memory limit: 89.41 GiB\n",
      "2023-03-21 22:50:27,397 - distributed.worker_memory - WARNING - Unmanaged memory use is high. This may indicate a memory leak or the memory may not be released to the OS; see https://distributed.dask.org/en/latest/worker-memory.html#memory-not-released-back-to-the-os for more information. -- Unmanaged memory: 74.54 GiB -- Worker memory limit: 89.41 GiB\n",
      "2023-03-21 22:50:27,499 - distributed.worker_memory - WARNING - Unmanaged memory use is high. This may indicate a memory leak or the memory may not be released to the OS; see https://distributed.dask.org/en/latest/worker-memory.html#memory-not-released-back-to-the-os for more information. -- Unmanaged memory: 74.55 GiB -- Worker memory limit: 89.41 GiB\n",
      "2023-03-21 22:50:27,598 - distributed.worker_memory - WARNING - Unmanaged memory use is high. This may indicate a memory leak or the memory may not be released to the OS; see https://distributed.dask.org/en/latest/worker-memory.html#memory-not-released-back-to-the-os for more information. -- Unmanaged memory: 74.56 GiB -- Worker memory limit: 89.41 GiB\n",
      "2023-03-21 22:50:27,698 - distributed.worker_memory - WARNING - Unmanaged memory use is high. This may indicate a memory leak or the memory may not be released to the OS; see https://distributed.dask.org/en/latest/worker-memory.html#memory-not-released-back-to-the-os for more information. -- Unmanaged memory: 74.57 GiB -- Worker memory limit: 89.41 GiB\n",
      "2023-03-21 22:50:27,797 - distributed.worker_memory - WARNING - Unmanaged memory use is high. This may indicate a memory leak or the memory may not be released to the OS; see https://distributed.dask.org/en/latest/worker-memory.html#memory-not-released-back-to-the-os for more information. -- Unmanaged memory: 74.58 GiB -- Worker memory limit: 89.41 GiB\n",
      "2023-03-21 22:50:27,898 - distributed.worker_memory - WARNING - Unmanaged memory use is high. This may indicate a memory leak or the memory may not be released to the OS; see https://distributed.dask.org/en/latest/worker-memory.html#memory-not-released-back-to-the-os for more information. -- Unmanaged memory: 74.59 GiB -- Worker memory limit: 89.41 GiB\n",
      "2023-03-21 22:50:27,999 - distributed.worker_memory - WARNING - Unmanaged memory use is high. This may indicate a memory leak or the memory may not be released to the OS; see https://distributed.dask.org/en/latest/worker-memory.html#memory-not-released-back-to-the-os for more information. -- Unmanaged memory: 74.60 GiB -- Worker memory limit: 89.41 GiB\n",
      "2023-03-21 22:50:28,098 - distributed.worker_memory - WARNING - Unmanaged memory use is high. This may indicate a memory leak or the memory may not be released to the OS; see https://distributed.dask.org/en/latest/worker-memory.html#memory-not-released-back-to-the-os for more information. -- Unmanaged memory: 74.61 GiB -- Worker memory limit: 89.41 GiB\n",
      "2023-03-21 22:50:28,198 - distributed.worker_memory - WARNING - Unmanaged memory use is high. This may indicate a memory leak or the memory may not be released to the OS; see https://distributed.dask.org/en/latest/worker-memory.html#memory-not-released-back-to-the-os for more information. -- Unmanaged memory: 74.62 GiB -- Worker memory limit: 89.41 GiB\n",
      "2023-03-21 22:50:28,298 - distributed.worker_memory - WARNING - Unmanaged memory use is high. This may indicate a memory leak or the memory may not be released to the OS; see https://distributed.dask.org/en/latest/worker-memory.html#memory-not-released-back-to-the-os for more information. -- Unmanaged memory: 74.63 GiB -- Worker memory limit: 89.41 GiB\n",
      "2023-03-21 22:50:28,397 - distributed.worker_memory - WARNING - Unmanaged memory use is high. This may indicate a memory leak or the memory may not be released to the OS; see https://distributed.dask.org/en/latest/worker-memory.html#memory-not-released-back-to-the-os for more information. -- Unmanaged memory: 74.64 GiB -- Worker memory limit: 89.41 GiB\n",
      "2023-03-21 22:50:28,497 - distributed.worker_memory - WARNING - Unmanaged memory use is high. This may indicate a memory leak or the memory may not be released to the OS; see https://distributed.dask.org/en/latest/worker-memory.html#memory-not-released-back-to-the-os for more information. -- Unmanaged memory: 74.65 GiB -- Worker memory limit: 89.41 GiB\n",
      "2023-03-21 22:50:28,599 - distributed.worker_memory - WARNING - Unmanaged memory use is high. This may indicate a memory leak or the memory may not be released to the OS; see https://distributed.dask.org/en/latest/worker-memory.html#memory-not-released-back-to-the-os for more information. -- Unmanaged memory: 74.66 GiB -- Worker memory limit: 89.41 GiB\n",
      "2023-03-21 22:50:28,698 - distributed.worker_memory - WARNING - Unmanaged memory use is high. This may indicate a memory leak or the memory may not be released to the OS; see https://distributed.dask.org/en/latest/worker-memory.html#memory-not-released-back-to-the-os for more information. -- Unmanaged memory: 74.67 GiB -- Worker memory limit: 89.41 GiB\n",
      "2023-03-21 22:50:28,798 - distributed.worker_memory - WARNING - Unmanaged memory use is high. This may indicate a memory leak or the memory may not be released to the OS; see https://distributed.dask.org/en/latest/worker-memory.html#memory-not-released-back-to-the-os for more information. -- Unmanaged memory: 74.68 GiB -- Worker memory limit: 89.41 GiB\n",
      "2023-03-21 22:50:28,898 - distributed.worker_memory - WARNING - Unmanaged memory use is high. This may indicate a memory leak or the memory may not be released to the OS; see https://distributed.dask.org/en/latest/worker-memory.html#memory-not-released-back-to-the-os for more information. -- Unmanaged memory: 74.69 GiB -- Worker memory limit: 89.41 GiB\n",
      "2023-03-21 22:50:28,999 - distributed.worker_memory - WARNING - Unmanaged memory use is high. This may indicate a memory leak or the memory may not be released to the OS; see https://distributed.dask.org/en/latest/worker-memory.html#memory-not-released-back-to-the-os for more information. -- Unmanaged memory: 74.70 GiB -- Worker memory limit: 89.41 GiB\n",
      "2023-03-21 22:50:29,098 - distributed.worker_memory - WARNING - Unmanaged memory use is high. This may indicate a memory leak or the memory may not be released to the OS; see https://distributed.dask.org/en/latest/worker-memory.html#memory-not-released-back-to-the-os for more information. -- Unmanaged memory: 74.71 GiB -- Worker memory limit: 89.41 GiB\n",
      "2023-03-21 22:50:29,198 - distributed.worker_memory - WARNING - Unmanaged memory use is high. This may indicate a memory leak or the memory may not be released to the OS; see https://distributed.dask.org/en/latest/worker-memory.html#memory-not-released-back-to-the-os for more information. -- Unmanaged memory: 74.72 GiB -- Worker memory limit: 89.41 GiB\n",
      "2023-03-21 22:50:29,298 - distributed.worker_memory - WARNING - Unmanaged memory use is high. This may indicate a memory leak or the memory may not be released to the OS; see https://distributed.dask.org/en/latest/worker-memory.html#memory-not-released-back-to-the-os for more information. -- Unmanaged memory: 74.73 GiB -- Worker memory limit: 89.41 GiB\n",
      "2023-03-21 22:50:29,397 - distributed.worker_memory - WARNING - Unmanaged memory use is high. This may indicate a memory leak or the memory may not be released to the OS; see https://distributed.dask.org/en/latest/worker-memory.html#memory-not-released-back-to-the-os for more information. -- Unmanaged memory: 74.74 GiB -- Worker memory limit: 89.41 GiB\n",
      "2023-03-21 22:50:29,498 - distributed.worker_memory - WARNING - Unmanaged memory use is high. This may indicate a memory leak or the memory may not be released to the OS; see https://distributed.dask.org/en/latest/worker-memory.html#memory-not-released-back-to-the-os for more information. -- Unmanaged memory: 74.75 GiB -- Worker memory limit: 89.41 GiB\n",
      "2023-03-21 22:50:29,598 - distributed.worker_memory - WARNING - Unmanaged memory use is high. This may indicate a memory leak or the memory may not be released to the OS; see https://distributed.dask.org/en/latest/worker-memory.html#memory-not-released-back-to-the-os for more information. -- Unmanaged memory: 74.76 GiB -- Worker memory limit: 89.41 GiB\n",
      "2023-03-21 22:50:29,698 - distributed.worker_memory - WARNING - Unmanaged memory use is high. This may indicate a memory leak or the memory may not be released to the OS; see https://distributed.dask.org/en/latest/worker-memory.html#memory-not-released-back-to-the-os for more information. -- Unmanaged memory: 74.78 GiB -- Worker memory limit: 89.41 GiB\n",
      "2023-03-21 22:50:29,797 - distributed.worker_memory - WARNING - Unmanaged memory use is high. This may indicate a memory leak or the memory may not be released to the OS; see https://distributed.dask.org/en/latest/worker-memory.html#memory-not-released-back-to-the-os for more information. -- Unmanaged memory: 74.78 GiB -- Worker memory limit: 89.41 GiB\n",
      "2023-03-21 22:50:29,899 - distributed.worker_memory - WARNING - Unmanaged memory use is high. This may indicate a memory leak or the memory may not be released to the OS; see https://distributed.dask.org/en/latest/worker-memory.html#memory-not-released-back-to-the-os for more information. -- Unmanaged memory: 74.79 GiB -- Worker memory limit: 89.41 GiB\n",
      "2023-03-21 22:50:29,999 - distributed.worker_memory - WARNING - Unmanaged memory use is high. This may indicate a memory leak or the memory may not be released to the OS; see https://distributed.dask.org/en/latest/worker-memory.html#memory-not-released-back-to-the-os for more information. -- Unmanaged memory: 74.80 GiB -- Worker memory limit: 89.41 GiB\n",
      "2023-03-21 22:50:30,098 - distributed.worker_memory - WARNING - Unmanaged memory use is high. This may indicate a memory leak or the memory may not be released to the OS; see https://distributed.dask.org/en/latest/worker-memory.html#memory-not-released-back-to-the-os for more information. -- Unmanaged memory: 74.81 GiB -- Worker memory limit: 89.41 GiB\n",
      "2023-03-21 22:50:30,198 - distributed.worker_memory - WARNING - Unmanaged memory use is high. This may indicate a memory leak or the memory may not be released to the OS; see https://distributed.dask.org/en/latest/worker-memory.html#memory-not-released-back-to-the-os for more information. -- Unmanaged memory: 74.82 GiB -- Worker memory limit: 89.41 GiB\n",
      "2023-03-21 22:50:30,298 - distributed.worker_memory - WARNING - Unmanaged memory use is high. This may indicate a memory leak or the memory may not be released to the OS; see https://distributed.dask.org/en/latest/worker-memory.html#memory-not-released-back-to-the-os for more information. -- Unmanaged memory: 74.83 GiB -- Worker memory limit: 89.41 GiB\n",
      "/homes/metogra/iufarias/miniconda3/envs/XROMS/lib/python3.8/site-packages/numba/np/ufunc/gufunc.py:170: RuntimeWarning: invalid value encountered in _interp_1d_linear\n",
      "  return self.ufunc(*args, **kwargs)\n",
      "2023-03-21 22:50:30,401 - distributed.worker_memory - WARNING - Worker is at 57% memory usage. Resuming worker. Process memory: 51.24 GiB -- Worker memory limit: 89.41 GiB\n"
     ]
    },
    {
     "name": "stdout",
     "output_type": "stream",
     "text": [
      "5\n",
      "6\n"
     ]
    },
    {
     "name": "stderr",
     "output_type": "stream",
     "text": [
      "2023-03-21 22:53:02,056 - distributed.worker_memory - WARNING - Worker is at 82% memory usage. Pausing worker.  Process memory: 73.34 GiB -- Worker memory limit: 89.41 GiB\n",
      "2023-03-21 22:53:06,343 - distributed.worker_memory - WARNING - Worker tcp://127.0.0.1:44584 (pid=31233) exceeded 95% memory budget. Restarting...\n",
      "2023-03-21 22:53:07,625 - distributed.nanny - WARNING - Restarting worker\n",
      "2023-03-21 22:53:28,338 - distributed.worker_memory - WARNING - Worker is at 82% memory usage. Pausing worker.  Process memory: 73.41 GiB -- Worker memory limit: 89.41 GiB\n",
      "2023-03-21 22:53:32,817 - distributed.worker_memory - WARNING - Worker tcp://127.0.0.1:42824 (pid=32415) exceeded 95% memory budget. Restarting...\n",
      "2023-03-21 22:53:34,115 - distributed.nanny - WARNING - Restarting worker\n",
      "/homes/metogra/iufarias/miniconda3/envs/XROMS/lib/python3.8/site-packages/numba/np/ufunc/gufunc.py:170: RuntimeWarning: invalid value encountered in _interp_1d_linear\n",
      "  return self.ufunc(*args, **kwargs)\n",
      "2023-03-21 22:53:48,082 - distributed.worker_memory - WARNING - Worker is at 81% memory usage. Pausing worker.  Process memory: 73.16 GiB -- Worker memory limit: 89.41 GiB\n",
      "2023-03-21 22:53:55,560 - distributed.worker_memory - WARNING - Worker tcp://127.0.0.1:33934 (pid=31803) exceeded 95% memory budget. Restarting...\n",
      "2023-03-21 22:53:56,909 - distributed.nanny - WARNING - Restarting worker\n",
      "2023-03-21 22:54:18,444 - distributed.worker_memory - WARNING - Worker is at 82% memory usage. Pausing worker.  Process memory: 73.60 GiB -- Worker memory limit: 89.41 GiB\n",
      "2023-03-21 22:54:23,947 - distributed.worker_memory - WARNING - Worker tcp://127.0.0.1:39530 (pid=31908) exceeded 95% memory budget. Restarting...\n",
      "2023-03-21 22:54:25,885 - distributed.nanny - WARNING - Restarting worker\n"
     ]
    },
    {
     "ename": "KilledWorker",
     "evalue": "(\"('getitem-interp_1d_linear-interp_1d_linear_0-transpose-mean_chunk-448651223e419d28af2650ff2ff8064e', 1, 0, 0, 0)\", <WorkerState 'tcp://127.0.0.1:39530', name: 62, status: closed, memory: 0, processing: 2>)",
     "output_type": "error",
     "traceback": [
      "\u001b[0;31m---------------------------------------------------------------------------\u001b[0m",
      "\u001b[0;31mKilledWorker\u001b[0m                              Traceback (most recent call last)",
      "Cell \u001b[0;32mIn [36], line 4\u001b[0m\n\u001b[1;32m      1\u001b[0m \u001b[38;5;28;01mfor\u001b[39;00m ix \u001b[38;5;129;01min\u001b[39;00m \u001b[38;5;28mrange\u001b[39m(\u001b[38;5;28mlen\u001b[39m(timer_d)):\n\u001b[0;32m----> 4\u001b[0m     tt_i\u001b[38;5;241m=\u001b[39m\u001b[43mtti\u001b[49m\u001b[43m[\u001b[49m\u001b[43mix\u001b[49m\u001b[43m,\u001b[49m\u001b[43m:\u001b[49m\u001b[43m,\u001b[49m\u001b[38;5;241;43m120\u001b[39;49m\u001b[43m:\u001b[49m\u001b[38;5;241;43m-\u001b[39;49m\u001b[38;5;241;43m120\u001b[39;49m\u001b[43m,\u001b[49m\u001b[38;5;241;43m120\u001b[39;49m\u001b[43m:\u001b[49m\u001b[38;5;241;43m800\u001b[39;49m\u001b[43m]\u001b[49m\u001b[38;5;241;43m.\u001b[39;49m\u001b[43mcompute\u001b[49m\u001b[43m(\u001b[49m\u001b[43m)\u001b[49m\n\u001b[1;32m      7\u001b[0m     st_i\u001b[38;5;241m=\u001b[39msti[ix,:,\u001b[38;5;241m120\u001b[39m:\u001b[38;5;241m-\u001b[39m\u001b[38;5;241m120\u001b[39m,\u001b[38;5;241m120\u001b[39m:\u001b[38;5;241m800\u001b[39m]\u001b[38;5;241m.\u001b[39mcompute()\n\u001b[1;32m      9\u001b[0m     rhot\u001b[38;5;241m=\u001b[39mxroms\u001b[38;5;241m.\u001b[39mpotential_density(tt_i,st_i)\n",
      "File \u001b[0;32m~/miniconda3/envs/XROMS/lib/python3.8/site-packages/xarray/core/dataarray.py:993\u001b[0m, in \u001b[0;36mDataArray.compute\u001b[0;34m(self, **kwargs)\u001b[0m\n\u001b[1;32m    974\u001b[0m \u001b[38;5;124;03m\"\"\"Manually trigger loading of this array's data from disk or a\u001b[39;00m\n\u001b[1;32m    975\u001b[0m \u001b[38;5;124;03mremote source into memory and return a new array. The original is\u001b[39;00m\n\u001b[1;32m    976\u001b[0m \u001b[38;5;124;03mleft unaltered.\u001b[39;00m\n\u001b[0;32m   (...)\u001b[0m\n\u001b[1;32m    990\u001b[0m \u001b[38;5;124;03mdask.compute\u001b[39;00m\n\u001b[1;32m    991\u001b[0m \u001b[38;5;124;03m\"\"\"\u001b[39;00m\n\u001b[1;32m    992\u001b[0m new \u001b[38;5;241m=\u001b[39m \u001b[38;5;28mself\u001b[39m\u001b[38;5;241m.\u001b[39mcopy(deep\u001b[38;5;241m=\u001b[39m\u001b[38;5;28;01mFalse\u001b[39;00m)\n\u001b[0;32m--> 993\u001b[0m \u001b[38;5;28;01mreturn\u001b[39;00m \u001b[43mnew\u001b[49m\u001b[38;5;241;43m.\u001b[39;49m\u001b[43mload\u001b[49m\u001b[43m(\u001b[49m\u001b[38;5;241;43m*\u001b[39;49m\u001b[38;5;241;43m*\u001b[39;49m\u001b[43mkwargs\u001b[49m\u001b[43m)\u001b[49m\n",
      "File \u001b[0;32m~/miniconda3/envs/XROMS/lib/python3.8/site-packages/xarray/core/dataarray.py:967\u001b[0m, in \u001b[0;36mDataArray.load\u001b[0;34m(self, **kwargs)\u001b[0m\n\u001b[1;32m    949\u001b[0m \u001b[38;5;28;01mdef\u001b[39;00m \u001b[38;5;21mload\u001b[39m(\u001b[38;5;28mself\u001b[39m: T_DataArray, \u001b[38;5;241m*\u001b[39m\u001b[38;5;241m*\u001b[39mkwargs) \u001b[38;5;241m-\u001b[39m\u001b[38;5;241m>\u001b[39m T_DataArray:\n\u001b[1;32m    950\u001b[0m     \u001b[38;5;124;03m\"\"\"Manually trigger loading of this array's data from disk or a\u001b[39;00m\n\u001b[1;32m    951\u001b[0m \u001b[38;5;124;03m    remote source into memory and return this array.\u001b[39;00m\n\u001b[1;32m    952\u001b[0m \n\u001b[0;32m   (...)\u001b[0m\n\u001b[1;32m    965\u001b[0m \u001b[38;5;124;03m    dask.compute\u001b[39;00m\n\u001b[1;32m    966\u001b[0m \u001b[38;5;124;03m    \"\"\"\u001b[39;00m\n\u001b[0;32m--> 967\u001b[0m     ds \u001b[38;5;241m=\u001b[39m \u001b[38;5;28;43mself\u001b[39;49m\u001b[38;5;241;43m.\u001b[39;49m\u001b[43m_to_temp_dataset\u001b[49m\u001b[43m(\u001b[49m\u001b[43m)\u001b[49m\u001b[38;5;241;43m.\u001b[39;49m\u001b[43mload\u001b[49m\u001b[43m(\u001b[49m\u001b[38;5;241;43m*\u001b[39;49m\u001b[38;5;241;43m*\u001b[39;49m\u001b[43mkwargs\u001b[49m\u001b[43m)\u001b[49m\n\u001b[1;32m    968\u001b[0m     new \u001b[38;5;241m=\u001b[39m \u001b[38;5;28mself\u001b[39m\u001b[38;5;241m.\u001b[39m_from_temp_dataset(ds)\n\u001b[1;32m    969\u001b[0m     \u001b[38;5;28mself\u001b[39m\u001b[38;5;241m.\u001b[39m_variable \u001b[38;5;241m=\u001b[39m new\u001b[38;5;241m.\u001b[39m_variable\n",
      "File \u001b[0;32m~/miniconda3/envs/XROMS/lib/python3.8/site-packages/xarray/core/dataset.py:733\u001b[0m, in \u001b[0;36mDataset.load\u001b[0;34m(self, **kwargs)\u001b[0m\n\u001b[1;32m    730\u001b[0m \u001b[38;5;28;01mimport\u001b[39;00m \u001b[38;5;21;01mdask\u001b[39;00m\u001b[38;5;21;01m.\u001b[39;00m\u001b[38;5;21;01marray\u001b[39;00m \u001b[38;5;28;01mas\u001b[39;00m \u001b[38;5;21;01mda\u001b[39;00m\n\u001b[1;32m    732\u001b[0m \u001b[38;5;66;03m# evaluate all the dask arrays simultaneously\u001b[39;00m\n\u001b[0;32m--> 733\u001b[0m evaluated_data \u001b[38;5;241m=\u001b[39m \u001b[43mda\u001b[49m\u001b[38;5;241;43m.\u001b[39;49m\u001b[43mcompute\u001b[49m\u001b[43m(\u001b[49m\u001b[38;5;241;43m*\u001b[39;49m\u001b[43mlazy_data\u001b[49m\u001b[38;5;241;43m.\u001b[39;49m\u001b[43mvalues\u001b[49m\u001b[43m(\u001b[49m\u001b[43m)\u001b[49m\u001b[43m,\u001b[49m\u001b[43m \u001b[49m\u001b[38;5;241;43m*\u001b[39;49m\u001b[38;5;241;43m*\u001b[39;49m\u001b[43mkwargs\u001b[49m\u001b[43m)\u001b[49m\n\u001b[1;32m    735\u001b[0m \u001b[38;5;28;01mfor\u001b[39;00m k, data \u001b[38;5;129;01min\u001b[39;00m \u001b[38;5;28mzip\u001b[39m(lazy_data, evaluated_data):\n\u001b[1;32m    736\u001b[0m     \u001b[38;5;28mself\u001b[39m\u001b[38;5;241m.\u001b[39mvariables[k]\u001b[38;5;241m.\u001b[39mdata \u001b[38;5;241m=\u001b[39m data\n",
      "File \u001b[0;32m~/miniconda3/envs/XROMS/lib/python3.8/site-packages/dask/base.py:600\u001b[0m, in \u001b[0;36mcompute\u001b[0;34m(traverse, optimize_graph, scheduler, get, *args, **kwargs)\u001b[0m\n\u001b[1;32m    597\u001b[0m     keys\u001b[38;5;241m.\u001b[39mappend(x\u001b[38;5;241m.\u001b[39m__dask_keys__())\n\u001b[1;32m    598\u001b[0m     postcomputes\u001b[38;5;241m.\u001b[39mappend(x\u001b[38;5;241m.\u001b[39m__dask_postcompute__())\n\u001b[0;32m--> 600\u001b[0m results \u001b[38;5;241m=\u001b[39m \u001b[43mschedule\u001b[49m\u001b[43m(\u001b[49m\u001b[43mdsk\u001b[49m\u001b[43m,\u001b[49m\u001b[43m \u001b[49m\u001b[43mkeys\u001b[49m\u001b[43m,\u001b[49m\u001b[43m \u001b[49m\u001b[38;5;241;43m*\u001b[39;49m\u001b[38;5;241;43m*\u001b[39;49m\u001b[43mkwargs\u001b[49m\u001b[43m)\u001b[49m\n\u001b[1;32m    601\u001b[0m \u001b[38;5;28;01mreturn\u001b[39;00m repack([f(r, \u001b[38;5;241m*\u001b[39ma) \u001b[38;5;28;01mfor\u001b[39;00m r, (f, a) \u001b[38;5;129;01min\u001b[39;00m \u001b[38;5;28mzip\u001b[39m(results, postcomputes)])\n",
      "File \u001b[0;32m~/miniconda3/envs/XROMS/lib/python3.8/site-packages/distributed/client.py:3052\u001b[0m, in \u001b[0;36mClient.get\u001b[0;34m(self, dsk, keys, workers, allow_other_workers, resources, sync, asynchronous, direct, retries, priority, fifo_timeout, actors, **kwargs)\u001b[0m\n\u001b[1;32m   3050\u001b[0m         should_rejoin \u001b[38;5;241m=\u001b[39m \u001b[38;5;28;01mFalse\u001b[39;00m\n\u001b[1;32m   3051\u001b[0m \u001b[38;5;28;01mtry\u001b[39;00m:\n\u001b[0;32m-> 3052\u001b[0m     results \u001b[38;5;241m=\u001b[39m \u001b[38;5;28;43mself\u001b[39;49m\u001b[38;5;241;43m.\u001b[39;49m\u001b[43mgather\u001b[49m\u001b[43m(\u001b[49m\u001b[43mpacked\u001b[49m\u001b[43m,\u001b[49m\u001b[43m \u001b[49m\u001b[43masynchronous\u001b[49m\u001b[38;5;241;43m=\u001b[39;49m\u001b[43masynchronous\u001b[49m\u001b[43m,\u001b[49m\u001b[43m \u001b[49m\u001b[43mdirect\u001b[49m\u001b[38;5;241;43m=\u001b[39;49m\u001b[43mdirect\u001b[49m\u001b[43m)\u001b[49m\n\u001b[1;32m   3053\u001b[0m \u001b[38;5;28;01mfinally\u001b[39;00m:\n\u001b[1;32m   3054\u001b[0m     \u001b[38;5;28;01mfor\u001b[39;00m f \u001b[38;5;129;01min\u001b[39;00m futures\u001b[38;5;241m.\u001b[39mvalues():\n",
      "File \u001b[0;32m~/miniconda3/envs/XROMS/lib/python3.8/site-packages/distributed/client.py:2226\u001b[0m, in \u001b[0;36mClient.gather\u001b[0;34m(self, futures, errors, direct, asynchronous)\u001b[0m\n\u001b[1;32m   2224\u001b[0m \u001b[38;5;28;01melse\u001b[39;00m:\n\u001b[1;32m   2225\u001b[0m     local_worker \u001b[38;5;241m=\u001b[39m \u001b[38;5;28;01mNone\u001b[39;00m\n\u001b[0;32m-> 2226\u001b[0m \u001b[38;5;28;01mreturn\u001b[39;00m \u001b[38;5;28;43mself\u001b[39;49m\u001b[38;5;241;43m.\u001b[39;49m\u001b[43msync\u001b[49m\u001b[43m(\u001b[49m\n\u001b[1;32m   2227\u001b[0m \u001b[43m    \u001b[49m\u001b[38;5;28;43mself\u001b[39;49m\u001b[38;5;241;43m.\u001b[39;49m\u001b[43m_gather\u001b[49m\u001b[43m,\u001b[49m\n\u001b[1;32m   2228\u001b[0m \u001b[43m    \u001b[49m\u001b[43mfutures\u001b[49m\u001b[43m,\u001b[49m\n\u001b[1;32m   2229\u001b[0m \u001b[43m    \u001b[49m\u001b[43merrors\u001b[49m\u001b[38;5;241;43m=\u001b[39;49m\u001b[43merrors\u001b[49m\u001b[43m,\u001b[49m\n\u001b[1;32m   2230\u001b[0m \u001b[43m    \u001b[49m\u001b[43mdirect\u001b[49m\u001b[38;5;241;43m=\u001b[39;49m\u001b[43mdirect\u001b[49m\u001b[43m,\u001b[49m\n\u001b[1;32m   2231\u001b[0m \u001b[43m    \u001b[49m\u001b[43mlocal_worker\u001b[49m\u001b[38;5;241;43m=\u001b[39;49m\u001b[43mlocal_worker\u001b[49m\u001b[43m,\u001b[49m\n\u001b[1;32m   2232\u001b[0m \u001b[43m    \u001b[49m\u001b[43masynchronous\u001b[49m\u001b[38;5;241;43m=\u001b[39;49m\u001b[43masynchronous\u001b[49m\u001b[43m,\u001b[49m\n\u001b[1;32m   2233\u001b[0m \u001b[43m\u001b[49m\u001b[43m)\u001b[49m\n",
      "File \u001b[0;32m~/miniconda3/envs/XROMS/lib/python3.8/site-packages/distributed/utils.py:338\u001b[0m, in \u001b[0;36mSyncMethodMixin.sync\u001b[0;34m(self, func, asynchronous, callback_timeout, *args, **kwargs)\u001b[0m\n\u001b[1;32m    336\u001b[0m     \u001b[38;5;28;01mreturn\u001b[39;00m future\n\u001b[1;32m    337\u001b[0m \u001b[38;5;28;01melse\u001b[39;00m:\n\u001b[0;32m--> 338\u001b[0m     \u001b[38;5;28;01mreturn\u001b[39;00m \u001b[43msync\u001b[49m\u001b[43m(\u001b[49m\n\u001b[1;32m    339\u001b[0m \u001b[43m        \u001b[49m\u001b[38;5;28;43mself\u001b[39;49m\u001b[38;5;241;43m.\u001b[39;49m\u001b[43mloop\u001b[49m\u001b[43m,\u001b[49m\u001b[43m \u001b[49m\u001b[43mfunc\u001b[49m\u001b[43m,\u001b[49m\u001b[43m \u001b[49m\u001b[38;5;241;43m*\u001b[39;49m\u001b[43margs\u001b[49m\u001b[43m,\u001b[49m\u001b[43m \u001b[49m\u001b[43mcallback_timeout\u001b[49m\u001b[38;5;241;43m=\u001b[39;49m\u001b[43mcallback_timeout\u001b[49m\u001b[43m,\u001b[49m\u001b[43m \u001b[49m\u001b[38;5;241;43m*\u001b[39;49m\u001b[38;5;241;43m*\u001b[39;49m\u001b[43mkwargs\u001b[49m\n\u001b[1;32m    340\u001b[0m \u001b[43m    \u001b[49m\u001b[43m)\u001b[49m\n",
      "File \u001b[0;32m~/miniconda3/envs/XROMS/lib/python3.8/site-packages/distributed/utils.py:405\u001b[0m, in \u001b[0;36msync\u001b[0;34m(loop, func, callback_timeout, *args, **kwargs)\u001b[0m\n\u001b[1;32m    403\u001b[0m \u001b[38;5;28;01mif\u001b[39;00m error:\n\u001b[1;32m    404\u001b[0m     typ, exc, tb \u001b[38;5;241m=\u001b[39m error\n\u001b[0;32m--> 405\u001b[0m     \u001b[38;5;28;01mraise\u001b[39;00m exc\u001b[38;5;241m.\u001b[39mwith_traceback(tb)\n\u001b[1;32m    406\u001b[0m \u001b[38;5;28;01melse\u001b[39;00m:\n\u001b[1;32m    407\u001b[0m     \u001b[38;5;28;01mreturn\u001b[39;00m result\n",
      "File \u001b[0;32m~/miniconda3/envs/XROMS/lib/python3.8/site-packages/distributed/utils.py:378\u001b[0m, in \u001b[0;36msync.<locals>.f\u001b[0;34m()\u001b[0m\n\u001b[1;32m    376\u001b[0m         future \u001b[38;5;241m=\u001b[39m asyncio\u001b[38;5;241m.\u001b[39mwait_for(future, callback_timeout)\n\u001b[1;32m    377\u001b[0m     future \u001b[38;5;241m=\u001b[39m asyncio\u001b[38;5;241m.\u001b[39mensure_future(future)\n\u001b[0;32m--> 378\u001b[0m     result \u001b[38;5;241m=\u001b[39m \u001b[38;5;28;01myield\u001b[39;00m future\n\u001b[1;32m    379\u001b[0m \u001b[38;5;28;01mexcept\u001b[39;00m \u001b[38;5;167;01mException\u001b[39;00m:\n\u001b[1;32m    380\u001b[0m     error \u001b[38;5;241m=\u001b[39m sys\u001b[38;5;241m.\u001b[39mexc_info()\n",
      "File \u001b[0;32m~/miniconda3/envs/XROMS/lib/python3.8/site-packages/tornado/gen.py:762\u001b[0m, in \u001b[0;36mRunner.run\u001b[0;34m(self)\u001b[0m\n\u001b[1;32m    759\u001b[0m exc_info \u001b[38;5;241m=\u001b[39m \u001b[38;5;28;01mNone\u001b[39;00m\n\u001b[1;32m    761\u001b[0m \u001b[38;5;28;01mtry\u001b[39;00m:\n\u001b[0;32m--> 762\u001b[0m     value \u001b[38;5;241m=\u001b[39m \u001b[43mfuture\u001b[49m\u001b[38;5;241;43m.\u001b[39;49m\u001b[43mresult\u001b[49m\u001b[43m(\u001b[49m\u001b[43m)\u001b[49m\n\u001b[1;32m    763\u001b[0m \u001b[38;5;28;01mexcept\u001b[39;00m \u001b[38;5;167;01mException\u001b[39;00m:\n\u001b[1;32m    764\u001b[0m     exc_info \u001b[38;5;241m=\u001b[39m sys\u001b[38;5;241m.\u001b[39mexc_info()\n",
      "File \u001b[0;32m~/miniconda3/envs/XROMS/lib/python3.8/site-packages/distributed/client.py:2089\u001b[0m, in \u001b[0;36mClient._gather\u001b[0;34m(self, futures, errors, direct, local_worker)\u001b[0m\n\u001b[1;32m   2087\u001b[0m         exc \u001b[38;5;241m=\u001b[39m CancelledError(key)\n\u001b[1;32m   2088\u001b[0m     \u001b[38;5;28;01melse\u001b[39;00m:\n\u001b[0;32m-> 2089\u001b[0m         \u001b[38;5;28;01mraise\u001b[39;00m exception\u001b[38;5;241m.\u001b[39mwith_traceback(traceback)\n\u001b[1;32m   2090\u001b[0m     \u001b[38;5;28;01mraise\u001b[39;00m exc\n\u001b[1;32m   2091\u001b[0m \u001b[38;5;28;01mif\u001b[39;00m errors \u001b[38;5;241m==\u001b[39m \u001b[38;5;124m\"\u001b[39m\u001b[38;5;124mskip\u001b[39m\u001b[38;5;124m\"\u001b[39m:\n",
      "\u001b[0;31mKilledWorker\u001b[0m: (\"('getitem-interp_1d_linear-interp_1d_linear_0-transpose-mean_chunk-448651223e419d28af2650ff2ff8064e', 1, 0, 0, 0)\", <WorkerState 'tcp://127.0.0.1:39530', name: 62, status: closed, memory: 0, processing: 2>)"
     ]
    }
   ],
   "source": [
    "for ix in range(len(timer_d)):\n",
    "\n",
    "\n",
    "    tt_i=tti[ix,:,120:-120,120:800].compute()\n",
    "\n",
    "\n",
    "    st_i=sti[ix,:,120:-120,120:800].compute()\n",
    "\n",
    "    rhot=xroms.potential_density(tt_i,st_i)\n",
    "    \n",
    "    bti=xroms.buoyancy(rhot)\n",
    "\n",
    "    del bti.attrs['grid']\n",
    "\n",
    "    bti.to_netcdf(\"/homes/metogra/iufarias/Documents/data/b/bti_{0}_{1}.nc\".format(varx.name[13:16],ix))\n",
    "    gc.collect()\n",
    "    print(ix)"
   ]
  },
  {
   "cell_type": "code",
   "execution_count": 18,
   "id": "056f357f-266a-4826-943b-afa6125fbe2b",
   "metadata": {},
   "outputs": [
    {
     "name": "stdout",
     "output_type": "stream",
     "text": [
      "[########################################] | 100% Completed | 101.62 ms\n",
      "[########################################] | 100% Completed | 39.09 ss\n",
      "[########################################] | 100% Completed | 37.87 ss\n",
      "[########################################] | 100% Completed | 46.47 s\n",
      "[########################################] | 100% Completed | 37.83 ss\n"
     ]
    },
    {
     "ename": "ValueError",
     "evalue": "The truth value of a Array is ambiguous. Use a.any() or a.all().",
     "output_type": "error",
     "traceback": [
      "\u001b[0;31m---------------------------------------------------------------------------\u001b[0m",
      "\u001b[0;31mValueError\u001b[0m                                Traceback (most recent call last)",
      "Cell \u001b[0;32mIn [18], line 10\u001b[0m\n\u001b[1;32m      7\u001b[0m tt\u001b[38;5;241m=\u001b[39mdt\u001b[38;5;241m.\u001b[39mtemp[ix,:\u001b[38;5;241m-\u001b[39m\u001b[38;5;241m20\u001b[39m,\u001b[38;5;241m120\u001b[39m:\u001b[38;5;241m-\u001b[39m\u001b[38;5;241m120\u001b[39m,\u001b[38;5;241m120\u001b[39m:\u001b[38;5;241m800\u001b[39m];tt\u001b[38;5;241m.\u001b[39mcompute()\n\u001b[1;32m      8\u001b[0m st\u001b[38;5;241m=\u001b[39mdt\u001b[38;5;241m.\u001b[39msalt[ix,:\u001b[38;5;241m-\u001b[39m\u001b[38;5;241m20\u001b[39m,\u001b[38;5;241m120\u001b[39m:\u001b[38;5;241m-\u001b[39m\u001b[38;5;241m120\u001b[39m,\u001b[38;5;241m120\u001b[39m:\u001b[38;5;241m800\u001b[39m];st\u001b[38;5;241m.\u001b[39mcompute()\n\u001b[0;32m---> 10\u001b[0m rhof\u001b[38;5;241m=\u001b[39m\u001b[43mxroms\u001b[49m\u001b[38;5;241;43m.\u001b[39;49m\u001b[43mpotential_density\u001b[49m\u001b[43m(\u001b[49m\u001b[43mtf\u001b[49m\u001b[43m,\u001b[49m\u001b[43msf\u001b[49m\u001b[43m)\u001b[49m\n\u001b[1;32m     11\u001b[0m rhot\u001b[38;5;241m=\u001b[39mxroms\u001b[38;5;241m.\u001b[39mpotential_density(tt,st)\n\u001b[1;32m     13\u001b[0m bf\u001b[38;5;241m=\u001b[39mxroms\u001b[38;5;241m.\u001b[39mbuoyancy(rhof)\n",
      "File \u001b[0;32m~/xroms/xroms/roms_seawater.py:179\u001b[0m, in \u001b[0;36mpotential_density\u001b[0;34m(temp, salt, z)\u001b[0m\n\u001b[1;32m    153\u001b[0m \u001b[38;5;28;01mdef\u001b[39;00m \u001b[38;5;21mpotential_density\u001b[39m(temp, salt, z\u001b[38;5;241m=\u001b[39m\u001b[38;5;241m0\u001b[39m):\n\u001b[1;32m    154\u001b[0m     \u001b[38;5;124;03m\"\"\"Calculate potential density [kg/m^3] with constant depth reference.\u001b[39;00m\n\u001b[1;32m    155\u001b[0m \n\u001b[1;32m    156\u001b[0m \u001b[38;5;124;03m    Inputs\u001b[39;00m\n\u001b[0;32m   (...)\u001b[0m\n\u001b[1;32m    176\u001b[0m \u001b[38;5;124;03m    >>> xroms.potential_density(ds.temp, ds.salt)\u001b[39;00m\n\u001b[1;32m    177\u001b[0m \u001b[38;5;124;03m    \"\"\"\u001b[39;00m\n\u001b[0;32m--> 179\u001b[0m     var \u001b[38;5;241m=\u001b[39m \u001b[43mdensity\u001b[49m\u001b[43m(\u001b[49m\u001b[43mtemp\u001b[49m\u001b[43m,\u001b[49m\u001b[43m \u001b[49m\u001b[43msalt\u001b[49m\u001b[43m,\u001b[49m\u001b[43m \u001b[49m\u001b[43mz\u001b[49m\u001b[43m)\u001b[49m\n\u001b[1;32m    181\u001b[0m     \u001b[38;5;28;01mif\u001b[39;00m \u001b[38;5;28misinstance\u001b[39m(var, xr\u001b[38;5;241m.\u001b[39mDataArray):\n\u001b[1;32m    182\u001b[0m         var\u001b[38;5;241m.\u001b[39mattrs[\u001b[38;5;124m\"\u001b[39m\u001b[38;5;124mname\u001b[39m\u001b[38;5;124m\"\u001b[39m] \u001b[38;5;241m=\u001b[39m \u001b[38;5;124m\"\u001b[39m\u001b[38;5;124msig0\u001b[39m\u001b[38;5;124m\"\u001b[39m\n",
      "File \u001b[0;32m~/xroms/xroms/roms_seawater.py:146\u001b[0m, in \u001b[0;36mdensity\u001b[0;34m(temp, salt, z)\u001b[0m\n\u001b[1;32m    144\u001b[0m var\u001b[38;5;241m.\u001b[39mattrs[\u001b[38;5;124m\"\u001b[39m\u001b[38;5;124munits\u001b[39m\u001b[38;5;124m\"\u001b[39m] \u001b[38;5;241m=\u001b[39m \u001b[38;5;124m\"\u001b[39m\u001b[38;5;124mkg/m^3\u001b[39m\u001b[38;5;124m\"\u001b[39m  \u001b[38;5;66;03m# inherits grid from temp\u001b[39;00m\n\u001b[1;32m    145\u001b[0m var\u001b[38;5;241m.\u001b[39mname \u001b[38;5;241m=\u001b[39m var\u001b[38;5;241m.\u001b[39mattrs[\u001b[38;5;124m\"\u001b[39m\u001b[38;5;124mname\u001b[39m\u001b[38;5;124m\"\u001b[39m]\n\u001b[0;32m--> 146\u001b[0m \u001b[38;5;28;01mif\u001b[39;00m \u001b[38;5;124;43m\"\u001b[39;49m\u001b[38;5;124;43mlon_rho\u001b[39;49m\u001b[38;5;124;43m\"\u001b[39;49m\u001b[43m \u001b[49m\u001b[38;5;129;43;01min\u001b[39;49;00m\u001b[43m \u001b[49m\u001b[43mvar\u001b[49m:\n\u001b[1;32m    147\u001b[0m     var\u001b[38;5;241m.\u001b[39mcoords[\u001b[38;5;124m\"\u001b[39m\u001b[38;5;124mlon_rho\u001b[39m\u001b[38;5;124m\"\u001b[39m]\u001b[38;5;241m.\u001b[39mattrs[\u001b[38;5;124m\"\u001b[39m\u001b[38;5;124mstandard_name\u001b[39m\u001b[38;5;124m\"\u001b[39m] \u001b[38;5;241m=\u001b[39m \u001b[38;5;124m\"\u001b[39m\u001b[38;5;124mlongitude\u001b[39m\u001b[38;5;124m\"\u001b[39m\n\u001b[1;32m    148\u001b[0m     var\u001b[38;5;241m.\u001b[39mcoords[\u001b[38;5;124m\"\u001b[39m\u001b[38;5;124mlat_rho\u001b[39m\u001b[38;5;124m\"\u001b[39m]\u001b[38;5;241m.\u001b[39mattrs[\u001b[38;5;124m\"\u001b[39m\u001b[38;5;124mstandard_name\u001b[39m\u001b[38;5;124m\"\u001b[39m] \u001b[38;5;241m=\u001b[39m \u001b[38;5;124m\"\u001b[39m\u001b[38;5;124mlatitude\u001b[39m\u001b[38;5;124m\"\u001b[39m\n",
      "File \u001b[0;32m~/miniconda3/envs/XROMS/lib/python3.8/site-packages/xarray/core/dataarray.py:810\u001b[0m, in \u001b[0;36mDataArray.__contains__\u001b[0;34m(self, key)\u001b[0m\n\u001b[1;32m    809\u001b[0m \u001b[38;5;28;01mdef\u001b[39;00m \u001b[38;5;21m__contains__\u001b[39m(\u001b[38;5;28mself\u001b[39m, key: Any) \u001b[38;5;241m-\u001b[39m\u001b[38;5;241m>\u001b[39m \u001b[38;5;28mbool\u001b[39m:\n\u001b[0;32m--> 810\u001b[0m     \u001b[38;5;28;01mreturn\u001b[39;00m \u001b[43mkey\u001b[49m\u001b[43m \u001b[49m\u001b[38;5;129;43;01min\u001b[39;49;00m\u001b[43m \u001b[49m\u001b[38;5;28;43mself\u001b[39;49m\u001b[38;5;241;43m.\u001b[39;49m\u001b[43mdata\u001b[49m\n",
      "File \u001b[0;32m~/miniconda3/envs/XROMS/lib/python3.8/site-packages/dask/array/core.py:1841\u001b[0m, in \u001b[0;36mArray.__bool__\u001b[0;34m(self)\u001b[0m\n\u001b[1;32m   1839\u001b[0m \u001b[38;5;28;01mdef\u001b[39;00m \u001b[38;5;21m__bool__\u001b[39m(\u001b[38;5;28mself\u001b[39m):\n\u001b[1;32m   1840\u001b[0m     \u001b[38;5;28;01mif\u001b[39;00m \u001b[38;5;28mself\u001b[39m\u001b[38;5;241m.\u001b[39msize \u001b[38;5;241m>\u001b[39m \u001b[38;5;241m1\u001b[39m:\n\u001b[0;32m-> 1841\u001b[0m         \u001b[38;5;28;01mraise\u001b[39;00m \u001b[38;5;167;01mValueError\u001b[39;00m(\n\u001b[1;32m   1842\u001b[0m             \u001b[38;5;124mf\u001b[39m\u001b[38;5;124m\"\u001b[39m\u001b[38;5;124mThe truth value of a \u001b[39m\u001b[38;5;132;01m{\u001b[39;00m\u001b[38;5;28mself\u001b[39m\u001b[38;5;241m.\u001b[39m\u001b[38;5;18m__class__\u001b[39m\u001b[38;5;241m.\u001b[39m\u001b[38;5;18m__name__\u001b[39m\u001b[38;5;132;01m}\u001b[39;00m\u001b[38;5;124m is ambiguous. \u001b[39m\u001b[38;5;124m\"\u001b[39m\n\u001b[1;32m   1843\u001b[0m             \u001b[38;5;124m\"\u001b[39m\u001b[38;5;124mUse a.any() or a.all().\u001b[39m\u001b[38;5;124m\"\u001b[39m\n\u001b[1;32m   1844\u001b[0m         )\n\u001b[1;32m   1845\u001b[0m     \u001b[38;5;28;01melse\u001b[39;00m:\n\u001b[1;32m   1846\u001b[0m         \u001b[38;5;28;01mreturn\u001b[39;00m \u001b[38;5;28mbool\u001b[39m(\u001b[38;5;28mself\u001b[39m\u001b[38;5;241m.\u001b[39mcompute())\n",
      "\u001b[0;31mValueError\u001b[0m: The truth value of a Array is ambiguous. Use a.any() or a.all()."
     ]
    }
   ],
   "source": [
    "with ProgressBar():\n",
    "    for ix in range(len(varx.ocean_time.compute())):\n",
    "\n",
    "        tf=df.temp.xroms.isoslice(np.linspace(-5,-50, 10))\n",
    "        [ix,:-20,120:-120,120:800];tf=tf.compute()\n",
    "        sf=df.salt.xroms.isoslice(np.linspace(-5,-50, 10))\n",
    "        [ix,:-20,120:-120,120:800];sf=sf.compute()\n",
    "\n",
    "        tt=dt.temp[ix,:-20,120:-120,120:800];tt=tt.compute()\n",
    "        st=dt.salt[ix,:-20,120:-120,120:800];st=st.compute()\n",
    "\n",
    "        rhof=xroms.potential_density(tf,sf)\n",
    "        rhot=xroms.potential_density(tt,st)\n",
    "\n",
    "        bf=xroms.buoyancy(rhof)\n",
    "        bt=xroms.buoyancy(rhot)\n",
    "\n",
    "        bfi=bf.xroms.isoslice(np.linspace(-5,-50, 10))\n",
    "        bti=bt.xroms.isoslice(np.linspace(-5,-50, 10))\n",
    "\n",
    "\n",
    "        del bfi.attrs['grid']\n",
    "        del bti.attrs['grid']\n",
    "\n",
    "\n",
    "        bfi.to_netcdf(\"/homes/metogra/iufarias/Documents/data/b/bfi_{0}.nc\".format(ix))\n",
    "        bti.to_netcdf(\"/homes/metogra/iufarias/Documents/data/b/bti_{0}.nc\".format(ix))\n",
    "\n",
    "\n",
    "        gc.collect()"
   ]
  },
  {
   "cell_type": "code",
   "execution_count": null,
   "id": "ff60ee00-d2a2-4ab7-9216-a20506a8aca1",
   "metadata": {},
   "outputs": [],
   "source": []
  },
  {
   "cell_type": "code",
   "execution_count": null,
   "id": "dc62b3c2-c02e-45db-a0f6-5d8bd19dc5bb",
   "metadata": {},
   "outputs": [],
   "source": []
  },
  {
   "cell_type": "code",
   "execution_count": null,
   "id": "8a31f406-5351-4549-9eac-1c48931e6ee6",
   "metadata": {},
   "outputs": [],
   "source": []
  },
  {
   "cell_type": "code",
   "execution_count": null,
   "id": "1db4c3dc-46ed-404e-a219-8eb7ab83aedf",
   "metadata": {},
   "outputs": [],
   "source": []
  },
  {
   "cell_type": "code",
   "execution_count": 16,
   "id": "cd8c6dd8-b440-40a8-ab9c-348bee96409e",
   "metadata": {},
   "outputs": [
    {
     "name": "stdout",
     "output_type": "stream",
     "text": [
      "[                                        ] | 1% Completed | 106.99 ss\n"
     ]
    },
    {
     "ename": "KeyboardInterrupt",
     "evalue": "",
     "output_type": "error",
     "traceback": [
      "\u001b[0;31m---------------------------------------------------------------------------\u001b[0m",
      "\u001b[0;31mKeyboardInterrupt\u001b[0m                         Traceback (most recent call last)",
      "Cell \u001b[0;32mIn [16], line 2\u001b[0m\n\u001b[1;32m      1\u001b[0m \u001b[38;5;28;01mwith\u001b[39;00m ProgressBar():\n\u001b[0;32m----> 2\u001b[0m     tf\u001b[38;5;241m=\u001b[39mdf\u001b[38;5;241m.\u001b[39mtemp\u001b[38;5;241m.\u001b[39mxroms\u001b[38;5;241m.\u001b[39mto_grid(\u001b[38;5;124m'\u001b[39m\u001b[38;5;124mpsi\u001b[39m\u001b[38;5;124m'\u001b[39m, \u001b[38;5;124m'\u001b[39m\u001b[38;5;124ms_rho\u001b[39m\u001b[38;5;124m'\u001b[39m)[\u001b[38;5;241m0\u001b[39m::\u001b[38;5;241m50\u001b[39m,:,\u001b[38;5;241m200\u001b[39m:\u001b[38;5;241m-\u001b[39m\u001b[38;5;241m200\u001b[39m,\u001b[38;5;241m100\u001b[39m:\u001b[38;5;241m750\u001b[39m];tf\u001b[38;5;241m=\u001b[39mtf\u001b[38;5;241m.\u001b[39mchunk(chunks\u001b[38;5;241m=\u001b[39mchunks_rho)\u001b[38;5;241m.\u001b[39mcompute()\n\u001b[1;32m      3\u001b[0m     sf\u001b[38;5;241m=\u001b[39mdf\u001b[38;5;241m.\u001b[39msalt\u001b[38;5;241m.\u001b[39mxroms\u001b[38;5;241m.\u001b[39mto_grid(\u001b[38;5;124m'\u001b[39m\u001b[38;5;124mpsi\u001b[39m\u001b[38;5;124m'\u001b[39m, \u001b[38;5;124m'\u001b[39m\u001b[38;5;124ms_rho\u001b[39m\u001b[38;5;124m'\u001b[39m)[\u001b[38;5;241m0\u001b[39m::\u001b[38;5;241m50\u001b[39m,:,\u001b[38;5;241m200\u001b[39m:\u001b[38;5;241m-\u001b[39m\u001b[38;5;241m200\u001b[39m,\u001b[38;5;241m100\u001b[39m:\u001b[38;5;241m750\u001b[39m];sf\u001b[38;5;241m=\u001b[39msf\u001b[38;5;241m.\u001b[39mchunk(chunks\u001b[38;5;241m=\u001b[39mchunks_rho)\u001b[38;5;241m.\u001b[39mcompute()\n\u001b[1;32m      5\u001b[0m     tt\u001b[38;5;241m=\u001b[39mdt\u001b[38;5;241m.\u001b[39mtemp\u001b[38;5;241m.\u001b[39mxroms\u001b[38;5;241m.\u001b[39mto_grid(\u001b[38;5;124m'\u001b[39m\u001b[38;5;124mpsi\u001b[39m\u001b[38;5;124m'\u001b[39m, \u001b[38;5;124m'\u001b[39m\u001b[38;5;124ms_rho\u001b[39m\u001b[38;5;124m'\u001b[39m)[\u001b[38;5;241m0\u001b[39m::\u001b[38;5;241m50\u001b[39m,:,\u001b[38;5;241m200\u001b[39m:\u001b[38;5;241m-\u001b[39m\u001b[38;5;241m200\u001b[39m,\u001b[38;5;241m100\u001b[39m:\u001b[38;5;241m750\u001b[39m];tt\u001b[38;5;241m=\u001b[39mtt\u001b[38;5;241m.\u001b[39mchunk(chunks\u001b[38;5;241m=\u001b[39mchunks_rho)\u001b[38;5;241m.\u001b[39mcompute()\n",
      "File \u001b[0;32m~/miniconda3/envs/XROMS/lib/python3.8/site-packages/xarray/core/dataarray.py:993\u001b[0m, in \u001b[0;36mDataArray.compute\u001b[0;34m(self, **kwargs)\u001b[0m\n\u001b[1;32m    974\u001b[0m \u001b[38;5;124;03m\"\"\"Manually trigger loading of this array's data from disk or a\u001b[39;00m\n\u001b[1;32m    975\u001b[0m \u001b[38;5;124;03mremote source into memory and return a new array. The original is\u001b[39;00m\n\u001b[1;32m    976\u001b[0m \u001b[38;5;124;03mleft unaltered.\u001b[39;00m\n\u001b[0;32m   (...)\u001b[0m\n\u001b[1;32m    990\u001b[0m \u001b[38;5;124;03mdask.compute\u001b[39;00m\n\u001b[1;32m    991\u001b[0m \u001b[38;5;124;03m\"\"\"\u001b[39;00m\n\u001b[1;32m    992\u001b[0m new \u001b[38;5;241m=\u001b[39m \u001b[38;5;28mself\u001b[39m\u001b[38;5;241m.\u001b[39mcopy(deep\u001b[38;5;241m=\u001b[39m\u001b[38;5;28;01mFalse\u001b[39;00m)\n\u001b[0;32m--> 993\u001b[0m \u001b[38;5;28;01mreturn\u001b[39;00m \u001b[43mnew\u001b[49m\u001b[38;5;241;43m.\u001b[39;49m\u001b[43mload\u001b[49m\u001b[43m(\u001b[49m\u001b[38;5;241;43m*\u001b[39;49m\u001b[38;5;241;43m*\u001b[39;49m\u001b[43mkwargs\u001b[49m\u001b[43m)\u001b[49m\n",
      "File \u001b[0;32m~/miniconda3/envs/XROMS/lib/python3.8/site-packages/xarray/core/dataarray.py:967\u001b[0m, in \u001b[0;36mDataArray.load\u001b[0;34m(self, **kwargs)\u001b[0m\n\u001b[1;32m    949\u001b[0m \u001b[38;5;28;01mdef\u001b[39;00m \u001b[38;5;21mload\u001b[39m(\u001b[38;5;28mself\u001b[39m: T_DataArray, \u001b[38;5;241m*\u001b[39m\u001b[38;5;241m*\u001b[39mkwargs) \u001b[38;5;241m-\u001b[39m\u001b[38;5;241m>\u001b[39m T_DataArray:\n\u001b[1;32m    950\u001b[0m     \u001b[38;5;124;03m\"\"\"Manually trigger loading of this array's data from disk or a\u001b[39;00m\n\u001b[1;32m    951\u001b[0m \u001b[38;5;124;03m    remote source into memory and return this array.\u001b[39;00m\n\u001b[1;32m    952\u001b[0m \n\u001b[0;32m   (...)\u001b[0m\n\u001b[1;32m    965\u001b[0m \u001b[38;5;124;03m    dask.compute\u001b[39;00m\n\u001b[1;32m    966\u001b[0m \u001b[38;5;124;03m    \"\"\"\u001b[39;00m\n\u001b[0;32m--> 967\u001b[0m     ds \u001b[38;5;241m=\u001b[39m \u001b[38;5;28;43mself\u001b[39;49m\u001b[38;5;241;43m.\u001b[39;49m\u001b[43m_to_temp_dataset\u001b[49m\u001b[43m(\u001b[49m\u001b[43m)\u001b[49m\u001b[38;5;241;43m.\u001b[39;49m\u001b[43mload\u001b[49m\u001b[43m(\u001b[49m\u001b[38;5;241;43m*\u001b[39;49m\u001b[38;5;241;43m*\u001b[39;49m\u001b[43mkwargs\u001b[49m\u001b[43m)\u001b[49m\n\u001b[1;32m    968\u001b[0m     new \u001b[38;5;241m=\u001b[39m \u001b[38;5;28mself\u001b[39m\u001b[38;5;241m.\u001b[39m_from_temp_dataset(ds)\n\u001b[1;32m    969\u001b[0m     \u001b[38;5;28mself\u001b[39m\u001b[38;5;241m.\u001b[39m_variable \u001b[38;5;241m=\u001b[39m new\u001b[38;5;241m.\u001b[39m_variable\n",
      "File \u001b[0;32m~/miniconda3/envs/XROMS/lib/python3.8/site-packages/xarray/core/dataset.py:733\u001b[0m, in \u001b[0;36mDataset.load\u001b[0;34m(self, **kwargs)\u001b[0m\n\u001b[1;32m    730\u001b[0m \u001b[38;5;28;01mimport\u001b[39;00m \u001b[38;5;21;01mdask\u001b[39;00m\u001b[38;5;21;01m.\u001b[39;00m\u001b[38;5;21;01marray\u001b[39;00m \u001b[38;5;28;01mas\u001b[39;00m \u001b[38;5;21;01mda\u001b[39;00m\n\u001b[1;32m    732\u001b[0m \u001b[38;5;66;03m# evaluate all the dask arrays simultaneously\u001b[39;00m\n\u001b[0;32m--> 733\u001b[0m evaluated_data \u001b[38;5;241m=\u001b[39m \u001b[43mda\u001b[49m\u001b[38;5;241;43m.\u001b[39;49m\u001b[43mcompute\u001b[49m\u001b[43m(\u001b[49m\u001b[38;5;241;43m*\u001b[39;49m\u001b[43mlazy_data\u001b[49m\u001b[38;5;241;43m.\u001b[39;49m\u001b[43mvalues\u001b[49m\u001b[43m(\u001b[49m\u001b[43m)\u001b[49m\u001b[43m,\u001b[49m\u001b[43m \u001b[49m\u001b[38;5;241;43m*\u001b[39;49m\u001b[38;5;241;43m*\u001b[39;49m\u001b[43mkwargs\u001b[49m\u001b[43m)\u001b[49m\n\u001b[1;32m    735\u001b[0m \u001b[38;5;28;01mfor\u001b[39;00m k, data \u001b[38;5;129;01min\u001b[39;00m \u001b[38;5;28mzip\u001b[39m(lazy_data, evaluated_data):\n\u001b[1;32m    736\u001b[0m     \u001b[38;5;28mself\u001b[39m\u001b[38;5;241m.\u001b[39mvariables[k]\u001b[38;5;241m.\u001b[39mdata \u001b[38;5;241m=\u001b[39m data\n",
      "File \u001b[0;32m~/miniconda3/envs/XROMS/lib/python3.8/site-packages/dask/base.py:600\u001b[0m, in \u001b[0;36mcompute\u001b[0;34m(traverse, optimize_graph, scheduler, get, *args, **kwargs)\u001b[0m\n\u001b[1;32m    597\u001b[0m     keys\u001b[38;5;241m.\u001b[39mappend(x\u001b[38;5;241m.\u001b[39m__dask_keys__())\n\u001b[1;32m    598\u001b[0m     postcomputes\u001b[38;5;241m.\u001b[39mappend(x\u001b[38;5;241m.\u001b[39m__dask_postcompute__())\n\u001b[0;32m--> 600\u001b[0m results \u001b[38;5;241m=\u001b[39m \u001b[43mschedule\u001b[49m\u001b[43m(\u001b[49m\u001b[43mdsk\u001b[49m\u001b[43m,\u001b[49m\u001b[43m \u001b[49m\u001b[43mkeys\u001b[49m\u001b[43m,\u001b[49m\u001b[43m \u001b[49m\u001b[38;5;241;43m*\u001b[39;49m\u001b[38;5;241;43m*\u001b[39;49m\u001b[43mkwargs\u001b[49m\u001b[43m)\u001b[49m\n\u001b[1;32m    601\u001b[0m \u001b[38;5;28;01mreturn\u001b[39;00m repack([f(r, \u001b[38;5;241m*\u001b[39ma) \u001b[38;5;28;01mfor\u001b[39;00m r, (f, a) \u001b[38;5;129;01min\u001b[39;00m \u001b[38;5;28mzip\u001b[39m(results, postcomputes)])\n",
      "File \u001b[0;32m~/miniconda3/envs/XROMS/lib/python3.8/site-packages/dask/threaded.py:89\u001b[0m, in \u001b[0;36mget\u001b[0;34m(dsk, keys, cache, num_workers, pool, **kwargs)\u001b[0m\n\u001b[1;32m     86\u001b[0m     \u001b[38;5;28;01melif\u001b[39;00m \u001b[38;5;28misinstance\u001b[39m(pool, multiprocessing\u001b[38;5;241m.\u001b[39mpool\u001b[38;5;241m.\u001b[39mPool):\n\u001b[1;32m     87\u001b[0m         pool \u001b[38;5;241m=\u001b[39m MultiprocessingPoolExecutor(pool)\n\u001b[0;32m---> 89\u001b[0m results \u001b[38;5;241m=\u001b[39m \u001b[43mget_async\u001b[49m\u001b[43m(\u001b[49m\n\u001b[1;32m     90\u001b[0m \u001b[43m    \u001b[49m\u001b[43mpool\u001b[49m\u001b[38;5;241;43m.\u001b[39;49m\u001b[43msubmit\u001b[49m\u001b[43m,\u001b[49m\n\u001b[1;32m     91\u001b[0m \u001b[43m    \u001b[49m\u001b[43mpool\u001b[49m\u001b[38;5;241;43m.\u001b[39;49m\u001b[43m_max_workers\u001b[49m\u001b[43m,\u001b[49m\n\u001b[1;32m     92\u001b[0m \u001b[43m    \u001b[49m\u001b[43mdsk\u001b[49m\u001b[43m,\u001b[49m\n\u001b[1;32m     93\u001b[0m \u001b[43m    \u001b[49m\u001b[43mkeys\u001b[49m\u001b[43m,\u001b[49m\n\u001b[1;32m     94\u001b[0m \u001b[43m    \u001b[49m\u001b[43mcache\u001b[49m\u001b[38;5;241;43m=\u001b[39;49m\u001b[43mcache\u001b[49m\u001b[43m,\u001b[49m\n\u001b[1;32m     95\u001b[0m \u001b[43m    \u001b[49m\u001b[43mget_id\u001b[49m\u001b[38;5;241;43m=\u001b[39;49m\u001b[43m_thread_get_id\u001b[49m\u001b[43m,\u001b[49m\n\u001b[1;32m     96\u001b[0m \u001b[43m    \u001b[49m\u001b[43mpack_exception\u001b[49m\u001b[38;5;241;43m=\u001b[39;49m\u001b[43mpack_exception\u001b[49m\u001b[43m,\u001b[49m\n\u001b[1;32m     97\u001b[0m \u001b[43m    \u001b[49m\u001b[38;5;241;43m*\u001b[39;49m\u001b[38;5;241;43m*\u001b[39;49m\u001b[43mkwargs\u001b[49m\u001b[43m,\u001b[49m\n\u001b[1;32m     98\u001b[0m \u001b[43m\u001b[49m\u001b[43m)\u001b[49m\n\u001b[1;32m    100\u001b[0m \u001b[38;5;66;03m# Cleanup pools associated to dead threads\u001b[39;00m\n\u001b[1;32m    101\u001b[0m \u001b[38;5;28;01mwith\u001b[39;00m pools_lock:\n",
      "File \u001b[0;32m~/miniconda3/envs/XROMS/lib/python3.8/site-packages/dask/local.py:500\u001b[0m, in \u001b[0;36mget_async\u001b[0;34m(submit, num_workers, dsk, result, cache, get_id, rerun_exceptions_locally, pack_exception, raise_exception, callbacks, dumps, loads, chunksize, **kwargs)\u001b[0m\n\u001b[1;32m    498\u001b[0m \u001b[38;5;28;01mwhile\u001b[39;00m state[\u001b[38;5;124m\"\u001b[39m\u001b[38;5;124mwaiting\u001b[39m\u001b[38;5;124m\"\u001b[39m] \u001b[38;5;129;01mor\u001b[39;00m state[\u001b[38;5;124m\"\u001b[39m\u001b[38;5;124mready\u001b[39m\u001b[38;5;124m\"\u001b[39m] \u001b[38;5;129;01mor\u001b[39;00m state[\u001b[38;5;124m\"\u001b[39m\u001b[38;5;124mrunning\u001b[39m\u001b[38;5;124m\"\u001b[39m]:\n\u001b[1;32m    499\u001b[0m     fire_tasks(chunksize)\n\u001b[0;32m--> 500\u001b[0m     \u001b[38;5;28;01mfor\u001b[39;00m key, res_info, failed \u001b[38;5;129;01min\u001b[39;00m \u001b[43mqueue_get\u001b[49m\u001b[43m(\u001b[49m\u001b[43mqueue\u001b[49m\u001b[43m)\u001b[49m\u001b[38;5;241m.\u001b[39mresult():\n\u001b[1;32m    501\u001b[0m         \u001b[38;5;28;01mif\u001b[39;00m failed:\n\u001b[1;32m    502\u001b[0m             exc, tb \u001b[38;5;241m=\u001b[39m loads(res_info)\n",
      "File \u001b[0;32m~/miniconda3/envs/XROMS/lib/python3.8/site-packages/dask/local.py:137\u001b[0m, in \u001b[0;36mqueue_get\u001b[0;34m(q)\u001b[0m\n\u001b[1;32m    136\u001b[0m \u001b[38;5;28;01mdef\u001b[39;00m \u001b[38;5;21mqueue_get\u001b[39m(q):\n\u001b[0;32m--> 137\u001b[0m     \u001b[38;5;28;01mreturn\u001b[39;00m \u001b[43mq\u001b[49m\u001b[38;5;241;43m.\u001b[39;49m\u001b[43mget\u001b[49m\u001b[43m(\u001b[49m\u001b[43m)\u001b[49m\n",
      "File \u001b[0;32m~/miniconda3/envs/XROMS/lib/python3.8/queue.py:170\u001b[0m, in \u001b[0;36mQueue.get\u001b[0;34m(self, block, timeout)\u001b[0m\n\u001b[1;32m    168\u001b[0m \u001b[38;5;28;01melif\u001b[39;00m timeout \u001b[38;5;129;01mis\u001b[39;00m \u001b[38;5;28;01mNone\u001b[39;00m:\n\u001b[1;32m    169\u001b[0m     \u001b[38;5;28;01mwhile\u001b[39;00m \u001b[38;5;129;01mnot\u001b[39;00m \u001b[38;5;28mself\u001b[39m\u001b[38;5;241m.\u001b[39m_qsize():\n\u001b[0;32m--> 170\u001b[0m         \u001b[38;5;28;43mself\u001b[39;49m\u001b[38;5;241;43m.\u001b[39;49m\u001b[43mnot_empty\u001b[49m\u001b[38;5;241;43m.\u001b[39;49m\u001b[43mwait\u001b[49m\u001b[43m(\u001b[49m\u001b[43m)\u001b[49m\n\u001b[1;32m    171\u001b[0m \u001b[38;5;28;01melif\u001b[39;00m timeout \u001b[38;5;241m<\u001b[39m \u001b[38;5;241m0\u001b[39m:\n\u001b[1;32m    172\u001b[0m     \u001b[38;5;28;01mraise\u001b[39;00m \u001b[38;5;167;01mValueError\u001b[39;00m(\u001b[38;5;124m\"\u001b[39m\u001b[38;5;124m'\u001b[39m\u001b[38;5;124mtimeout\u001b[39m\u001b[38;5;124m'\u001b[39m\u001b[38;5;124m must be a non-negative number\u001b[39m\u001b[38;5;124m\"\u001b[39m)\n",
      "File \u001b[0;32m~/miniconda3/envs/XROMS/lib/python3.8/threading.py:302\u001b[0m, in \u001b[0;36mCondition.wait\u001b[0;34m(self, timeout)\u001b[0m\n\u001b[1;32m    300\u001b[0m \u001b[38;5;28;01mtry\u001b[39;00m:    \u001b[38;5;66;03m# restore state no matter what (e.g., KeyboardInterrupt)\u001b[39;00m\n\u001b[1;32m    301\u001b[0m     \u001b[38;5;28;01mif\u001b[39;00m timeout \u001b[38;5;129;01mis\u001b[39;00m \u001b[38;5;28;01mNone\u001b[39;00m:\n\u001b[0;32m--> 302\u001b[0m         \u001b[43mwaiter\u001b[49m\u001b[38;5;241;43m.\u001b[39;49m\u001b[43macquire\u001b[49m\u001b[43m(\u001b[49m\u001b[43m)\u001b[49m\n\u001b[1;32m    303\u001b[0m         gotit \u001b[38;5;241m=\u001b[39m \u001b[38;5;28;01mTrue\u001b[39;00m\n\u001b[1;32m    304\u001b[0m     \u001b[38;5;28;01melse\u001b[39;00m:\n",
      "\u001b[0;31mKeyboardInterrupt\u001b[0m: "
     ]
    }
   ],
   "source": [
    "with ProgressBar():\n",
    "    tf=df.temp.xroms.to_grid('psi', 's_rho')[0::50,:,200:-200,100:750];tf=tf.chunk(chunks=chunks_rho).compute()\n",
    "    sf=df.salt.xroms.to_grid('psi', 's_rho')[0::50,:,200:-200,100:750];sf=sf.chunk(chunks=chunks_rho).compute()\n",
    "    \n",
    "    tt=dt.temp.xroms.to_grid('psi', 's_rho')[0::50,:,200:-200,100:750];tt=tt.chunk(chunks=chunks_rho).compute()\n",
    "    st=dt.salt.xroms.to_grid('psi', 's_rho')[0::50,:,200:-200,100:750];st=st.chunk(chunks=chunks_rho).compute()"
   ]
  },
  {
   "cell_type": "code",
   "execution_count": null,
   "id": "f7819bfb-e716-4802-9164-56a5e0855c81",
   "metadata": {},
   "outputs": [],
   "source": [
    "with ProgressBar():\n",
    "    rhof=xroms.potential_density(tf,sf)\n",
    "    rhot=xroms.potential_density(tt,st)\n",
    "\n"
   ]
  },
  {
   "cell_type": "code",
   "execution_count": 135,
   "id": "5e6fbcef-3ffb-4abc-a878-a3ab37175fd7",
   "metadata": {},
   "outputs": [],
   "source": [
    "with ProgressBar():\n",
    "    bf=xroms.buoyancy(rhof)\n",
    "    bt=xroms.buoyancy(rhot)\n",
    "    "
   ]
  },
  {
   "cell_type": "code",
   "execution_count": 188,
   "id": "1d82811f-7c78-41c9-b818-093b8e41985f",
   "metadata": {},
   "outputs": [
    {
     "name": "stdout",
     "output_type": "stream",
     "text": [
      "[########################################] | 100% Completed | 14min 25.1s\n",
      "[########################################] | 100% Completed | 14min  9.7s\n"
     ]
    }
   ],
   "source": [
    "with ProgressBar():\n",
    "    wf=df.w.xroms.to_grid('psi', 's_rho')[0::50,:,200:-200,100:750];wf=wf.chunk(chunks=chunks_rho).compute()\n",
    "    wt=dt.w.xroms.to_grid('psi', 's_rho')[0::50,:,200:-200,100:750];wt=wt.chunk(chunks=chunks_rho).compute()"
   ]
  },
  {
   "cell_type": "code",
   "execution_count": 11,
   "id": "b367e55e-85d0-42d9-9c99-4575f4552c24",
   "metadata": {},
   "outputs": [
    {
     "ename": "NameError",
     "evalue": "name 'bf' is not defined",
     "output_type": "error",
     "traceback": [
      "\u001b[0;31m---------------------------------------------------------------------------\u001b[0m",
      "\u001b[0;31mNameError\u001b[0m                                 Traceback (most recent call last)",
      "Cell \u001b[0;32mIn [11], line 2\u001b[0m\n\u001b[1;32m      1\u001b[0m \u001b[38;5;28;01mwith\u001b[39;00m ProgressBar():\n\u001b[0;32m----> 2\u001b[0m     bfi\u001b[38;5;241m=\u001b[39m\u001b[43mbf\u001b[49m\u001b[38;5;241m.\u001b[39mxroms\u001b[38;5;241m.\u001b[39misoslice(np\u001b[38;5;241m.\u001b[39mlinspace(\u001b[38;5;241m-\u001b[39m\u001b[38;5;241m5\u001b[39m,\u001b[38;5;241m-\u001b[39m\u001b[38;5;241m100\u001b[39m, \u001b[38;5;241m10\u001b[39m))\n\u001b[1;32m      3\u001b[0m     wfi\u001b[38;5;241m=\u001b[39mwf\u001b[38;5;241m.\u001b[39mxroms\u001b[38;5;241m.\u001b[39misoslice(np\u001b[38;5;241m.\u001b[39mlinspace(\u001b[38;5;241m-\u001b[39m\u001b[38;5;241m5\u001b[39m,\u001b[38;5;241m-\u001b[39m\u001b[38;5;241m100\u001b[39m, \u001b[38;5;241m10\u001b[39m))\n\u001b[1;32m      4\u001b[0m     bti\u001b[38;5;241m=\u001b[39mbt\u001b[38;5;241m.\u001b[39mxroms\u001b[38;5;241m.\u001b[39misoslice(np\u001b[38;5;241m.\u001b[39mlinspace(\u001b[38;5;241m-\u001b[39m\u001b[38;5;241m5\u001b[39m,\u001b[38;5;241m-\u001b[39m\u001b[38;5;241m100\u001b[39m, \u001b[38;5;241m10\u001b[39m))\n",
      "\u001b[0;31mNameError\u001b[0m: name 'bf' is not defined"
     ]
    }
   ],
   "source": [
    "with ProgressBar():\n",
    "    bfi=bf.xroms.isoslice(np.linspace(-5,-100, 10))\n",
    "    wfi=wf.xroms.isoslice(np.linspace(-5,-100, 10))\n",
    "    bti=bt.xroms.isoslice(np.linspace(-5,-100, 10))\n",
    "    wti=wt.xroms.isoslice(np.linspace(-5,-100, 10))"
   ]
  },
  {
   "cell_type": "code",
   "execution_count": 12,
   "id": "c0df3342-ac9e-48b6-b002-f9ebe5bb2603",
   "metadata": {},
   "outputs": [
    {
     "ename": "NameError",
     "evalue": "name 'bfi' is not defined",
     "output_type": "error",
     "traceback": [
      "\u001b[0;31m---------------------------------------------------------------------------\u001b[0m",
      "\u001b[0;31mNameError\u001b[0m                                 Traceback (most recent call last)",
      "Cell \u001b[0;32mIn [12], line 1\u001b[0m\n\u001b[0;32m----> 1\u001b[0m \u001b[38;5;28;01mdel\u001b[39;00m \u001b[43mbfi\u001b[49m\u001b[38;5;241m.\u001b[39mattrs[\u001b[38;5;124m'\u001b[39m\u001b[38;5;124mgrid\u001b[39m\u001b[38;5;124m'\u001b[39m]\n\u001b[1;32m      2\u001b[0m \u001b[38;5;28;01mdel\u001b[39;00m wfi\u001b[38;5;241m.\u001b[39mattrs[\u001b[38;5;124m'\u001b[39m\u001b[38;5;124mgrid\u001b[39m\u001b[38;5;124m'\u001b[39m]\n\u001b[1;32m      3\u001b[0m \u001b[38;5;28;01mdel\u001b[39;00m bti\u001b[38;5;241m.\u001b[39mattrs[\u001b[38;5;124m'\u001b[39m\u001b[38;5;124mgrid\u001b[39m\u001b[38;5;124m'\u001b[39m]\n",
      "\u001b[0;31mNameError\u001b[0m: name 'bfi' is not defined"
     ]
    }
   ],
   "source": [
    "del bfi.attrs['grid']\n",
    "del wfi.attrs['grid']\n",
    "del bti.attrs['grid']\n",
    "del wti.attrs['grid']"
   ]
  },
  {
   "cell_type": "code",
   "execution_count": 200,
   "id": "0f137f74-ae8d-4841-a254-91483677c3a3",
   "metadata": {},
   "outputs": [],
   "source": [
    "# bfi.to_netcdf(\"/homes/metogra/iufarias/Documents/data/bfi.nc\")\n",
    "# bti.to_netcdf(\"/homes/metogra/iufarias/Documents/data/bti.nc\")\n",
    "# wfi.to_netcdf(\"/homes/metogra/iufarias/Documents/data/wfi.nc\")\n",
    "# wti.to_netcdf(\"/homes/metogra/iufarias/Documents/data/wti.nc\")"
   ]
  },
  {
   "cell_type": "code",
   "execution_count": 9,
   "id": "4d586c45-4460-434f-ab63-37bc2e366f65",
   "metadata": {},
   "outputs": [],
   "source": [
    "\n",
    "bfi=xr.open_dataarray(\"/homes/metogra/iufarias/Documents/data/bfi.nc\")\n",
    "bti=xr.open_dataarray(\"/homes/metogra/iufarias/Documents/data/bti.nc\")\n",
    "wfi=xr.open_dataarray(\"/homes/metogra/iufarias/Documents/data/wfi.nc\")\n",
    "wti=xr.open_dataarray(\"/homes/metogra/iufarias/Documents/data/wti.nc\")"
   ]
  }
 ],
 "metadata": {
  "kernelspec": {
   "display_name": "XROMS",
   "language": "python",
   "name": "xroms"
  },
  "language_info": {
   "codemirror_mode": {
    "name": "ipython",
    "version": 3
   },
   "file_extension": ".py",
   "mimetype": "text/x-python",
   "name": "python",
   "nbconvert_exporter": "python",
   "pygments_lexer": "ipython3",
   "version": "3.8.13"
  }
 },
 "nbformat": 4,
 "nbformat_minor": 5
}
