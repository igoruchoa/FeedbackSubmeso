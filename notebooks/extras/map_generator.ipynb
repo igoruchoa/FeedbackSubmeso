{
 "cells": [
  {
   "cell_type": "code",
   "execution_count": 1,
   "id": "ad2e26e8-c7ff-4f2c-bd67-b825f29fc88b",
   "metadata": {
    "tags": []
   },
   "outputs": [],
   "source": [
    "import numpy as np\n",
    "from glob import glob\n",
    "import matplotlib.pyplot as plt\n",
    "import gc\n",
    "import xarray as xr\n",
    "import pandas as pd\n",
    "import xrft as xrft\n",
    "import sys\n",
    "import seaborn as sns\n",
    "sys.path.append(\"/homes/metogra/iufarias/FeedbackSubmeso/useful/\")\n",
    "import romspickle\n",
    "\n",
    "import cmocean as cm\n",
    "from dask.diagnostics import ProgressBar\n",
    "# warnings.filterwarnings(\"ignore\")"
   ]
  },
  {
   "cell_type": "code",
   "execution_count": 2,
   "id": "cba547b0-8ba9-4002-af4b-f797f55543b7",
   "metadata": {
    "tags": []
   },
   "outputs": [],
   "source": [
    "plt.rcParams['text.usetex'] = True\n",
    "plt.rcParams.update({'font.size': 22})\n",
    "\n",
    "plt.rcParams['font.family'] = 'sans-serif'\n",
    "plt.rcParams['font.sans-serif'] = ['Lucida Grande']"
   ]
  },
  {
   "cell_type": "code",
   "execution_count": 3,
   "id": "a31addd5-3cd9-4c84-93a3-1a963bbfce3e",
   "metadata": {
    "tags": []
   },
   "outputs": [],
   "source": [
    "path='/data/pacific/lrenault/SASI/CROCO/FULL/'\n",
    "listm=glob(path+'surf*.nc');listm.sort()\n",
    "# varf=xr.open_dataset(listm[-9:][xmon])\n",
    "varf=xr.open_mfdataset(listm[1:],data_vars='minimal')\n",
    "\n",
    "path='/data/pacific/lrenault/SASI/CROCO/SMTH/'\n",
    "listt=glob(path+'surf*SASI_6h_his_20*_*.nc');listt.sort()\n",
    "listt.append('/data/pacific/lrenault/SASI/CROCO/SMTH/surf_SASI_6h_his_2012-07.nc')\n",
    "#vart=xr.open_dataset(listt[xmon])\n",
    "vart=xr.open_mfdataset(listt[1:],data_vars='minimal')"
   ]
  },
  {
   "cell_type": "code",
   "execution_count": 4,
   "id": "b65182dd-27a4-4fba-a26d-edc88ec9b54a",
   "metadata": {
    "tags": []
   },
   "outputs": [],
   "source": [
    "chunks_new={'time_counter':10}\n",
    "\n",
    "\n",
    "path='/data/pacific/lrenault/SASI/FULL/WRF/'\n",
    "listmw=glob(path+'wrf_*.nc');listmw.sort()\n",
    "# varf=xr.open_dataset(listm[-9:][xmon])\n",
    "varfw=xr.open_mfdataset(listmw[::2][-7:],chunks=chunks_new)\n",
    "\n",
    "path='/data/pacific/lrenault/SASI/SMTH/WRF/'\n",
    "listtw=glob(path+'wrf_*.nc');listtw.sort()\n",
    "#vart=xr.open_dataset(listt[xmon])\n",
    "vartw=xr.open_mfdataset(listtw[::2][-7:],chunks=chunks_new)"
   ]
  },
  {
   "cell_type": "code",
   "execution_count": 5,
   "id": "f204f9a5-c648-44b7-80a2-805a2867b743",
   "metadata": {
    "tags": []
   },
   "outputs": [],
   "source": [
    "import datetime\n",
    "\n",
    "# t_ind=pd.DatetimeIndex(varf.time_counter.compute())\n",
    "t_ind=varf.time_counter.groupby(\"time_counter.dayofyear\").mean()\n",
    "t_ind_h=varf.time_counter\n"
   ]
  },
  {
   "cell_type": "code",
   "execution_count": 6,
   "id": "6017af5b-92b3-4478-8850-1edf5f229920",
   "metadata": {
    "tags": []
   },
   "outputs": [],
   "source": [
    "tf=varf.temp#.groupby(\"time_counter.dayofyear\").mean()\n",
    "tf=tf.compute();\n",
    "\n",
    "tt=vart.temp#.groupby(\"time_counter.dayofyear\").mean()\n",
    "tt=tt.compute();"
   ]
  },
  {
   "cell_type": "code",
   "execution_count": 7,
   "id": "22bc6c6d-50aa-4f5c-ba7b-f79b35f390e5",
   "metadata": {
    "tags": []
   },
   "outputs": [],
   "source": [
    "sf=varf.salt#.groupby(\"time_counter.dayofyear\").mean()\n",
    "sf=sf.compute();\n",
    "\n",
    "\n",
    "st=vart.salt#.groupby(\"time_counter.dayofyear\").mean()\n",
    "st=st.compute();"
   ]
  },
  {
   "cell_type": "code",
   "execution_count": 8,
   "id": "7b9d6ff3-8637-4158-a085-bd4cc04de17d",
   "metadata": {
    "tags": []
   },
   "outputs": [],
   "source": [
    "# rain_f=varfw.RAIN.groupby(\"time_counter.dayofyear\").mean()\n",
    "# rain_f=rain_f.compute();\n",
    "\n",
    "\n",
    "# rain_t=vartw.RAIN.groupby(\"time_counter.dayofyear\").mean()\n",
    "# rain_t=rain_t.compute();"
   ]
  },
  {
   "cell_type": "code",
   "execution_count": 9,
   "id": "d0bbcbc0-c081-491f-9e28-23ff2bde988c",
   "metadata": {
    "tags": []
   },
   "outputs": [],
   "source": [
    "# LH_f=varfw.LH.groupby(\"time_counter.dayofyear\").mean()\n",
    "# LH_f=LH_f.compute()\n",
    "\n",
    "# LH_t=vartw.LH.groupby(\"time_counter.dayofyear\").mean()\n",
    "# LH_t=LH_t.compute()"
   ]
  },
  {
   "cell_type": "code",
   "execution_count": 10,
   "id": "d427a5ce-0597-42c6-a12e-7d9cd1e78c3a",
   "metadata": {
    "tags": []
   },
   "outputs": [
    {
     "name": "stdout",
     "output_type": "stream",
     "text": [
      "CPU times: user 6.51 s, sys: 5.89 s, total: 12.4 s\n",
      "Wall time: 4.08 s\n"
     ]
    }
   ],
   "source": [
    "%%time\n",
    "uf=varf.u#.sel(time_counter=slice(\"2012-05-01\",\"2012-05-31\"))#.groupby(\"time_counter.dayofyear\").mean()\n",
    "uf=uf.chunk(chunks=chunks_new);\n",
    "# u_f=(uf[:,1:,:]+uf[:,:-1,:])/2\n",
    "uf=uf.compute();\n",
    "\n",
    "\n",
    "vf=varf.v#.sel(time_counter=slice(\"2012-05-01\",\"2012-05-31\"))#.groupby(\"time_counter.dayofyear\").mean()\n",
    "vf=vf.chunk(chunks=chunks_new);\n",
    "# vf=(vf[:,:,1:]+vf[:,:,:-1])/2\n",
    "vf=vf.compute();\n",
    "\n"
   ]
  },
  {
   "cell_type": "code",
   "execution_count": 11,
   "id": "5c0c7fcc-4e16-4419-ada8-407995f7fd0f",
   "metadata": {
    "tags": []
   },
   "outputs": [],
   "source": [
    "uf,vf,_=romspickle.uvw2rho_3d(uf,vf,uf)\n",
    "# ut,vt,_=romspickle.uvw2rho_3d(ut,vt,ut)\n"
   ]
  },
  {
   "cell_type": "code",
   "execution_count": 12,
   "id": "7c3346b6-6bfe-42e8-9798-5be4ba65a9d6",
   "metadata": {
    "tags": []
   },
   "outputs": [
    {
     "name": "stderr",
     "output_type": "stream",
     "text": [
      "/homes/metogra/iufarias/miniconda3/envs/ROMS/lib/python3.7/site-packages/xarray/core/dataarray.py:784: FutureWarning: elementwise comparison failed; returning scalar instead, but in the future will perform elementwise comparison\n",
      "  return key in self.data\n"
     ]
    }
   ],
   "source": [
    "import xroms\n",
    "rho_f=xroms.potential_density(temp=tf,salt=sf)"
   ]
  },
  {
   "cell_type": "code",
   "execution_count": 13,
   "id": "b7c72eba-cc1f-48db-99a4-b8e44ddeb19e",
   "metadata": {
    "tags": []
   },
   "outputs": [],
   "source": [
    "wf=varf.w#.sel(time_counter=slice(\"2012-05-01\",\"2012-05-31\"))#.groupby(\"time_counter.dayofyear\").mean()\n",
    "wf=wf.chunk(chunks=chunks_new);\n",
    "# u_f=(uf[:,1:,:]+uf[:,:-1,:])/2\n",
    "wf=wf.compute();\n",
    "\n"
   ]
  },
  {
   "cell_type": "code",
   "execution_count": 14,
   "id": "c9360c1e-79b6-4bf9-aa64-d23c4de69193",
   "metadata": {
    "tags": []
   },
   "outputs": [],
   "source": [
    "stime_r=2.5\n",
    "stime=1.5\n",
    "temp_levels=np.linspace(np.nanmean(tf)-stime_r*np.nanstd(tf),np.nanmean(tf)+stime_r*np.nanstd(tf),55)\n",
    "salt_levels=np.linspace(np.nanmean(sf)-stime_r*np.nanstd(sf),np.nanmean(sf)+stime_r*np.nanstd(sf),55)\n",
    "dens_levels=np.linspace(np.nanmean(rho_f)-stime*np.nanstd(rho_f),np.nanmean(rho_f)+stime*np.nanstd(rho_f),55)-1000\n",
    "wf_levels=np.linspace(np.nanmean(wf)-stime_r*np.nanstd(wf),np.nanmean(wf)+stime_r*np.nanstd(wf),55)"
   ]
  },
  {
   "cell_type": "code",
   "execution_count": 17,
   "id": "66c70a2e-9f3a-4384-8b22-88a08c5ab133",
   "metadata": {
    "tags": []
   },
   "outputs": [],
   "source": [
    "temp_levels=np.linspace(9,13.5,55)\n",
    "salt_levels=np.linspace(32,34,55)\n",
    "dens_levels=np.linspace(1024.5,1026.5,55)-1000\n",
    "wf_levels=np.linspace(np.nanmean(wf)-stime_r*np.nanstd(wf),np.nanmean(wf)+stime_r*np.nanstd(wf),55)"
   ]
  },
  {
   "cell_type": "code",
   "execution_count": 15,
   "id": "cc7057e1-370c-4f9a-a618-c9b52c27d752",
   "metadata": {
    "tags": []
   },
   "outputs": [
    {
     "data": {
      "text/plain": [
       "array([24.58869004, 24.61094957, 24.6332091 , 24.65546862, 24.67772815,\n",
       "       24.69998768, 24.7222472 , 24.74450673, 24.76676626, 24.78902578,\n",
       "       24.81128531, 24.83354484, 24.85580436, 24.87806389, 24.90032342,\n",
       "       24.92258294, 24.94484247, 24.967102  , 24.98936152, 25.01162105,\n",
       "       25.03388058, 25.0561401 , 25.07839963, 25.10065916, 25.12291869,\n",
       "       25.14517821, 25.16743774, 25.18969727, 25.21195679, 25.23421632,\n",
       "       25.25647585, 25.27873537, 25.3009949 , 25.32325443, 25.34551395,\n",
       "       25.36777348, 25.39003301, 25.41229253, 25.43455206, 25.45681159,\n",
       "       25.47907111, 25.50133064, 25.52359017, 25.54584969, 25.56810922,\n",
       "       25.59036875, 25.61262827, 25.6348878 , 25.65714733, 25.67940685,\n",
       "       25.70166638, 25.72392591, 25.74618544, 25.76844496, 25.79070449])"
      ]
     },
     "execution_count": 15,
     "metadata": {},
     "output_type": "execute_result"
    }
   ],
   "source": [
    "dens_levels"
   ]
  },
  {
   "cell_type": "code",
   "execution_count": 16,
   "id": "a2a9b0b2-0b18-4052-adea-797fb66ccbb4",
   "metadata": {
    "tags": []
   },
   "outputs": [],
   "source": [
    "plt.rc('text', usetex=False)"
   ]
  },
  {
   "cell_type": "code",
   "execution_count": 19,
   "id": "83f9f9c7-a8bb-475e-b166-237cabef2354",
   "metadata": {
    "tags": []
   },
   "outputs": [
    {
     "ename": "KeyboardInterrupt",
     "evalue": "",
     "output_type": "error",
     "traceback": [
      "\u001b[0;31m---------------------------------------------------------------------------\u001b[0m",
      "\u001b[0;31mKeyboardInterrupt\u001b[0m                         Traceback (most recent call last)",
      "\u001b[0;32m/tmp/ipykernel_768068/3905060746.py\u001b[0m in \u001b[0;36m<module>\u001b[0;34m\u001b[0m\n\u001b[1;32m     78\u001b[0m \u001b[0;34m\u001b[0m\u001b[0m\n\u001b[1;32m     79\u001b[0m     \u001b[0;31m# plt.savefig('/homes/metogra/iufarias/Documents/figures/smode_help/maps_{0:03}.png'.format(ixx))\u001b[0m\u001b[0;34m\u001b[0m\u001b[0;34m\u001b[0m\u001b[0m\n\u001b[0;32m---> 80\u001b[0;31m     \u001b[0mplt\u001b[0m\u001b[0;34m.\u001b[0m\u001b[0msavefig\u001b[0m\u001b[0;34m(\u001b[0m\u001b[0;34m'/homes/metogra/iufarias/Documents/figures/smode_help/may_2/maps_{0:03}.png'\u001b[0m\u001b[0;34m.\u001b[0m\u001b[0mformat\u001b[0m\u001b[0;34m(\u001b[0m\u001b[0mixx\u001b[0m\u001b[0;34m)\u001b[0m\u001b[0;34m)\u001b[0m\u001b[0;34m\u001b[0m\u001b[0m\n\u001b[0m\u001b[1;32m     81\u001b[0m \u001b[0;34m\u001b[0m\u001b[0m\n\u001b[1;32m     82\u001b[0m \u001b[0;34m\u001b[0m\u001b[0m\n",
      "\u001b[0;32m~/miniconda3/envs/ROMS/lib/python3.7/site-packages/matplotlib/pyplot.py\u001b[0m in \u001b[0;36msavefig\u001b[0;34m(*args, **kwargs)\u001b[0m\n\u001b[1;32m    978\u001b[0m     \u001b[0mfig\u001b[0m \u001b[0;34m=\u001b[0m \u001b[0mgcf\u001b[0m\u001b[0;34m(\u001b[0m\u001b[0;34m)\u001b[0m\u001b[0;34m\u001b[0m\u001b[0m\n\u001b[1;32m    979\u001b[0m     \u001b[0mres\u001b[0m \u001b[0;34m=\u001b[0m \u001b[0mfig\u001b[0m\u001b[0;34m.\u001b[0m\u001b[0msavefig\u001b[0m\u001b[0;34m(\u001b[0m\u001b[0;34m*\u001b[0m\u001b[0margs\u001b[0m\u001b[0;34m,\u001b[0m \u001b[0;34m**\u001b[0m\u001b[0mkwargs\u001b[0m\u001b[0;34m)\u001b[0m\u001b[0;34m\u001b[0m\u001b[0m\n\u001b[0;32m--> 980\u001b[0;31m     \u001b[0mfig\u001b[0m\u001b[0;34m.\u001b[0m\u001b[0mcanvas\u001b[0m\u001b[0;34m.\u001b[0m\u001b[0mdraw_idle\u001b[0m\u001b[0;34m(\u001b[0m\u001b[0;34m)\u001b[0m   \u001b[0;31m# need this if 'transparent=True' to reset colors\u001b[0m\u001b[0;34m\u001b[0m\u001b[0m\n\u001b[0m\u001b[1;32m    981\u001b[0m     \u001b[0;32mreturn\u001b[0m \u001b[0mres\u001b[0m\u001b[0;34m\u001b[0m\u001b[0m\n\u001b[1;32m    982\u001b[0m \u001b[0;34m\u001b[0m\u001b[0m\n",
      "\u001b[0;32m~/miniconda3/envs/ROMS/lib/python3.7/site-packages/matplotlib/backend_bases.py\u001b[0m in \u001b[0;36mdraw_idle\u001b[0;34m(self, *args, **kwargs)\u001b[0m\n\u001b[1;32m   2058\u001b[0m         \u001b[0;32mif\u001b[0m \u001b[0;32mnot\u001b[0m \u001b[0mself\u001b[0m\u001b[0;34m.\u001b[0m\u001b[0m_is_idle_drawing\u001b[0m\u001b[0;34m:\u001b[0m\u001b[0;34m\u001b[0m\u001b[0m\n\u001b[1;32m   2059\u001b[0m             \u001b[0;32mwith\u001b[0m \u001b[0mself\u001b[0m\u001b[0;34m.\u001b[0m\u001b[0m_idle_draw_cntx\u001b[0m\u001b[0;34m(\u001b[0m\u001b[0;34m)\u001b[0m\u001b[0;34m:\u001b[0m\u001b[0;34m\u001b[0m\u001b[0m\n\u001b[0;32m-> 2060\u001b[0;31m                 \u001b[0mself\u001b[0m\u001b[0;34m.\u001b[0m\u001b[0mdraw\u001b[0m\u001b[0;34m(\u001b[0m\u001b[0;34m*\u001b[0m\u001b[0margs\u001b[0m\u001b[0;34m,\u001b[0m \u001b[0;34m**\u001b[0m\u001b[0mkwargs\u001b[0m\u001b[0;34m)\u001b[0m\u001b[0;34m\u001b[0m\u001b[0m\n\u001b[0m\u001b[1;32m   2061\u001b[0m \u001b[0;34m\u001b[0m\u001b[0m\n\u001b[1;32m   2062\u001b[0m     \u001b[0;34m@\u001b[0m\u001b[0mproperty\u001b[0m\u001b[0;34m\u001b[0m\u001b[0m\n",
      "\u001b[0;32m~/miniconda3/envs/ROMS/lib/python3.7/site-packages/matplotlib/backends/backend_agg.py\u001b[0m in \u001b[0;36mdraw\u001b[0;34m(self)\u001b[0m\n\u001b[1;32m    434\u001b[0m              (self.toolbar._wait_cursor_for_draw_cm() if self.toolbar\n\u001b[1;32m    435\u001b[0m               else nullcontext()):\n\u001b[0;32m--> 436\u001b[0;31m             \u001b[0mself\u001b[0m\u001b[0;34m.\u001b[0m\u001b[0mfigure\u001b[0m\u001b[0;34m.\u001b[0m\u001b[0mdraw\u001b[0m\u001b[0;34m(\u001b[0m\u001b[0mself\u001b[0m\u001b[0;34m.\u001b[0m\u001b[0mrenderer\u001b[0m\u001b[0;34m)\u001b[0m\u001b[0;34m\u001b[0m\u001b[0m\n\u001b[0m\u001b[1;32m    437\u001b[0m             \u001b[0;31m# A GUI class may be need to update a window using this draw, so\u001b[0m\u001b[0;34m\u001b[0m\u001b[0;34m\u001b[0m\u001b[0m\n\u001b[1;32m    438\u001b[0m             \u001b[0;31m# don't forget to call the superclass.\u001b[0m\u001b[0;34m\u001b[0m\u001b[0;34m\u001b[0m\u001b[0m\n",
      "\u001b[0;32m~/miniconda3/envs/ROMS/lib/python3.7/site-packages/matplotlib/artist.py\u001b[0m in \u001b[0;36mdraw_wrapper\u001b[0;34m(artist, renderer, *args, **kwargs)\u001b[0m\n\u001b[1;32m     71\u001b[0m     \u001b[0;34m@\u001b[0m\u001b[0mwraps\u001b[0m\u001b[0;34m(\u001b[0m\u001b[0mdraw\u001b[0m\u001b[0;34m)\u001b[0m\u001b[0;34m\u001b[0m\u001b[0m\n\u001b[1;32m     72\u001b[0m     \u001b[0;32mdef\u001b[0m \u001b[0mdraw_wrapper\u001b[0m\u001b[0;34m(\u001b[0m\u001b[0martist\u001b[0m\u001b[0;34m,\u001b[0m \u001b[0mrenderer\u001b[0m\u001b[0;34m,\u001b[0m \u001b[0;34m*\u001b[0m\u001b[0margs\u001b[0m\u001b[0;34m,\u001b[0m \u001b[0;34m**\u001b[0m\u001b[0mkwargs\u001b[0m\u001b[0;34m)\u001b[0m\u001b[0;34m:\u001b[0m\u001b[0;34m\u001b[0m\u001b[0m\n\u001b[0;32m---> 73\u001b[0;31m         \u001b[0mresult\u001b[0m \u001b[0;34m=\u001b[0m \u001b[0mdraw\u001b[0m\u001b[0;34m(\u001b[0m\u001b[0martist\u001b[0m\u001b[0;34m,\u001b[0m \u001b[0mrenderer\u001b[0m\u001b[0;34m,\u001b[0m \u001b[0;34m*\u001b[0m\u001b[0margs\u001b[0m\u001b[0;34m,\u001b[0m \u001b[0;34m**\u001b[0m\u001b[0mkwargs\u001b[0m\u001b[0;34m)\u001b[0m\u001b[0;34m\u001b[0m\u001b[0m\n\u001b[0m\u001b[1;32m     74\u001b[0m         \u001b[0;32mif\u001b[0m \u001b[0mrenderer\u001b[0m\u001b[0;34m.\u001b[0m\u001b[0m_rasterizing\u001b[0m\u001b[0;34m:\u001b[0m\u001b[0;34m\u001b[0m\u001b[0m\n\u001b[1;32m     75\u001b[0m             \u001b[0mrenderer\u001b[0m\u001b[0;34m.\u001b[0m\u001b[0mstop_rasterizing\u001b[0m\u001b[0;34m(\u001b[0m\u001b[0;34m)\u001b[0m\u001b[0;34m\u001b[0m\u001b[0m\n",
      "\u001b[0;32m~/miniconda3/envs/ROMS/lib/python3.7/site-packages/matplotlib/artist.py\u001b[0m in \u001b[0;36mdraw_wrapper\u001b[0;34m(artist, renderer)\u001b[0m\n\u001b[1;32m     48\u001b[0m                 \u001b[0mrenderer\u001b[0m\u001b[0;34m.\u001b[0m\u001b[0mstart_filter\u001b[0m\u001b[0;34m(\u001b[0m\u001b[0;34m)\u001b[0m\u001b[0;34m\u001b[0m\u001b[0m\n\u001b[1;32m     49\u001b[0m \u001b[0;34m\u001b[0m\u001b[0m\n\u001b[0;32m---> 50\u001b[0;31m             \u001b[0;32mreturn\u001b[0m \u001b[0mdraw\u001b[0m\u001b[0;34m(\u001b[0m\u001b[0martist\u001b[0m\u001b[0;34m,\u001b[0m \u001b[0mrenderer\u001b[0m\u001b[0;34m)\u001b[0m\u001b[0;34m\u001b[0m\u001b[0m\n\u001b[0m\u001b[1;32m     51\u001b[0m         \u001b[0;32mfinally\u001b[0m\u001b[0;34m:\u001b[0m\u001b[0;34m\u001b[0m\u001b[0m\n\u001b[1;32m     52\u001b[0m             \u001b[0;32mif\u001b[0m \u001b[0martist\u001b[0m\u001b[0;34m.\u001b[0m\u001b[0mget_agg_filter\u001b[0m\u001b[0;34m(\u001b[0m\u001b[0;34m)\u001b[0m \u001b[0;32mis\u001b[0m \u001b[0;32mnot\u001b[0m \u001b[0;32mNone\u001b[0m\u001b[0;34m:\u001b[0m\u001b[0;34m\u001b[0m\u001b[0m\n",
      "\u001b[0;32m~/miniconda3/envs/ROMS/lib/python3.7/site-packages/matplotlib/figure.py\u001b[0m in \u001b[0;36mdraw\u001b[0;34m(self, renderer)\u001b[0m\n\u001b[1;32m   2836\u001b[0m             \u001b[0mself\u001b[0m\u001b[0;34m.\u001b[0m\u001b[0mpatch\u001b[0m\u001b[0;34m.\u001b[0m\u001b[0mdraw\u001b[0m\u001b[0;34m(\u001b[0m\u001b[0mrenderer\u001b[0m\u001b[0;34m)\u001b[0m\u001b[0;34m\u001b[0m\u001b[0m\n\u001b[1;32m   2837\u001b[0m             mimage._draw_list_compositing_images(\n\u001b[0;32m-> 2838\u001b[0;31m                 renderer, self, artists, self.suppressComposite)\n\u001b[0m\u001b[1;32m   2839\u001b[0m \u001b[0;34m\u001b[0m\u001b[0m\n\u001b[1;32m   2840\u001b[0m             \u001b[0;32mfor\u001b[0m \u001b[0msfig\u001b[0m \u001b[0;32min\u001b[0m \u001b[0mself\u001b[0m\u001b[0;34m.\u001b[0m\u001b[0msubfigs\u001b[0m\u001b[0;34m:\u001b[0m\u001b[0;34m\u001b[0m\u001b[0m\n",
      "\u001b[0;32m~/miniconda3/envs/ROMS/lib/python3.7/site-packages/matplotlib/image.py\u001b[0m in \u001b[0;36m_draw_list_compositing_images\u001b[0;34m(renderer, parent, artists, suppress_composite)\u001b[0m\n\u001b[1;32m    130\u001b[0m     \u001b[0;32mif\u001b[0m \u001b[0mnot_composite\u001b[0m \u001b[0;32mor\u001b[0m \u001b[0;32mnot\u001b[0m \u001b[0mhas_images\u001b[0m\u001b[0;34m:\u001b[0m\u001b[0;34m\u001b[0m\u001b[0m\n\u001b[1;32m    131\u001b[0m         \u001b[0;32mfor\u001b[0m \u001b[0ma\u001b[0m \u001b[0;32min\u001b[0m \u001b[0martists\u001b[0m\u001b[0;34m:\u001b[0m\u001b[0;34m\u001b[0m\u001b[0m\n\u001b[0;32m--> 132\u001b[0;31m             \u001b[0ma\u001b[0m\u001b[0;34m.\u001b[0m\u001b[0mdraw\u001b[0m\u001b[0;34m(\u001b[0m\u001b[0mrenderer\u001b[0m\u001b[0;34m)\u001b[0m\u001b[0;34m\u001b[0m\u001b[0m\n\u001b[0m\u001b[1;32m    133\u001b[0m     \u001b[0;32melse\u001b[0m\u001b[0;34m:\u001b[0m\u001b[0;34m\u001b[0m\u001b[0m\n\u001b[1;32m    134\u001b[0m         \u001b[0;31m# Composite any adjacent images together\u001b[0m\u001b[0;34m\u001b[0m\u001b[0;34m\u001b[0m\u001b[0m\n",
      "\u001b[0;32m~/miniconda3/envs/ROMS/lib/python3.7/site-packages/matplotlib/artist.py\u001b[0m in \u001b[0;36mdraw_wrapper\u001b[0;34m(artist, renderer)\u001b[0m\n\u001b[1;32m     48\u001b[0m                 \u001b[0mrenderer\u001b[0m\u001b[0;34m.\u001b[0m\u001b[0mstart_filter\u001b[0m\u001b[0;34m(\u001b[0m\u001b[0;34m)\u001b[0m\u001b[0;34m\u001b[0m\u001b[0m\n\u001b[1;32m     49\u001b[0m \u001b[0;34m\u001b[0m\u001b[0m\n\u001b[0;32m---> 50\u001b[0;31m             \u001b[0;32mreturn\u001b[0m \u001b[0mdraw\u001b[0m\u001b[0;34m(\u001b[0m\u001b[0martist\u001b[0m\u001b[0;34m,\u001b[0m \u001b[0mrenderer\u001b[0m\u001b[0;34m)\u001b[0m\u001b[0;34m\u001b[0m\u001b[0m\n\u001b[0m\u001b[1;32m     51\u001b[0m         \u001b[0;32mfinally\u001b[0m\u001b[0;34m:\u001b[0m\u001b[0;34m\u001b[0m\u001b[0m\n\u001b[1;32m     52\u001b[0m             \u001b[0;32mif\u001b[0m \u001b[0martist\u001b[0m\u001b[0;34m.\u001b[0m\u001b[0mget_agg_filter\u001b[0m\u001b[0;34m(\u001b[0m\u001b[0;34m)\u001b[0m \u001b[0;32mis\u001b[0m \u001b[0;32mnot\u001b[0m \u001b[0;32mNone\u001b[0m\u001b[0;34m:\u001b[0m\u001b[0;34m\u001b[0m\u001b[0m\n",
      "\u001b[0;32m~/miniconda3/envs/ROMS/lib/python3.7/site-packages/matplotlib/axes/_base.py\u001b[0m in \u001b[0;36mdraw\u001b[0;34m(self, renderer)\u001b[0m\n\u001b[1;32m   3090\u001b[0m \u001b[0;34m\u001b[0m\u001b[0m\n\u001b[1;32m   3091\u001b[0m         mimage._draw_list_compositing_images(\n\u001b[0;32m-> 3092\u001b[0;31m             renderer, self, artists, self.figure.suppressComposite)\n\u001b[0m\u001b[1;32m   3093\u001b[0m \u001b[0;34m\u001b[0m\u001b[0m\n\u001b[1;32m   3094\u001b[0m         \u001b[0mrenderer\u001b[0m\u001b[0;34m.\u001b[0m\u001b[0mclose_group\u001b[0m\u001b[0;34m(\u001b[0m\u001b[0;34m'axes'\u001b[0m\u001b[0;34m)\u001b[0m\u001b[0;34m\u001b[0m\u001b[0m\n",
      "\u001b[0;32m~/miniconda3/envs/ROMS/lib/python3.7/site-packages/matplotlib/image.py\u001b[0m in \u001b[0;36m_draw_list_compositing_images\u001b[0;34m(renderer, parent, artists, suppress_composite)\u001b[0m\n\u001b[1;32m    130\u001b[0m     \u001b[0;32mif\u001b[0m \u001b[0mnot_composite\u001b[0m \u001b[0;32mor\u001b[0m \u001b[0;32mnot\u001b[0m \u001b[0mhas_images\u001b[0m\u001b[0;34m:\u001b[0m\u001b[0;34m\u001b[0m\u001b[0m\n\u001b[1;32m    131\u001b[0m         \u001b[0;32mfor\u001b[0m \u001b[0ma\u001b[0m \u001b[0;32min\u001b[0m \u001b[0martists\u001b[0m\u001b[0;34m:\u001b[0m\u001b[0;34m\u001b[0m\u001b[0m\n\u001b[0;32m--> 132\u001b[0;31m             \u001b[0ma\u001b[0m\u001b[0;34m.\u001b[0m\u001b[0mdraw\u001b[0m\u001b[0;34m(\u001b[0m\u001b[0mrenderer\u001b[0m\u001b[0;34m)\u001b[0m\u001b[0;34m\u001b[0m\u001b[0m\n\u001b[0m\u001b[1;32m    133\u001b[0m     \u001b[0;32melse\u001b[0m\u001b[0;34m:\u001b[0m\u001b[0;34m\u001b[0m\u001b[0m\n\u001b[1;32m    134\u001b[0m         \u001b[0;31m# Composite any adjacent images together\u001b[0m\u001b[0;34m\u001b[0m\u001b[0;34m\u001b[0m\u001b[0m\n",
      "\u001b[0;32m~/miniconda3/envs/ROMS/lib/python3.7/site-packages/matplotlib/artist.py\u001b[0m in \u001b[0;36mdraw_wrapper\u001b[0;34m(artist, renderer)\u001b[0m\n\u001b[1;32m     48\u001b[0m                 \u001b[0mrenderer\u001b[0m\u001b[0;34m.\u001b[0m\u001b[0mstart_filter\u001b[0m\u001b[0;34m(\u001b[0m\u001b[0;34m)\u001b[0m\u001b[0;34m\u001b[0m\u001b[0m\n\u001b[1;32m     49\u001b[0m \u001b[0;34m\u001b[0m\u001b[0m\n\u001b[0;32m---> 50\u001b[0;31m             \u001b[0;32mreturn\u001b[0m \u001b[0mdraw\u001b[0m\u001b[0;34m(\u001b[0m\u001b[0martist\u001b[0m\u001b[0;34m,\u001b[0m \u001b[0mrenderer\u001b[0m\u001b[0;34m)\u001b[0m\u001b[0;34m\u001b[0m\u001b[0m\n\u001b[0m\u001b[1;32m     51\u001b[0m         \u001b[0;32mfinally\u001b[0m\u001b[0;34m:\u001b[0m\u001b[0;34m\u001b[0m\u001b[0m\n\u001b[1;32m     52\u001b[0m             \u001b[0;32mif\u001b[0m \u001b[0martist\u001b[0m\u001b[0;34m.\u001b[0m\u001b[0mget_agg_filter\u001b[0m\u001b[0;34m(\u001b[0m\u001b[0;34m)\u001b[0m \u001b[0;32mis\u001b[0m \u001b[0;32mnot\u001b[0m \u001b[0;32mNone\u001b[0m\u001b[0;34m:\u001b[0m\u001b[0;34m\u001b[0m\u001b[0m\n",
      "\u001b[0;32m~/miniconda3/envs/ROMS/lib/python3.7/site-packages/matplotlib/collections.py\u001b[0m in \u001b[0;36mdraw\u001b[0;34m(self, renderer)\u001b[0m\n\u001b[1;32m    988\u001b[0m     \u001b[0;32mdef\u001b[0m \u001b[0mdraw\u001b[0m\u001b[0;34m(\u001b[0m\u001b[0mself\u001b[0m\u001b[0;34m,\u001b[0m \u001b[0mrenderer\u001b[0m\u001b[0;34m)\u001b[0m\u001b[0;34m:\u001b[0m\u001b[0;34m\u001b[0m\u001b[0m\n\u001b[1;32m    989\u001b[0m         \u001b[0mself\u001b[0m\u001b[0;34m.\u001b[0m\u001b[0mset_sizes\u001b[0m\u001b[0;34m(\u001b[0m\u001b[0mself\u001b[0m\u001b[0;34m.\u001b[0m\u001b[0m_sizes\u001b[0m\u001b[0;34m,\u001b[0m \u001b[0mself\u001b[0m\u001b[0;34m.\u001b[0m\u001b[0mfigure\u001b[0m\u001b[0;34m.\u001b[0m\u001b[0mdpi\u001b[0m\u001b[0;34m)\u001b[0m\u001b[0;34m\u001b[0m\u001b[0m\n\u001b[0;32m--> 990\u001b[0;31m         \u001b[0msuper\u001b[0m\u001b[0;34m(\u001b[0m\u001b[0;34m)\u001b[0m\u001b[0;34m.\u001b[0m\u001b[0mdraw\u001b[0m\u001b[0;34m(\u001b[0m\u001b[0mrenderer\u001b[0m\u001b[0;34m)\u001b[0m\u001b[0;34m\u001b[0m\u001b[0m\n\u001b[0m\u001b[1;32m    991\u001b[0m \u001b[0;34m\u001b[0m\u001b[0m\n\u001b[1;32m    992\u001b[0m \u001b[0;34m\u001b[0m\u001b[0m\n",
      "\u001b[0;32m~/miniconda3/envs/ROMS/lib/python3.7/site-packages/matplotlib/artist.py\u001b[0m in \u001b[0;36mdraw_wrapper\u001b[0;34m(artist, renderer)\u001b[0m\n\u001b[1;32m     48\u001b[0m                 \u001b[0mrenderer\u001b[0m\u001b[0;34m.\u001b[0m\u001b[0mstart_filter\u001b[0m\u001b[0;34m(\u001b[0m\u001b[0;34m)\u001b[0m\u001b[0;34m\u001b[0m\u001b[0m\n\u001b[1;32m     49\u001b[0m \u001b[0;34m\u001b[0m\u001b[0m\n\u001b[0;32m---> 50\u001b[0;31m             \u001b[0;32mreturn\u001b[0m \u001b[0mdraw\u001b[0m\u001b[0;34m(\u001b[0m\u001b[0martist\u001b[0m\u001b[0;34m,\u001b[0m \u001b[0mrenderer\u001b[0m\u001b[0;34m)\u001b[0m\u001b[0;34m\u001b[0m\u001b[0m\n\u001b[0m\u001b[1;32m     51\u001b[0m         \u001b[0;32mfinally\u001b[0m\u001b[0;34m:\u001b[0m\u001b[0;34m\u001b[0m\u001b[0m\n\u001b[1;32m     52\u001b[0m             \u001b[0;32mif\u001b[0m \u001b[0martist\u001b[0m\u001b[0;34m.\u001b[0m\u001b[0mget_agg_filter\u001b[0m\u001b[0;34m(\u001b[0m\u001b[0;34m)\u001b[0m \u001b[0;32mis\u001b[0m \u001b[0;32mnot\u001b[0m \u001b[0;32mNone\u001b[0m\u001b[0;34m:\u001b[0m\u001b[0;34m\u001b[0m\u001b[0m\n",
      "\u001b[0;32m~/miniconda3/envs/ROMS/lib/python3.7/site-packages/matplotlib/collections.py\u001b[0m in \u001b[0;36mdraw\u001b[0;34m(self, renderer)\u001b[0m\n\u001b[1;32m    428\u001b[0m                 \u001b[0mself\u001b[0m\u001b[0;34m.\u001b[0m\u001b[0m_linewidths\u001b[0m\u001b[0;34m,\u001b[0m \u001b[0mself\u001b[0m\u001b[0;34m.\u001b[0m\u001b[0m_linestyles\u001b[0m\u001b[0;34m,\u001b[0m\u001b[0;34m\u001b[0m\u001b[0m\n\u001b[1;32m    429\u001b[0m                 \u001b[0mself\u001b[0m\u001b[0;34m.\u001b[0m\u001b[0m_antialiaseds\u001b[0m\u001b[0;34m,\u001b[0m \u001b[0mself\u001b[0m\u001b[0;34m.\u001b[0m\u001b[0m_urls\u001b[0m\u001b[0;34m,\u001b[0m\u001b[0;34m\u001b[0m\u001b[0m\n\u001b[0;32m--> 430\u001b[0;31m                 self._offset_position)\n\u001b[0m\u001b[1;32m    431\u001b[0m \u001b[0;34m\u001b[0m\u001b[0m\n\u001b[1;32m    432\u001b[0m         \u001b[0mgc\u001b[0m\u001b[0;34m.\u001b[0m\u001b[0mrestore\u001b[0m\u001b[0;34m(\u001b[0m\u001b[0;34m)\u001b[0m\u001b[0;34m\u001b[0m\u001b[0m\n",
      "\u001b[0;32m~/miniconda3/envs/ROMS/lib/python3.7/site-packages/matplotlib/path.py\u001b[0m in \u001b[0;36mvertices\u001b[0;34m(self)\u001b[0m\n\u001b[1;32m    198\u001b[0m         )\n\u001b[1;32m    199\u001b[0m \u001b[0;34m\u001b[0m\u001b[0m\n\u001b[0;32m--> 200\u001b[0;31m     \u001b[0;34m@\u001b[0m\u001b[0mproperty\u001b[0m\u001b[0;34m\u001b[0m\u001b[0m\n\u001b[0m\u001b[1;32m    201\u001b[0m     \u001b[0;32mdef\u001b[0m \u001b[0mvertices\u001b[0m\u001b[0;34m(\u001b[0m\u001b[0mself\u001b[0m\u001b[0;34m)\u001b[0m\u001b[0;34m:\u001b[0m\u001b[0;34m\u001b[0m\u001b[0m\n\u001b[1;32m    202\u001b[0m         \"\"\"\n",
      "\u001b[0;31mKeyboardInterrupt\u001b[0m: "
     ]
    },
    {
     "name": "stderr",
     "output_type": "stream",
     "text": [
      "ERROR:root:Internal Python error in the inspect module.\n",
      "Below is the traceback from this internal error.\n",
      "\n"
     ]
    },
    {
     "name": "stdout",
     "output_type": "stream",
     "text": [
      "Error in callback <function flush_figures at 0x7ff80cadc1e0> (for post_execute):\n"
     ]
    },
    {
     "name": "stderr",
     "output_type": "stream",
     "text": [
      "\n",
      "KeyboardInterrupt\n",
      "\n"
     ]
    }
   ],
   "source": [
    "for ixx in range(483,800):\n",
    "# ixx=0\n",
    "\n",
    "    fig,ax=plt.subplots(2,2,figsize=(10,8))\n",
    "    ax=ax.ravel()\n",
    "    cc1=ax[0].contourf(tf.nav_lon_rho,tf.nav_lat_rho,tf[ixx],cmap='jet',\n",
    "                       levels=temp_levels,extend='both')\n",
    "    dec=40\n",
    "    ax[0].quiver(tf.nav_lon_rho[1:-1,1:-1][::dec,::dec],tf.nav_lat_rho[1:-1,1:-1][::dec,::dec],uf[ixx,::dec,::dec],vf[ixx,::dec,::dec])\n",
    "\n",
    "    ax[0].set_xlim(-126.5,-122)\n",
    "    ax[0].set_ylim(36.5,39)\n",
    "    cb1=fig.colorbar(cc1, ax=ax[0])\n",
    "    # cb1.set_ticks([8,10,12,14,16])\n",
    "    cb1.set_ticks([9,10,11,12,13])\n",
    "\n",
    "\n",
    "    ax[0].set_title(r'T',fontsize=15)\n",
    "\n",
    "\n",
    "\n",
    "    # cc2=ax[1].contourf(sf.nav_lon_rho,sf.nav_lat_rho,sf[ixx],cmap='inferno',\n",
    "    #                    levels=salt_levels,extend='both')\n",
    "    # ax[1].quiver(sf.nav_lon_rho[1:-1,1:-1][::dec,::dec],sf.nav_lat_rho[1:-1,1:-1][::dec,::dec],uf[ixx,::dec,::dec],vf[ixx,::dec,::dec])\n",
    "\n",
    "    # ax[1].set_xlim(-126.5,-122)\n",
    "    # ax[1].set_ylim(36.5,39)\n",
    "    # cb2=fig.colorbar(cc2, ax=ax[1])\n",
    "    # cb2.set_ticks([32.5,33,33.5,34])\n",
    "    # ax[1].set_title(r'S',fontsize=15)\n",
    "\n",
    "\n",
    "    cc2=ax[1].contourf(rho_f.nav_lon_rho,rho_f.nav_lat_rho,rho_f[ixx]-1000,cmap='rainbow',\n",
    "                       levels=dens_levels,extend='both')\n",
    "    ax[1].quiver(rho_f.nav_lon_rho[1:-1,1:-1][::dec,::dec],rho_f.nav_lat_rho[1:-1,1:-1][::dec,::dec],uf[ixx,::dec,::dec],vf[ixx,::dec,::dec])\n",
    "\n",
    "    ax[1].set_xlim(-126.5,-122)\n",
    "    ax[1].set_ylim(36.5,39)\n",
    "    cb2=fig.colorbar(cc2, ax=ax[1])\n",
    "    # cb2.set_ticks([24.5,25,25.5,26],usetex=False)\n",
    "    cb2.set_ticks([24.5,25.5,26.5],usetex=False)\n",
    "\n",
    "\n",
    "    ax[1].set_title(r'$\\sigma_0$',fontsize=15)\n",
    "\n",
    "\n",
    "\n",
    "\n",
    "\n",
    "\n",
    "    cc3=ax[2].contourf(wf.nav_lon_rho,wf.nav_lat_rho,wf[ixx],cmap='seismic',\n",
    "                       levels=wf_levels,extend='both')\n",
    "    # ax[2].quiver(rho_f.nav_lon_rho[1:-1,1:-1][::dec,::dec],rho_f.nav_lat_rho[1:-1,1:-1][::dec,::dec],uf[ixx,::dec,::dec],vf[ixx,::dec,::dec])\n",
    "\n",
    "    ax[2].set_xlim(-126.5,-122)\n",
    "    ax[2].set_ylim(36.5,39)\n",
    "    cb3=fig.colorbar(cc3, ax=ax[2])\n",
    "    cb3.set_ticks([-5e-5,0,5e-5])\n",
    "    ax[2].set_title(r'w$_s$',fontsize=15,usetex=False)\n",
    "\n",
    "\n",
    "\n",
    "\n",
    "\n",
    "    cc4=ax[3].contourf(rho_f.nav_lon_rho[1:-1,1:-1],rho_f.nav_lat_rho[1:-1,1:-1],np.sqrt(uf.data[ixx]**2+vf.data[ixx]**2),cmap=cm.cm.speed,levels=np.linspace(0,1,75),extend='both')\n",
    "    ax[3].quiver(rho_f.nav_lon_rho[1:-1,1:-1][::dec,::dec],rho_f.nav_lat_rho[1:-1,1:-1][::dec,::dec],uf[ixx,::dec,::dec],vf[ixx,::dec,::dec])\n",
    "\n",
    "    ax[3].set_xlim(-126.5,-122)\n",
    "    ax[3].set_ylim(36.5,39)\n",
    "    cb4=fig.colorbar(cc4, ax=ax[3])\n",
    "    cb4.set_ticks([0,0.5,1])\n",
    "    ax[3].set_title(r'$|U|$',fontsize=15)\n",
    "\n",
    "\n",
    "\n",
    "    ax[0].text(-126,39.4,'{0}'.format(t_ind_h[ixx].data),fontsize=10,usetex=False)\n",
    "    plt.tight_layout()\n",
    "\n",
    "    # plt.savefig('/homes/metogra/iufarias/Documents/figures/smode_help/maps_{0:03}.png'.format(ixx))\n",
    "    plt.savefig('/homes/metogra/iufarias/Documents/figures/smode_help/may_2/maps_{0:03}.png'.format(ixx))\n",
    "\n",
    "\n",
    "    plt.close()"
   ]
  },
  {
   "cell_type": "code",
   "execution_count": null,
   "id": "9624b271-7abf-441f-bfa5-17b10722f68f",
   "metadata": {
    "tags": []
   },
   "outputs": [],
   "source": [
    "# for ixx in range(sf.shape[0]-1):\n",
    "\n",
    "#     fig,ax=plt.subplots(2,4,figsize=(15,6))\n",
    "#     ax=ax.ravel()\n",
    "#     cc1=ax[0].contourf(sf.nav_lon_rho,sf.nav_lat_rho,sf[ixx],cmap='inferno',levels=np.linspace(32.3,34,75),extend='both')\n",
    "\n",
    "\n",
    "#     cb1=fig.colorbar(cc1, ax=ax[0])\n",
    "#     cb1.set_ticks([32.5,33,33.5,34])\n",
    "\n",
    "#     ax[0].set_title(r'S (FULL)',fontsize=15)\n",
    "\n",
    "\n",
    "\n",
    "#     cc2=ax[4].contourf(st.nav_lon_rho,st.nav_lat_rho,st[ixx],cmap='inferno',levels=np.linspace(32.3,34,75),extend='both')\n",
    "\n",
    "#     cb2=fig.colorbar(cc2, ax=ax[4])\n",
    "#     cb2.set_ticks([32.5,33,33.5,34])\n",
    "#     ax[4].set_title(r'S (SMTH)',fontsize=15)\n",
    "\n",
    "\n",
    "\n",
    "#     cc3=ax[1].contourf(rain_f.nav_lon,rain_f.nav_lat,rain_f[ixx],levels=np.linspace(0,0.001,35),cmap='viridis',extend='both')\n",
    "\n",
    "\n",
    "#     cb3=fig.colorbar(cc3, ax=ax[1])\n",
    "#     # cb3.set_ticks([24.5,25.5,26.5])\n",
    "#     ax[1].set_title('P [mm]',fontsize=15)\n",
    "\n",
    "\n",
    "\n",
    "\n",
    "#     cc4=ax[5].contourf(rain_t.nav_lon,rain_t.nav_lat,rain_t[ixx],levels=np.linspace(0,0.001,35),cmap='viridis',extend='both')\n",
    "\n",
    "#     cb4=fig.colorbar(cc4, ax=ax[5])\n",
    "#     ax[5].set_title('P [mm]',fontsize=15)\n",
    "\n",
    "\n",
    "\n",
    "\n",
    "\n",
    "#     cc5=ax[2].contourf(tf.nav_lon_rho,tf.nav_lat_rho,tf[ixx],cmap='rainbow',levels=np.linspace(9,15,75),extend='both')\n",
    "\n",
    "#     cb5=fig.colorbar(cc5, ax=ax[2])\n",
    "#     cb5.set_ticks([9,10,11,12,13])\n",
    "\n",
    "#     ax[2].set_title(r'T [C] (FULL)',fontsize=15)\n",
    "\n",
    "\n",
    "\n",
    "#     cc6=ax[6].contourf(tt.nav_lon_rho,tt.nav_lat_rho,tt[ixx],cmap='rainbow',levels=np.linspace(9,15,75),extend='both')\n",
    "#     cb6=fig.colorbar(cc6, ax=ax[6])\n",
    "#     cb6.set_ticks([9,10,11,12,13])\n",
    "#     ax[6].set_title(r'T [C](SMTH)',fontsize=15)\n",
    "\n",
    "\n",
    "\n",
    "#     cc7=ax[3].contourf(LH_f.nav_lon,LH_f.nav_lat,LH_f[ixx],levels=np.linspace(-150,150,75),cmap='seismic',extend='both')\n",
    "\n",
    "\n",
    "#     cb7=fig.colorbar(cc7, ax=ax[3])\n",
    "#     cb7.set_ticks([-100,-50,0,50,100])\n",
    "\n",
    "\n",
    "#     # cb3.set_ticks([24.5,25.5,26.5])\n",
    "#     ax[3].set_title(r'LH [W m$^{-2}$]',fontsize=15)\n",
    "\n",
    "\n",
    "\n",
    "\n",
    "#     cc8=ax[7].contourf(LH_t.nav_lon,LH_t.nav_lat,LH_t[ixx],levels=np.linspace(-150,150,75),cmap='seismic',extend='both')\n",
    "\n",
    "#     cb8=fig.colorbar(cc8, ax=ax[7])\n",
    "#     cb8.set_ticks([-100,-50,0,50,100])\n",
    "\n",
    "\n",
    "#     # cb4.set_ticks([0,0.5,1])\n",
    "#     ax[7].set_title(r'LH [W m$^{-2}$]',fontsize=15)\n",
    "\n",
    "\n",
    "\n",
    "#     ax[0].text(-126,30.4,'{0}'.format(t_ind[ixx].data),fontsize=10)\n",
    "#     plt.tight_layout()\n",
    "#     plt.savefig('/homes/metogra/iufarias/Documents/figures/smode_help/S_T_P_LH/salt+precipitation_maps_{0:03}.png'.format(ixx))\n",
    "#     plt.close()\n"
   ]
  },
  {
   "cell_type": "code",
   "execution_count": null,
   "id": "06c2ae52-3ee9-4019-86bb-45a671435cea",
   "metadata": {
    "tags": []
   },
   "outputs": [],
   "source": [
    "# ixx=0\n",
    "# for ixx in range(sf.shape[0]-1):\n",
    "\n",
    "\n",
    "#     fig,ax=plt.subplots(1,4,figsize=(16,4))\n",
    "#     ax=ax.ravel()\n",
    "#     cc1=ax[0].contourf(sf.nav_lon_rho,sf.nav_lat_rho,(sf[ixx]-st[ixx]),cmap='seismic',levels=np.linspace(-0.5,0.5,35),extend='both')\n",
    "\n",
    "\n",
    "#     cb1=fig.colorbar(cc1, ax=ax[0])\n",
    "#     cb1.set_ticks([-0.5,0,0.5])\n",
    "\n",
    "#     ax[0].set_title(r'S',fontsize=15)\n",
    "\n",
    "\n",
    "\n",
    "#     cc2=ax[1].contourf(tt.nav_lon_rho,tt.nav_lat_rho,(tf[ixx]-tt[ixx]),cmap='seismic',levels=np.linspace(-1,1,35),extend='both')\n",
    "\n",
    "#     cb2=fig.colorbar(cc2, ax=ax[1])\n",
    "#     cb2.set_ticks([-1,-0.5,0,0.5,1])\n",
    "#     ax[1].set_title(r'T[$^{\\circ}$C]',fontsize=15)\n",
    "\n",
    "\n",
    "\n",
    "#     cc3=ax[2].contourf(rain_f.nav_lon,rain_f.nav_lat,(rain_f[ixx]-rain_t[ixx]),levels=np.linspace(-1e-4,1e-4,75),cmap='seismic',extend='both')\n",
    "\n",
    "\n",
    "#     cb3=fig.colorbar(cc3, ax=ax[2])\n",
    "#     cb3.set_ticks([-1e-4,0,1e-4])\n",
    "\n",
    "#     ax[2].set_title('P [mm]',fontsize=15)\n",
    "\n",
    "\n",
    "\n",
    "#     cc4=ax[3].contourf(LH_t.nav_lon,LH_t.nav_lat,(LH_f[ixx]-LH_t[ixx]),levels=np.linspace(-30,30,35),cmap='seismic',extend='both')\n",
    "\n",
    "#     cb4=fig.colorbar(cc4, ax=ax[3])\n",
    "#     cb4.set_ticks([-25,0,25])\n",
    "#     cb4.set_label('FULL-SMTH')\n",
    "\n",
    "#     ax[3].set_title(r'LH [W m$^{-2}$]',fontsize=15)\n",
    "\n",
    "\n",
    "#     ax[0].text(-126,30.4,'{0}'.format(t_ind[ixx].data),fontsize=10)\n",
    "#     plt.tight_layout()\n",
    "#     plt.savefig('/homes/metogra/iufarias/Documents/figures/smode_help/anomaly/salt+precipitation+lh+t+anomaly_maps_{0:03}.png'.format(ixx))\n",
    "#     plt.close()\n",
    "\n",
    "\n"
   ]
  },
  {
   "cell_type": "code",
   "execution_count": null,
   "id": "fb1c6c94-ff59-46c7-b5c3-2a43992df128",
   "metadata": {},
   "outputs": [],
   "source": []
  }
 ],
 "metadata": {
  "kernelspec": {
   "display_name": "ROMS",
   "language": "python",
   "name": "roms"
  },
  "language_info": {
   "codemirror_mode": {
    "name": "ipython",
    "version": 3
   },
   "file_extension": ".py",
   "mimetype": "text/x-python",
   "name": "python",
   "nbconvert_exporter": "python",
   "pygments_lexer": "ipython3",
   "version": "3.7.0"
  }
 },
 "nbformat": 4,
 "nbformat_minor": 5
}
