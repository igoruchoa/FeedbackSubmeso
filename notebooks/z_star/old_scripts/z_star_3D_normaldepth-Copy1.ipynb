{
 "cells": [
  {
   "cell_type": "code",
   "execution_count": 20,
   "id": "babb62b7-9f8a-4a13-b7ff-47dc0b17779a",
   "metadata": {
    "tags": []
   },
   "outputs": [],
   "source": [
    "import numpy as np\n",
    "import xroms\n",
    "from glob import glob\n",
    "import matplotlib.pyplot as plt\n",
    "import xarray as xr\n",
    "import pandas as pd\n",
    "import xrft as xrft\n",
    "import warnings\n",
    "import sys\n",
    "import xrft\n",
    "sys.path.append(\"/homes/metogra/iufarias/FeedbackSubmeso/useful/\")\n",
    "import romspickle\n",
    "\n",
    "from dask.diagnostics import ProgressBar\n",
    "import dask\n",
    "from dask.distributed import Client, LocalCluster\n",
    "\n",
    "import scipy.integrate as integ\n",
    "warnings.filterwarnings(\"ignore\")\n",
    "import seawater as sw\n"
   ]
  },
  {
   "cell_type": "code",
   "execution_count": 21,
   "id": "ddd389d7-cf59-496b-a12c-270ec0a68cc2",
   "metadata": {
    "tags": []
   },
   "outputs": [],
   "source": [
    "client = Client(processes=False)\n",
    "# client = Client(cluster)\n",
    "# client = Client(n_workers=90)\n"
   ]
  },
  {
   "cell_type": "code",
   "execution_count": 22,
   "id": "bb12b1e3-9ee1-4365-9e0b-c2dad1c93879",
   "metadata": {
    "tags": []
   },
   "outputs": [
    {
     "data": {
      "text/html": [
       "<div>\n",
       "    <div style=\"width: 24px; height: 24px; background-color: #e1e1e1; border: 3px solid #9D9D9D; border-radius: 5px; position: absolute;\"> </div>\n",
       "    <div style=\"margin-left: 48px;\">\n",
       "        <h3 style=\"margin-bottom: 0px;\">Client</h3>\n",
       "        <p style=\"color: #9D9D9D; margin-bottom: 0px;\">Client-dcd376d2-51e1-11ef-b59f-b07b25d42406</p>\n",
       "        <table style=\"width: 100%; text-align: left;\">\n",
       "\n",
       "        <tr>\n",
       "        \n",
       "            <td style=\"text-align: left;\"><strong>Connection method:</strong> Cluster object</td>\n",
       "            <td style=\"text-align: left;\"><strong>Cluster type:</strong> distributed.LocalCluster</td>\n",
       "        \n",
       "        </tr>\n",
       "\n",
       "        \n",
       "            <tr>\n",
       "                <td style=\"text-align: left;\">\n",
       "                    <strong>Dashboard: </strong> <a href=\"http://128.8.216.13:38735/status\" target=\"_blank\">http://128.8.216.13:38735/status</a>\n",
       "                </td>\n",
       "                <td style=\"text-align: left;\"></td>\n",
       "            </tr>\n",
       "        \n",
       "\n",
       "        </table>\n",
       "\n",
       "        \n",
       "            <details>\n",
       "            <summary style=\"margin-bottom: 20px;\"><h3 style=\"display: inline;\">Cluster Info</h3></summary>\n",
       "            <div class=\"jp-RenderedHTMLCommon jp-RenderedHTML jp-mod-trusted jp-OutputArea-output\">\n",
       "    <div style=\"width: 24px; height: 24px; background-color: #e1e1e1; border: 3px solid #9D9D9D; border-radius: 5px; position: absolute;\">\n",
       "    </div>\n",
       "    <div style=\"margin-left: 48px;\">\n",
       "        <h3 style=\"margin-bottom: 0px; margin-top: 0px;\">LocalCluster</h3>\n",
       "        <p style=\"color: #9D9D9D; margin-bottom: 0px;\">397ee937</p>\n",
       "        <table style=\"width: 100%; text-align: left;\">\n",
       "            <tr>\n",
       "                <td style=\"text-align: left;\">\n",
       "                    <strong>Dashboard:</strong> <a href=\"http://128.8.216.13:38735/status\" target=\"_blank\">http://128.8.216.13:38735/status</a>\n",
       "                </td>\n",
       "                <td style=\"text-align: left;\">\n",
       "                    <strong>Workers:</strong> 1\n",
       "                </td>\n",
       "            </tr>\n",
       "            <tr>\n",
       "                <td style=\"text-align: left;\">\n",
       "                    <strong>Total threads:</strong> 128\n",
       "                </td>\n",
       "                <td style=\"text-align: left;\">\n",
       "                    <strong>Total memory:</strong> 502.98 GiB\n",
       "                </td>\n",
       "            </tr>\n",
       "            \n",
       "            <tr>\n",
       "    <td style=\"text-align: left;\"><strong>Status:</strong> running</td>\n",
       "    <td style=\"text-align: left;\"><strong>Using processes:</strong> False</td>\n",
       "</tr>\n",
       "\n",
       "            \n",
       "        </table>\n",
       "\n",
       "        <details>\n",
       "            <summary style=\"margin-bottom: 20px;\">\n",
       "                <h3 style=\"display: inline;\">Scheduler Info</h3>\n",
       "            </summary>\n",
       "\n",
       "            <div style=\"\">\n",
       "    <div>\n",
       "        <div style=\"width: 24px; height: 24px; background-color: #FFF7E5; border: 3px solid #FF6132; border-radius: 5px; position: absolute;\"> </div>\n",
       "        <div style=\"margin-left: 48px;\">\n",
       "            <h3 style=\"margin-bottom: 0px;\">Scheduler</h3>\n",
       "            <p style=\"color: #9D9D9D; margin-bottom: 0px;\">Scheduler-61d1981c-b1c1-4ca2-87bd-5ace350ebd3e</p>\n",
       "            <table style=\"width: 100%; text-align: left;\">\n",
       "                <tr>\n",
       "                    <td style=\"text-align: left;\">\n",
       "                        <strong>Comm:</strong> inproc://128.8.216.13/521631/11\n",
       "                    </td>\n",
       "                    <td style=\"text-align: left;\">\n",
       "                        <strong>Workers:</strong> 1\n",
       "                    </td>\n",
       "                </tr>\n",
       "                <tr>\n",
       "                    <td style=\"text-align: left;\">\n",
       "                        <strong>Dashboard:</strong> <a href=\"http://128.8.216.13:38735/status\" target=\"_blank\">http://128.8.216.13:38735/status</a>\n",
       "                    </td>\n",
       "                    <td style=\"text-align: left;\">\n",
       "                        <strong>Total threads:</strong> 128\n",
       "                    </td>\n",
       "                </tr>\n",
       "                <tr>\n",
       "                    <td style=\"text-align: left;\">\n",
       "                        <strong>Started:</strong> Just now\n",
       "                    </td>\n",
       "                    <td style=\"text-align: left;\">\n",
       "                        <strong>Total memory:</strong> 502.98 GiB\n",
       "                    </td>\n",
       "                </tr>\n",
       "            </table>\n",
       "        </div>\n",
       "    </div>\n",
       "\n",
       "    <details style=\"margin-left: 48px;\">\n",
       "        <summary style=\"margin-bottom: 20px;\">\n",
       "            <h3 style=\"display: inline;\">Workers</h3>\n",
       "        </summary>\n",
       "\n",
       "        \n",
       "        <div style=\"margin-bottom: 20px;\">\n",
       "            <div style=\"width: 24px; height: 24px; background-color: #DBF5FF; border: 3px solid #4CC9FF; border-radius: 5px; position: absolute;\"> </div>\n",
       "            <div style=\"margin-left: 48px;\">\n",
       "            <details>\n",
       "                <summary>\n",
       "                    <h4 style=\"margin-bottom: 0px; display: inline;\">Worker: 0</h4>\n",
       "                </summary>\n",
       "                <table style=\"width: 100%; text-align: left;\">\n",
       "                    <tr>\n",
       "                        <td style=\"text-align: left;\">\n",
       "                            <strong>Comm: </strong> inproc://128.8.216.13/521631/14\n",
       "                        </td>\n",
       "                        <td style=\"text-align: left;\">\n",
       "                            <strong>Total threads: </strong> 128\n",
       "                        </td>\n",
       "                    </tr>\n",
       "                    <tr>\n",
       "                        <td style=\"text-align: left;\">\n",
       "                            <strong>Dashboard: </strong> <a href=\"http://128.8.216.13:43917/status\" target=\"_blank\">http://128.8.216.13:43917/status</a>\n",
       "                        </td>\n",
       "                        <td style=\"text-align: left;\">\n",
       "                            <strong>Memory: </strong> 502.98 GiB\n",
       "                        </td>\n",
       "                    </tr>\n",
       "                    <tr>\n",
       "                        <td style=\"text-align: left;\">\n",
       "                            <strong>Nanny: </strong> None\n",
       "                        </td>\n",
       "                        <td style=\"text-align: left;\"></td>\n",
       "                    </tr>\n",
       "                    <tr>\n",
       "                        <td colspan=\"2\" style=\"text-align: left;\">\n",
       "                            <strong>Local directory: </strong> /tmp/dask-worker-space/worker-99or62dw\n",
       "                        </td>\n",
       "                    </tr>\n",
       "\n",
       "                    \n",
       "\n",
       "                    \n",
       "\n",
       "                </table>\n",
       "            </details>\n",
       "            </div>\n",
       "        </div>\n",
       "        \n",
       "\n",
       "    </details>\n",
       "</div>\n",
       "\n",
       "        </details>\n",
       "    </div>\n",
       "</div>\n",
       "            </details>\n",
       "        \n",
       "\n",
       "    </div>\n",
       "</div>"
      ],
      "text/plain": [
       "<Client: 'inproc://128.8.216.13/521631/11' processes=1 threads=128, memory=502.98 GiB>"
      ]
     },
     "execution_count": 22,
     "metadata": {},
     "output_type": "execute_result"
    }
   ],
   "source": [
    "client"
   ]
  },
  {
   "cell_type": "code",
   "execution_count": 24,
   "id": "448ab733-de27-4b44-a804-c1ca52511d79",
   "metadata": {
    "tags": []
   },
   "outputs": [],
   "source": [
    "# chunks={'time_counter':10, 'x_rho':50, 'y_rho':190,'s_rho':80,'s_w':80}\n",
    "chunks={'time_counter':1,'x_rho':1000,\"x_u\":1000,\"x_v\":1000,\n",
    "                        'y_rho':1520,\"y_u\":1520,\"y_v\":1520,'s_rho':80,'s_w':80}\n",
    "\n",
    "M='03'\n",
    "path='/data/pacific/lrenault/SASI/CROCO/'\n",
    "\n",
    "varf=xr.open_mfdataset(path + 'FULL/SASI*2012-{0}*.nc'.format(M),data_vars='minimal',chunks=chunks)\n",
    "vart=xr.open_mfdataset(path + 'SMTH/SASI*2012-{0}*.nc'.format(M),data_vars='minimal',chunks=chunks)\n",
    "\n",
    "# varf=xr.open_mfdataset(path + 'FULL/SASI*2012*.nc',data_vars='minimal',chunks=chunks)\n",
    "# vart=xr.open_mfdataset(path + 'SMTH/SASI*2012*.nc',data_vars='minimal',chunks=chunks)"
   ]
  },
  {
   "cell_type": "code",
   "execution_count": 25,
   "id": "7dddce8d-e7fd-4e20-8aa5-18a1cafe1178",
   "metadata": {
    "tags": []
   },
   "outputs": [],
   "source": [
    "varx = varf.rename({\"time_counter\":\"ocean_time\",\"x_rho\": \"xi_rho\",\"x_u\":\"xi_u\",\"x_v\":\"xi_v\",\"x_w\":\"xi_w\",\n",
    "                    \"y_rho\":\"eta_rho\",\"y_v\":\"eta_v\",\"y_u\":\"eta_u\",\"y_w\":\"eta_w\",\"s_rho\":\"s_rho\",\"s_w\":\"s_w\"})\n",
    "df,gf=xroms.roms_dataset(varx,Vtransform=varx.Vtransform.data)\n",
    "\n",
    "vary = vart.rename({\"time_counter\":\"ocean_time\",\"x_rho\": \"xi_rho\",\"x_u\":\"xi_u\",\"x_v\":\"xi_v\",\n",
    "                    \"y_rho\":\"eta_rho\",\"y_v\":\"eta_v\",\"y_u\":\"eta_u\",\"y_w\":\"eta_w\",\"s_rho\":\"s_rho\",\"s_w\":\"s_w\"})\n",
    "dt,gt=xroms.roms_dataset(vary,Vtransform=vary.Vtransform.data)"
   ]
  },
  {
   "cell_type": "code",
   "execution_count": 26,
   "id": "00e19eae-7106-47c8-b544-acd4075aeab7",
   "metadata": {
    "tags": []
   },
   "outputs": [],
   "source": [
    "timer_h=pd.DatetimeIndex(dt.ocean_time)\n",
    "timer_d=pd.DatetimeIndex(dt.ocean_time.groupby(\"ocean_time.dayofyear\").mean())"
   ]
  },
  {
   "cell_type": "code",
   "execution_count": 27,
   "id": "f91d43bb-3161-4cc9-91f7-2a5a86bd8df2",
   "metadata": {
    "tags": []
   },
   "outputs": [],
   "source": [
    "# temp_full=df.temp[:,:,120:-120,120:700]\n",
    "# temp_smth=dt.temp[:,:,120:-120,120:700]\n",
    "\n",
    "# salt_full=df.salt[:,:,120:-120,120:700]\n",
    "# salt_smth=dt.salt[:,:,120:-120,120:700]"
   ]
  },
  {
   "cell_type": "code",
   "execution_count": 28,
   "id": "2e12e2af-2891-4d79-8f75-efb92f44ab47",
   "metadata": {
    "tags": []
   },
   "outputs": [],
   "source": [
    "# def xr_pden(s,t,p,pr):\n",
    "#     return xr.apply_ufunc(sw.pden,kwargs={'t':t,'s':s,'p':p,'pr':pr})"
   ]
  },
  {
   "cell_type": "code",
   "execution_count": 29,
   "id": "eaad7f06-e1dc-4da6-be67-e19ed3dda7f1",
   "metadata": {
    "tags": []
   },
   "outputs": [
    {
     "name": "stdout",
     "output_type": "stream",
     "text": [
      "CPU times: user 11 µs, sys: 5 µs, total: 16 µs\n",
      "Wall time: 31.9 µs\n"
     ]
    }
   ],
   "source": [
    "%time\n",
    "rho_full=df.rho[:,:,120:-120,120:700]+df.rho0\n",
    "rho_smth=dt.rho[:,:,120:-120,120:700]+dt.rho0\n",
    "\n",
    "# rho_full=temp_full[0].copy(data=sw.pden(s=salt_full[0,:],t=temp_full[0,:],p=-temp_full.z_rho[0,:],pr=0))\n",
    "# rho_smth=temp_smth[0].copy(data=sw.pden(s=salt_smth[0,:],t=temp_smth[0,:],p=-temp_smth.z_rho[0,:],pr=0))"
   ]
  },
  {
   "cell_type": "code",
   "execution_count": 30,
   "id": "212b4787-4314-42ea-92f6-667cf892ac91",
   "metadata": {
    "tags": []
   },
   "outputs": [
    {
     "data": {
      "text/plain": [
       "-5.015075376884422"
      ]
     },
     "execution_count": 30,
     "metadata": {},
     "output_type": "execute_result"
    }
   ],
   "source": [
    "# z_interp=np.linspace(-2,-1000, 100)\n",
    "z_interp=np.linspace(-2,-1000, 200)\n",
    "\n",
    "# z_interp=np.linspace(-2,-1000,100)\n",
    "# z_interp_rev=np.linspace(2,1000,100)[::-1]\n",
    "\n",
    "np.diff(z_interp).mean()"
   ]
  },
  {
   "cell_type": "code",
   "execution_count": 31,
   "id": "06f63b88-7386-4c00-aa3c-7837d0d54ae9",
   "metadata": {
    "tags": []
   },
   "outputs": [],
   "source": [
    "# z_matrix=np.zeros([z_interp.shape[0],rho_full.shape[2],rho_full.shape[3]])\n",
    "z_matrix=np.zeros([z_interp.shape[0],rho_full.shape[1],rho_full.shape[2]])\n",
    "# z_matrix[:,:,:]=-z_interp[:,None,None]"
   ]
  },
  {
   "cell_type": "code",
   "execution_count": 32,
   "id": "75ef8403-c6cf-4148-9584-5c2920c43b11",
   "metadata": {
    "tags": []
   },
   "outputs": [],
   "source": [
    "dec=1\n",
    "Zstar_full=xr.DataArray(coords=(df.ocean_time[::dec],\n",
    "                                z_interp,\n",
    "                                rho_full.eta_rho.data,\n",
    "                                rho_full.xi_rho.data),\n",
    "                      dims=['ocean_time','z_rho','eta_rho','xi_rho'])\n",
    "\n",
    "Rho_full_interp=xr.DataArray(coords=(df.ocean_time[::dec],\n",
    "                                z_interp,\n",
    "                                rho_full.eta_rho.data,\n",
    "                                rho_full.xi_rho.data),\n",
    "                      dims=['ocean_time','z_rho','eta_rho','xi_rho'])"
   ]
  },
  {
   "cell_type": "code",
   "execution_count": null,
   "id": "9f58a168-01f9-4ced-a294-278371d016cb",
   "metadata": {
    "tags": []
   },
   "outputs": [],
   "source": [
    "%%time\n",
    "\"NEW METHOD\"\n",
    "\n",
    "\n",
    "for day_x in range(rho_full.ocean_time.shape[0]):\n",
    "\n",
    "\n",
    "    rho_full_interp=rho_full[day_x,:,:,:].xroms.isoslice(z_interp).compute()\n",
    "    # rho_full_interp['z_rho']=z_interp\n",
    "    Rho_full_interp[day_x,:,:,:]=rho_full_interp\n",
    "\n",
    "    \"numpy method (working but janky)\"\n",
    "    rho_full_stacked=np.ravel(rho_full_interp)\n",
    "    index_sorted_full=np.argsort(rho_full_stacked)\n",
    "\n",
    "    rho_star=rho_full_interp.copy(data=rho_full_stacked[index_sorted_full].reshape(rho_full_interp.shape))\n",
    "    rho_star_m=rho_full_interp.copy(data=np.tile(rho_star.mean(['xi_rho','eta_rho']),\n",
    "                                                 (rho_full_interp.shape[2],rho_full_interp.shape[1],1)).T)\n",
    "\n",
    "    for zi in range(z_interp.shape[0]):\n",
    "        Zstar_full[day_x,zi,:,:]=z_interp[(np.abs(rho_full_interp[zi,:,:]-rho_star_m)).argmin('z_rho')]"
   ]
  },
  {
   "cell_type": "code",
   "execution_count": null,
   "id": "9a483b0e-0216-47c5-b267-8f0486f5ee40",
   "metadata": {
    "tags": []
   },
   "outputs": [],
   "source": [
    "%%time\n",
    "Zstar_full.to_netcdf('/data/pacific/iufarias/z_star/z_star_full_newmethod_M{0}.nc'.format(M))\n",
    "del Zstar_full"
   ]
  },
  {
   "cell_type": "code",
   "execution_count": null,
   "id": "3c3f9df6-b325-471d-91da-272ff0a3ce31",
   "metadata": {
    "tags": []
   },
   "outputs": [],
   "source": [
    "%%time\n",
    "Rho_full_interp.to_netcdf('/data/pacific/iufarias/z_star/rho_full_M{0}.nc'.format(M))\n",
    "del Rho_full_interp"
   ]
  },
  {
   "cell_type": "code",
   "execution_count": null,
   "id": "af65b85f-ccce-454b-8c1e-b424f6b04b10",
   "metadata": {
    "tags": []
   },
   "outputs": [],
   "source": [
    "Zstar_smth=xr.DataArray(coords=(dt.ocean_time[::dec],\n",
    "                                z_interp,\n",
    "                                rho_smth.eta_rho,\n",
    "                                rho_smth.xi_rho),\n",
    "                      dims=['ocean_time','z_rho','eta_rho','xi_rho'])\n",
    "\n",
    "Rho_smth_interp=xr.DataArray(coords=(dt.ocean_time[::dec],\n",
    "                                z_interp,\n",
    "                                rho_smth.eta_rho,\n",
    "                                rho_smth.xi_rho),\n",
    "                      dims=['ocean_time','z_rho','eta_rho','xi_rho'])"
   ]
  },
  {
   "cell_type": "code",
   "execution_count": null,
   "id": "9e154ac3-ffba-4f93-891f-0e7b62e78105",
   "metadata": {
    "tags": []
   },
   "outputs": [],
   "source": [
    "%%time\n",
    "\"NEW METHOD\"\n",
    "for day_x in range(rho_smth.ocean_time.shape[0]):\n",
    "\n",
    "\n",
    "    rho_smth_interp=rho_smth[day_x,:,:,:].xroms.isoslice(z_interp).compute()\n",
    "    # rho_smth_interp['z_rho']=z_interp_rev\n",
    "    Rho_smth_interp[day_x,:,:,:]=rho_smth_interp\n",
    "\n",
    "    \"numpy working hod (working but janky)\"\n",
    "    rho_smth_stacked=np.ravel(rho_smth_interp)\n",
    "    index_sorted_smth=np.argsort(rho_smth_stacked)\n",
    "\n",
    "    rho_star=rho_smth_interp.copy(data=rho_smth_stacked[index_sorted_smth].reshape(rho_smth_interp.shape))\n",
    "    rho_star_m=rho_smth_interp.copy(data=np.tile(rho_star.mean(['xi_rho','eta_rho']),\n",
    "                                                 (rho_smth_interp.shape[2],rho_smth_interp.shape[1],1)).T)\n",
    "\n",
    "    for zi in range(z_interp.shape[0]):\n",
    "        Zstar_smth[day_x,zi,:,:]=z_interp[(np.abs(rho_smth_interp[zi,:,:]-rho_star_m)).argmin('z_rho')]"
   ]
  },
  {
   "cell_type": "code",
   "execution_count": null,
   "id": "3a800544-b8c0-494b-be11-190f1c7b5a2d",
   "metadata": {
    "tags": []
   },
   "outputs": [],
   "source": [
    "%%time\n",
    "Zstar_smth.to_netcdf('/data/pacific/iufarias/z_star/z_star_smth_newmethod_M{0}.nc'.format(M))\n",
    "del Zstar_smth"
   ]
  },
  {
   "cell_type": "code",
   "execution_count": null,
   "id": "0122ff65-433a-4556-9f95-9d0f96608d0d",
   "metadata": {
    "tags": []
   },
   "outputs": [],
   "source": [
    "%%time\n",
    "Rho_smth_interp.to_netcdf('/data/pacific/iufarias/z_star/rho_smth_M{0}.nc'.format(M))\n",
    "del Rho_smth_interp"
   ]
  },
  {
   "cell_type": "code",
   "execution_count": null,
   "id": "580c8cd9-f3bb-433e-aa31-37e23525f552",
   "metadata": {},
   "outputs": [],
   "source": []
  }
 ],
 "metadata": {
  "kernelspec": {
   "display_name": "XROMS",
   "language": "python",
   "name": "xroms"
  },
  "language_info": {
   "codemirror_mode": {
    "name": "ipython",
    "version": 3
   },
   "file_extension": ".py",
   "mimetype": "text/x-python",
   "name": "python",
   "nbconvert_exporter": "python",
   "pygments_lexer": "ipython3",
   "version": "3.8.19"
  }
 },
 "nbformat": 4,
 "nbformat_minor": 5
}
