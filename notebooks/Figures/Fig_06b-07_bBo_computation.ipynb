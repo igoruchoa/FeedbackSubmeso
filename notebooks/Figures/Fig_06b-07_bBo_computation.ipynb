{
 "cells": [
  {
   "cell_type": "markdown",
   "id": "e3f8968f-3b02-4bad-b225-ea5e3735dea5",
   "metadata": {
    "tags": []
   },
   "source": [
    "# $b'B_o$ computation"
   ]
  },
  {
   "cell_type": "code",
   "execution_count": 1,
   "id": "dc6c4173-e2c5-41ad-9a79-cddc9c64ab66",
   "metadata": {
    "tags": []
   },
   "outputs": [],
   "source": [
    "import numpy as np\n",
    "from glob import glob\n",
    "import matplotlib.pyplot as plt\n",
    "import gc\n",
    "import xarray as xr\n",
    "import pandas as pd\n",
    "import xrft as xrft\n",
    "import warnings\n",
    "import scipy.signal as sig\n",
    "import sys\n",
    "import seaborn as sns\n",
    "import gsw as gsw\n",
    "sys.path.append(\"/homes/metogra/iufarias/FeedbackSubmeso/useful/\")\n",
    "import romspickle\n",
    "# import seawater as sw\n",
    "from dask.distributed import Client, LocalCluster\n",
    "from dask.diagnostics import ProgressBar\n",
    "\n",
    "warnings.filterwarnings(\"ignore\")"
   ]
  },
  {
   "cell_type": "code",
   "execution_count": 2,
   "id": "89e6d3ad-8516-41f1-9918-2537e081dd28",
   "metadata": {
    "tags": []
   },
   "outputs": [],
   "source": [
    "# # client = Client(n_workers=90)\n",
    "# # # client = Client(cluster)\n",
    "\n",
    "# client = Client(n_workers=30,processes=True)\n",
    "# client"
   ]
  },
  {
   "cell_type": "code",
   "execution_count": 3,
   "id": "e7ef5cc2-cd41-434c-8808-6ef7ab03e22f",
   "metadata": {
    "tags": []
   },
   "outputs": [],
   "source": [
    "from pyspec import spectrum\n",
    "import seawater as sw\n",
    "\n",
    "\n",
    "def plot_chi_error(ki,spec,sn,color='red',label=None,ci=0.95,alpha=0.25):\n",
    "\n",
    "    Eu,El=spectrum.spec_error(spec,sn=sn, ci=ci)\n",
    "    return plt.fill_between(ki,El,Eu, color=color, label=None,alpha=alpha)\n"
   ]
  },
  {
   "cell_type": "code",
   "execution_count": 4,
   "id": "4025519f-2601-455f-9fae-fe1d5cad23cd",
   "metadata": {
    "tags": []
   },
   "outputs": [],
   "source": [
    "import xesmf as xe\n",
    "    \n",
    "def regrid(var, lons, lats, which):\n",
    "    # rename coords for use with xESMF\n",
    "    lonkey = [coord for coord in var.coords if \"nav_lon\" in coord][0]\n",
    "    latkey = [coord for coord in var.coords if \"nav_lat\" in coord][0]\n",
    "    var = var.rename({lonkey: \"lon\", latkey: \"lat\"})\n",
    "\n",
    "    # whether inputs are\n",
    "    if which == \"pairs\":\n",
    "        locstream_out = True\n",
    "    elif which == \"grid\":\n",
    "        locstream_out = False\n",
    "\n",
    "    # set up for output\n",
    "    varint = xr.Dataset({\"lat\": ([\"y\", \"x\"], lats), \"lon\": ([\"y\", \"x\"], lons)})\n",
    "\n",
    "    # Calculate weights.\n",
    "    regridder = xe.Regridder(var, varint, \"bilinear\",  locstream_out=locstream_out)\n",
    "\n",
    "    # Perform interpolation\n",
    "    varint = regridder(var, keep_attrs=True)\n",
    "    return varint, regridder\n",
    "\n"
   ]
  },
  {
   "cell_type": "code",
   "execution_count": 5,
   "id": "20557764-e164-4c3a-8ca8-d0143907f6f1",
   "metadata": {
    "tags": []
   },
   "outputs": [],
   "source": [
    "plt.rcParams['text.usetex'] = True\n",
    "plt.rcParams.update({'font.size': 22})\n",
    "\n",
    "plt.rcParams['font.family'] = 'sans-serif'\n",
    "plt.rcParams['font.sans-serif'] = ['Lucida Grande']"
   ]
  },
  {
   "cell_type": "code",
   "execution_count": 6,
   "id": "5884bd7e-c7da-4fae-831c-6445de2cc04e",
   "metadata": {
    "tags": []
   },
   "outputs": [],
   "source": [
    "dxx=0.5"
   ]
  },
  {
   "cell_type": "code",
   "execution_count": 7,
   "id": "738c878a-a9f8-4100-bd33-46f48b4e6bb0",
   "metadata": {
    "tags": []
   },
   "outputs": [],
   "source": [
    "chunks_new={'time_counter':1}\n",
    "\n",
    "path='/data/pacific/lrenault/SASI/CROCO/FULL/'\n",
    "listm=glob(path+'surf*.nc');listm.sort()\n",
    "# varf=xr.open_dataset(listm[-9:][xmon])\n",
    "varf=xr.open_mfdataset(listm[1:],data_vars='minimal',chunks=chunks_new)\n",
    "\n",
    "path='/data/pacific/lrenault/SASI/CROCO/SMTH/'\n",
    "listt=glob(path+'surf*SASI_6h_his_20*_*.nc');listt.sort()\n",
    "listt.append('/data/pacific/lrenault/SASI/CROCO/SMTH/surf_SASI_6h_his_2012-07.nc')\n",
    "#vart=xr.open_dataset(listt[xmon])\n",
    "vart=xr.open_mfdataset(listt[1:],data_vars='minimal',chunks=chunks_new)"
   ]
  },
  {
   "cell_type": "code",
   "execution_count": 8,
   "id": "08e9a90f-b069-4788-bb9e-e0c6735203a8",
   "metadata": {
    "tags": []
   },
   "outputs": [],
   "source": [
    "\n",
    "path='/data/pacific/lrenault/SASI/FULL/WRF/'\n",
    "listmw=glob(path+'wrf_*.nc');listmw.sort()\n",
    "# varf=xr.open_dataset(listm[-9:][xmon])\n",
    "varfw=xr.open_mfdataset(listmw[::2][-7:],chunks=chunks_new)\n",
    "\n",
    "path='/data/pacific/lrenault/SASI/SMTH/WRF/'\n",
    "listtw=glob(path+'wrf_*.nc');listtw.sort()\n",
    "#vart=xr.open_dataset(listt[xmon])\n",
    "vartw=xr.open_mfdataset(listtw[::2][-7:],chunks=chunks_new)"
   ]
  },
  {
   "cell_type": "code",
   "execution_count": 9,
   "id": "bb4e1906-ba61-4a8f-ab86-563eb5cf5f64",
   "metadata": {
    "tags": []
   },
   "outputs": [],
   "source": [
    "\n",
    "# path='/data/pacific/lrenault/SASI/FULL/WRF/'\n",
    "# listmw2=glob(path+'wrf_*DAY*.nc');listmw2.sort()\n",
    "# # varf=xr.open_dataset(listm[-9:][xmon])\n",
    "# varfw2=xr.open_mfdataset(listmw2[-7:],chunks=chunks_new)"
   ]
  },
  {
   "cell_type": "markdown",
   "id": "e19cfb4e-d43d-4a4e-9a97-407077b7f42c",
   "metadata": {},
   "source": [
    "# Loading data"
   ]
  },
  {
   "cell_type": "code",
   "execution_count": 10,
   "id": "fc9519b8-a7c8-46cf-9416-bed325aca1d3",
   "metadata": {
    "tags": []
   },
   "outputs": [],
   "source": [
    "import pandas as pd\n",
    "timer=pd.DatetimeIndex(varf.time_counter.groupby(\"time_counter.dayofyear\").mean())[:-1]"
   ]
  },
  {
   "cell_type": "markdown",
   "id": "ee0dcc03-5921-448f-ad84-28d418d54912",
   "metadata": {
    "tags": []
   },
   "source": [
    "#### **Heat flux 'shflx' from ROMS is a computation of non-solar and solar heating components:**\n",
    "#### **In this setting, cold (warm) SST triggers a heat flux into (out of) the ocean, with a positive value of 'shflx'.**\n",
    "##### croco.shflx=  WRF.GSW- WRF.HFX - WRF.LH -(5.67e-8*(WRF.SST)**4)*emss -WRF.GLW)"
   ]
  },
  {
   "cell_type": "code",
   "execution_count": 11,
   "id": "2e79778f",
   "metadata": {
    "tags": []
   },
   "outputs": [
    {
     "name": "stdout",
     "output_type": "stream",
     "text": [
      "CPU times: user 27.7 s, sys: 22.6 s, total: 50.3 s\n",
      "Wall time: 3min 48s\n"
     ]
    }
   ],
   "source": [
    "%%time\n",
    "chunks_new={'time_counter':10}\n",
    "\n",
    "tf=varf.temp#.groupby(\"time_counter.dayofyear\").mean()\n",
    "tf=tf.chunk(chunks=chunks_new);\n",
    "tf=tf[:,100:-100,100:-200].compute();\n",
    "tf=tf[:-1,1:-1,1:-1]\n",
    "\n",
    "tt=vart.temp#.groupby(\"time_counter.dayofyear\").mean()\n",
    "tt=tt.chunk(chunks=chunks_new);\n",
    "tt=tt[:,100:-100,100:-200].compute();\n",
    "tt=tt[:-1,1:-1,1:-1]\n",
    "\n",
    "shf=varf.shflx#.groupby(\"time_counter.dayofyear\").mean()\n",
    "shf=shf.chunk(chunks=chunks_new);\n",
    "shf=shf[:,100:-100,100:-200].compute();\n",
    "shf=shf[:-1,1:-1,1:-1]\n",
    "\n",
    "sht=vart.shflx#.groupby(\"time_counter.dayofyear\").mean()\n",
    "sht=sht.chunk(chunks=chunks_new);\n",
    "sht=sht[:,100:-100,100:-200].compute();\n",
    "sht=sht[:-1,1:-1,1:-1]\n",
    "\n",
    "\n",
    "sf=varf.salt#.groupby(\"time_counter.dayofyear\").mean()\n",
    "sf=sf.chunk(chunks=chunks_new);\n",
    "sf=sf[:,100:-100,100:-200].compute();\n",
    "sf=sf[:-1,1:-1,1:-1]\n",
    "\n",
    "st=vart.salt#.groupby(\"time_counter.dayofyear\").mean()\n",
    "st=st.chunk(chunks=chunks_new);\n",
    "st=st[:,100:-100,100:-200].compute();\n",
    "st=st[:-1,1:-1,1:-1]\n"
   ]
  },
  {
   "cell_type": "markdown",
   "id": "f83b7de4-52b9-4f93-841d-646888bc8404",
   "metadata": {
    "tags": []
   },
   "source": [
    "# Computing $Bo_t$ and $b_T$"
   ]
  },
  {
   "cell_type": "code",
   "execution_count": 12,
   "id": "db61dbdb-ff44-4ac8-bf33-a28cacedc3b4",
   "metadata": {
    "tags": []
   },
   "outputs": [],
   "source": [
    "# N2r=(5.2*10**-3)**2\n",
    "# N2r=(3.9e-3)**2\n",
    "# N2r=2.1757166666666666e-05 #caculated from FULL\n",
    "N2r=0.0002 #calculated from rho_star"
   ]
  },
  {
   "cell_type": "code",
   "execution_count": 13,
   "id": "f98a1420-0887-418a-85a6-cd176e6f0aa2",
   "metadata": {
    "tags": []
   },
   "outputs": [],
   "source": [
    "cp=gsw.cp_t_exact(sf,tf,p=0).mean()\n",
    "rho=1024\n",
    "g=9.8"
   ]
  },
  {
   "cell_type": "code",
   "execution_count": 14,
   "id": "874b3727-f91e-465e-b0aa-9a185c53653a",
   "metadata": {
    "tags": []
   },
   "outputs": [],
   "source": [
    "ct_f=gsw.CT_from_t(sf,tf,p=0)\n",
    "alpha_f=gsw.alpha(sf,ct_f,p=0)\n",
    "# lv_f=gsw.latentheat_evap_CT(sf,ct_f)\n",
    "\n",
    "\n",
    "ct_t=gsw.CT_from_t(st,tt,p=0)\n",
    "alpha_t=gsw.alpha(st,ct_t,p=0)\n",
    "# lv_t=gsw.latentheat_evap_CT(st,ct_t)"
   ]
  },
  {
   "cell_type": "code",
   "execution_count": 15,
   "id": "cb40fd06-c4d1-4f30-a9a0-2fb5de1aa526",
   "metadata": {
    "tags": []
   },
   "outputs": [],
   "source": [
    "# Bot_f=-(alpha_f*g*shf)/(rho*cp)\n",
    "# Bot_t=-(alpha_t*g*sht)/(rho*cp)\n",
    "Bot_f=(alpha_f*g*shf)/(rho*cp) #following Bishop 2020\n",
    "Bot_t=(alpha_t*g*sht)/(rho*cp)\n",
    "\n",
    "\n",
    "\n",
    "\n",
    "bt_f=alpha_f*g*(tf-tf.mean(axis=1).mean(axis=1))#spatial reference\n",
    "bt_t=alpha_t*g*(tt-tt.mean(axis=1).mean(axis=1))#spatial reference\n",
    "\n",
    "# bt_f=alpha_f.mean()*g*(tf-tf.mean())#time and spatial reference\n",
    "# bt_t=alpha_t.mean()*g*(tt-tt.mean())#time and spatial reference\n"
   ]
  },
  {
   "cell_type": "markdown",
   "id": "73b41b8a-18ed-4914-be08-8f9bfe9eb918",
   "metadata": {
    "tags": []
   },
   "source": [
    "# Computing $Bo_s$ and $b_S$"
   ]
  },
  {
   "cell_type": "markdown",
   "id": "00b28420-fcb3-4da9-89b0-cb5925e5d77d",
   "metadata": {},
   "source": [
    "##### Loading data from WRF"
   ]
  },
  {
   "cell_type": "code",
   "execution_count": 16,
   "id": "46949199-9f44-4747-977a-6ca9fcea2626",
   "metadata": {
    "tags": []
   },
   "outputs": [],
   "source": [
    "# varfw.coords['2htime']=varfw.time_counter.dt.floor('2H')\n",
    "# vartw.coords['2htime']=vartw.time_counter.dt.floor('2H')\n",
    "# varfw.coords['1htime']=varfw.time_counter.dt.floor('1H')\n",
    "# vartw.coords['1htime']=vartw.time_counter.dt.floor('1H')\n",
    "\n",
    "varfw=varfw.interp(time_counter=varf.time_counter)\n",
    "vartw=vartw.interp(time_counter=vart.time_counter)\n",
    "\n"
   ]
  },
  {
   "cell_type": "code",
   "execution_count": 17,
   "id": "da0df084-8c4f-409b-8f20-cb7ad52104a4",
   "metadata": {
    "tags": []
   },
   "outputs": [
    {
     "name": "stdout",
     "output_type": "stream",
     "text": [
      "Create weight file: bilinear_390x300_1520x1000.nc\n",
      "Overwrite existing file: bilinear_390x300_1520x1000.nc \n",
      " You can set reuse_weights=True to save computing time.\n",
      "Overwrite existing file: bilinear_390x300_1520x1000.nc \n",
      " You can set reuse_weights=True to save computing time.\n",
      "Overwrite existing file: bilinear_390x300_1520x1000.nc \n",
      " You can set reuse_weights=True to save computing time.\n",
      "CPU times: user 2min 34s, sys: 43.2 s, total: 3min 17s\n",
      "Wall time: 14min 39s\n"
     ]
    }
   ],
   "source": [
    "%%time\n",
    "# chunks_new={'time_counter':40}\n",
    "\n",
    "\n",
    "lhtf=regrid(varfw.LH.compute(),\n",
    "                lons=varf.nav_lon_rho.data,\n",
    "                lats=varf.nav_lat_rho.data,\n",
    "                which='grid')[0][:,100:-100,100:-200][:,1:-1,1:-1]\n",
    "lhtt=regrid(vartw.LH.compute(),\n",
    "                lons=varf.nav_lon_rho.data,\n",
    "                lats=varf.nav_lat_rho.data,\n",
    "                which='grid')[0][:,100:-100,100:-200][:,1:-1,1:-1]\n",
    "Pf=regrid(varfw.RAIN.compute(),\n",
    "                lons=varf.nav_lon_rho.data,\n",
    "                lats=varf.nav_lat_rho.data,\n",
    "                which='grid')[0][:,100:-100,100:-200][:,1:-1,1:-1]\n",
    "Pt=regrid(vartw.RAIN.compute(),\n",
    "                lons=varf.nav_lon_rho.data,\n",
    "                lats=varf.nav_lat_rho.data,\n",
    "                which='grid')[0][:,100:-100,100:-200][:,1:-1,1:-1]\n",
    "\n",
    "\n",
    "# lhtf=regrid(varfw.LH.groupby('2htime').mean(),\n",
    "#                 lons=varf.nav_lon_rho.data,\n",
    "#                 lats=varf.nav_lat_rho.data,\n",
    "#                 which='grid')[0][:,100:-100,100:-200][:,1:-1,1:-1]\n",
    "# lhtt=regrid(vartw.LH.groupby('2htime').mean(),\n",
    "#                 lons=varf.nav_lon_rho.data,\n",
    "#                 lats=varf.nav_lat_rho.data,\n",
    "#                 which='grid')[0][:,100:-100,100:-200][:,1:-1,1:-1]\n",
    "# Pf=regrid(varfw.RAIN.groupby('2htime').mean(),\n",
    "#                 lons=varf.nav_lon_rho.data,\n",
    "#                 lats=varf.nav_lat_rho.data,\n",
    "#                 which='grid')[0][:,100:-100,100:-200][:,1:-1,1:-1]\n",
    "# Pt=regrid(vartw.RAIN.groupby('2htime').mean(),\n",
    "#                 lons=varf.nav_lon_rho.data,\n",
    "#                 lats=varf.nav_lat_rho.data,\n",
    "#                 which='grid')[0][:,100:-100,100:-200][:,1:-1,1:-1]"
   ]
  },
  {
   "cell_type": "code",
   "execution_count": 18,
   "id": "d8492bde-6cd1-4ef3-a4d0-c4d029fdbe0f",
   "metadata": {
    "tags": []
   },
   "outputs": [],
   "source": [
    "# lhtf=lhtf[3:][::3]\n",
    "# lhtt=lhtt[3:][::3]\n",
    "\n",
    "# Pf=Pf[3:][::3]\n",
    "# Pt=Pt[3:][::3]"
   ]
  },
  {
   "cell_type": "markdown",
   "id": "15ea46e3-e5a2-4c0f-a99b-97ace392459b",
   "metadata": {},
   "source": [
    "### Adjusting to same sampling frequency"
   ]
  },
  {
   "cell_type": "code",
   "execution_count": 19,
   "id": "f56e6b91-a631-4b60-b588-9a5d7e88ff8e",
   "metadata": {
    "tags": []
   },
   "outputs": [],
   "source": [
    "# plt.figure(figsize=(10,8))\n",
    "# plt.subplot(3,1,1)\n",
    "# (varfw2.RAIN[100]/0.0393701).plot()\n",
    "# plt.title('daily')\n",
    "# plt.subplot(3,1,2)\n",
    "# (varfw.RAIN[2400:2424].sum(axis=0)/24/0.0393701).plot()\n",
    "# plt.title('hour?')\n",
    "# plt.subplot(3,1,3)\n",
    "# (varfw2.RAIN[100]-(varfw.RAIN[2400:2424].sum(axis=0)/24)).plot()\n",
    "# plt.title('diff')\n",
    "\n",
    "\n",
    "\n",
    "\n",
    "# # varfw.RAIN[0:24].mean(axis=0)\n",
    "# plt.tight_layout()"
   ]
  },
  {
   "cell_type": "code",
   "execution_count": 20,
   "id": "94ccbf51-c519-40df-a80b-8d98f33a6654",
   "metadata": {
    "tags": []
   },
   "outputs": [],
   "source": [
    "# L=gsw.latentheat_evap_CT(sf,ct_f).mean().data #J   #/1000 #kJ\n",
    "L=2257*1000 # J/Kg"
   ]
  },
  {
   "cell_type": "code",
   "execution_count": 21,
   "id": "d4d3e300-bc61-4ef4-b90a-3984e61e45da",
   "metadata": {
    "tags": []
   },
   "outputs": [],
   "source": [
    "Evap_f=lhtf.compute()/(L*rho)# m/s   #*86400\n",
    "Evap_t=lhtt.compute()/(L*rho)# m/s   #*86400 #mm/day\n",
    "\n",
    "beta_f=gsw.beta(sf,ct_f,p=0)\n",
    "beta_t=gsw.beta(st,ct_t,p=0)"
   ]
  },
  {
   "cell_type": "code",
   "execution_count": 22,
   "id": "a7445c3a-ad76-4fe8-a547-dc807209bca7",
   "metadata": {
    "tags": []
   },
   "outputs": [],
   "source": [
    "# EP_f=Evap_f.mean(axis=1).mean(axis=1)-(Pf.mean(axis=1).mean(axis=1)/(86400*1000));\n",
    "# EP_f=Evap_f-(Pf.data/(86400*1000));\n",
    "# EP_f=Evap_f-(Pf.compute()/(3600*1000));\n",
    "EP_f=Evap_f-(Pf.compute()/(12*1000));\n",
    "\n",
    "\n",
    "\n",
    "\n",
    "# EP_f=EP_f.assign_coords(DOY=('time_counter',sf.dayofyear.data))\n",
    "# EP_f=EP_f.drop(['time_counter','time_centered'])\n",
    "# EP_f=EP_f.rename({'time_counter':'dayofyear'})\n",
    "\n",
    "\n",
    "\n",
    "# EP_t=Evap_t.mean(axis=1).mean(axis=1)-(Pt.mean(axis=1).mean(axis=1)/(86400*1000));\n",
    "# EP_t=Evap_t-(Pt.data/(86400*1000));\n",
    "# EP_t=Evap_t-(Pt.compute()/(3600*1000));\n",
    "EP_t=Evap_t-(Pt.compute()/(12*1000));\n",
    "\n",
    "\n",
    "\n",
    "# EP_t=EP_t.assign_coords(DOY=('time_counter',st.dayofyear.data))\n",
    "# EP_t=EP_t.drop(['time_counter','time_centered'])\n",
    "# EP_t=EP_t.rename({'time_counter':'dayofyear'})"
   ]
  },
  {
   "cell_type": "code",
   "execution_count": 23,
   "id": "8e12b352-96b5-469e-b59d-b3480c0aa63e",
   "metadata": {
    "tags": []
   },
   "outputs": [],
   "source": [
    "Bos_f=-(g*beta_f)*(sf)*(EP_f[:-1].data) # Following Bishop et al (2020)\n",
    "Bos_t=-(g*beta_t)*(st)*(EP_t[:-1].data)\n",
    "\n",
    "# Bos_f=-(g*beta_f)*(sf)*(EP_f) \n",
    "# Bos_t=-(g*beta_t)*(st)*(EP_t)\n",
    "\n",
    "bs_f=-g*beta_f*(sf-sf.mean(axis=1).mean(axis=1))\n",
    "bs_t=-g*beta_t*(st-st.mean(axis=1).mean(axis=1))\n",
    "\n",
    "# bs_f=-g*beta_f*(sf[:-1,:,:]-sf.mean())\n",
    "# bs_t=-g*beta_t*(st[:-1,:,:]-st.mean())"
   ]
  },
  {
   "cell_type": "code",
   "execution_count": 24,
   "id": "3aa419b5-46e2-43ec-afb7-a3856f1b9461",
   "metadata": {
    "tags": []
   },
   "outputs": [],
   "source": [
    "nf=2\n",
    "wdws='hann' #'flattop','hann'\n",
    "wdw_cor=True\n",
    "scl='density'"
   ]
  },
  {
   "cell_type": "code",
   "execution_count": 25,
   "id": "9433c968-b334-407e-9f30-e1d6f51dce1c",
   "metadata": {
    "tags": []
   },
   "outputs": [
    {
     "name": "stdout",
     "output_type": "stream",
     "text": [
      "CPU times: user 47min 33s, sys: 3h 18min 36s, total: 4h 6min 9s\n",
      "Wall time: 7min 56s\n"
     ]
    }
   ],
   "source": [
    "%%time\n",
    "\n",
    "with ProgressBar():\n",
    "\n",
    "    btBt_f=xrft.isotropic_cross_spectrum(bt_f.drop(['nav_lat_rho','nav_lon_rho']),\n",
    "                                         Bot_f.drop(['nav_lat_rho','nav_lon_rho']),dim=['y_rho','x_rho'],\n",
    "                              nfactor=nf,truncate='True',scaling=scl,detrend='linear', \n",
    "                                     window=wdws,window_correction=wdw_cor).real\n",
    "    \n",
    "    btBt_t=xrft.isotropic_cross_spectrum(bt_t.drop(['nav_lat_rho','nav_lon_rho']),\n",
    "                                         Bot_t.drop(['nav_lat_rho','nav_lon_rho']),dim=['y_rho','x_rho'],\n",
    "                              nfactor=nf,truncate='True',scaling=scl,detrend='linear', \n",
    "                                     window=wdws,window_correction=wdw_cor).real"
   ]
  },
  {
   "cell_type": "code",
   "execution_count": 26,
   "id": "55b3cd76-47c3-4003-b62c-7d39c9e7017a",
   "metadata": {
    "tags": []
   },
   "outputs": [
    {
     "name": "stdout",
     "output_type": "stream",
     "text": [
      "CPU times: user 47min 35s, sys: 3h 15min 41s, total: 4h 3min 16s\n",
      "Wall time: 7min 14s\n"
     ]
    }
   ],
   "source": [
    "%%time\n",
    "\n",
    "with ProgressBar():\n",
    "    \n",
    "    bsBs_f=xrft.isotropic_cross_spectrum(bs_f.drop(['nav_lat_rho','nav_lon_rho']),\n",
    "                                         Bos_f.drop(['nav_lat_rho','nav_lon_rho']),dim=['y_rho','x_rho'],\n",
    "                              nfactor=nf,truncate='True',scaling=scl,detrend='linear', \n",
    "                                     window=wdws,window_correction=wdw_cor).real\n",
    "\n",
    "    bsBs_t=xrft.isotropic_cross_spectrum(bs_t.drop(['nav_lat_rho','nav_lon_rho']),\n",
    "                                         Bos_t.drop(['nav_lat_rho','nav_lon_rho']),dim=['y_rho','x_rho'],\n",
    "                              nfactor=nf,truncate='True',scaling=scl,detrend='linear', \n",
    "                                     window=wdws,window_correction=wdw_cor).real\n"
   ]
  },
  {
   "cell_type": "code",
   "execution_count": 27,
   "id": "a55b1bba-ee45-4578-b8a0-6a181766c6a9",
   "metadata": {
    "tags": []
   },
   "outputs": [
    {
     "name": "stdout",
     "output_type": "stream",
     "text": [
      "CPU times: user 48min 22s, sys: 3h 18min 33s, total: 4h 6min 55s\n",
      "Wall time: 7min 31s\n"
     ]
    }
   ],
   "source": [
    "%%time\n",
    "\n",
    "with ProgressBar():\n",
    "\n",
    "    btBs_f=xrft.isotropic_cross_spectrum(bt_f.drop(['nav_lat_rho','nav_lon_rho']),\n",
    "                                         Bos_f.drop(['nav_lat_rho','nav_lon_rho']),dim=['y_rho','x_rho'],\n",
    "                              nfactor=nf,truncate='True',scaling=scl,detrend='linear', \n",
    "                                     window=wdws,window_correction=wdw_cor).real\n",
    "\n",
    "\n",
    "    btBs_t=xrft.isotropic_cross_spectrum(bt_t.drop(['nav_lat_rho','nav_lon_rho']),\n",
    "                                         Bos_t.drop(['nav_lat_rho','nav_lon_rho']),dim=['y_rho','x_rho'],\n",
    "                              nfactor=nf,truncate='True',scaling=scl,detrend='linear', \n",
    "                                     window=wdws,window_correction=wdw_cor).real\n"
   ]
  },
  {
   "cell_type": "code",
   "execution_count": 28,
   "id": "0a4b6c39-f8bc-460d-bd62-a59e8b004431",
   "metadata": {
    "tags": []
   },
   "outputs": [
    {
     "name": "stdout",
     "output_type": "stream",
     "text": [
      "CPU times: user 47min 42s, sys: 3h 8min 26s, total: 3h 56min 8s\n",
      "Wall time: 7min 11s\n"
     ]
    }
   ],
   "source": [
    "%%time\n",
    "with ProgressBar():\n",
    "    bsBt_f=xrft.isotropic_cross_spectrum(bs_f.drop(['nav_lat_rho','nav_lon_rho']),\n",
    "                                         Bot_f.drop(['nav_lat_rho','nav_lon_rho']),dim=['y_rho','x_rho'],\n",
    "                              nfactor=nf,truncate='True',scaling=scl,detrend='linear', \n",
    "                                     window=wdws,window_correction=wdw_cor).real\n",
    "    bsBt_t=xrft.isotropic_cross_spectrum(bs_t.drop(['nav_lat_rho','nav_lon_rho']),\n",
    "                                         Bot_t.drop(['nav_lat_rho','nav_lon_rho']),dim=['y_rho','x_rho'],\n",
    "                              nfactor=nf,truncate='True',scaling=scl,detrend='linear', \n",
    "                                     window=wdws,window_correction=wdw_cor).real\n"
   ]
  },
  {
   "cell_type": "code",
   "execution_count": 29,
   "id": "9a7e13be-935f-42d5-b1bc-91cfb6e99d84",
   "metadata": {
    "tags": []
   },
   "outputs": [],
   "source": [
    "\n",
    "rho_full=varf.rho[:,100:-100,100:-200].compute()[:-1,1:-1,1:-1];\n",
    "rho_smth=vart.rho[:,100:-100,100:-200].compute()[:-1,1:-1,1:-1];\n"
   ]
  },
  {
   "cell_type": "code",
   "execution_count": 30,
   "id": "2234e457-1f4a-4fff-a610-15ad6069155e",
   "metadata": {
    "tags": []
   },
   "outputs": [],
   "source": [
    "import xroms\n",
    "\n",
    "bf=xroms.buoyancy(rho_full)#[:,1:-1,:]\n",
    "bt=xroms.buoyancy(rho_smth)#[:,1:-1,:]"
   ]
  },
  {
   "cell_type": "code",
   "execution_count": 31,
   "id": "fd9322f2-89d6-4526-863c-a3e3f293c22a",
   "metadata": {
    "tags": []
   },
   "outputs": [
    {
     "name": "stdout",
     "output_type": "stream",
     "text": [
      "CPU times: user 48min 16s, sys: 3h 10min 22s, total: 3h 58min 38s\n",
      "Wall time: 6min 33s\n"
     ]
    }
   ],
   "source": [
    "%%time\n",
    "with ProgressBar():\n",
    "    bBo_full_res=xrft.isotropic_cross_spectrum((bf).drop(['nav_lat_rho','nav_lon_rho']),\n",
    "                                         (Bot_f+Bos_f).drop(['nav_lat_rho','nav_lon_rho']),dim=['y_rho','x_rho'],\n",
    "                              nfactor=nf,truncate='True',scaling=scl,detrend='linear', \n",
    "                                     window=wdws,window_correction=wdw_cor).real\n",
    "    \n",
    "    bBo_smth_res=xrft.isotropic_cross_spectrum((bt).drop(['nav_lat_rho','nav_lon_rho']),\n",
    "                                         (Bot_t + Bos_t).drop(['nav_lat_rho','nav_lon_rho']),dim=['y_rho','x_rho'],\n",
    "                              nfactor=nf,truncate='True',scaling=scl,detrend='linear', \n",
    "                                     window=wdws,window_correction=wdw_cor).real"
   ]
  },
  {
   "cell_type": "markdown",
   "id": "56e29063-fdcc-43a8-b929-ebf7eed77e31",
   "metadata": {},
   "source": [
    "# All components"
   ]
  },
  {
   "cell_type": "code",
   "execution_count": 32,
   "id": "92006cae-2c82-41da-bae0-947bc5ad8006",
   "metadata": {
    "tags": []
   },
   "outputs": [],
   "source": [
    "T_ind=np.int((2*np.pi/sw.f(lat=36.6))/(60*60*6))\n",
    "dxx=0.5\n",
    "\n",
    "ci=0.95"
   ]
  },
  {
   "cell_type": "code",
   "execution_count": 39,
   "id": "08593ce2-a43b-415c-9dff-f75fe298b3b3",
   "metadata": {
    "tags": []
   },
   "outputs": [
    {
     "data": {
      "image/png": "[encoded data removed]",
      "text/plain": [
       "<Figure size 900x700 with 1 Axes>"
      ]
     },
     "metadata": {},
     "output_type": "display_data"
    }
   ],
   "source": [
    "plt.figure(figsize=(9,7))\n",
    "\n",
    "\n",
    "plt.plot(btBt_f.freq_r/dxx,((1/N2r)*btBt_f.mean(axis=0))*dxx*1e3,label=r'$\\frac{ \\,b_T \\,Bo_T}{N^2_r}$',linewidth=2,color='red')\n",
    "plot_chi_error(btBt_f.freq_r/dxx,spec=((1/N2r)*btBt_f.mean(axis=0))*dxx*1e3,ci=ci,alpha=0.4,sn=728/T_ind,color='red')\n",
    "# plt.plot(btBt_t.freq_r/dxx,((1/N2r)*btBt_t.mean(axis=0))/dxx*1e3,'--',linewidth=2,color='red')\n",
    "\n",
    "\n",
    "plt.plot(bsBs_f.freq_r/dxx,((1/N2r)*bsBs_f.mean(axis=0))*dxx*1e3,label=r'$\\frac{ \\,b_S \\,Bo_S}{N^2_r}$',linewidth=2,color='navy')\n",
    "plot_chi_error(bsBs_f.freq_r/dxx,spec=((1/N2r)*bsBs_f.mean(axis=0))*dxx*1e3,ci=ci,alpha=0.4,sn=728/T_ind,color='navy')\n",
    "\n",
    "# plt.plot(bsBs_t.freq_r/dxx,((1/N2r)*bsBs_t.mean(axis=0))/dxx*1e3,'--',linewidth=2,color='navy')\n",
    "\n",
    "plt.plot(btBs_f.freq_r/dxx,((1/N2r)*btBs_f.mean(axis=0))*dxx*1e3,label=r'$\\frac{ \\,b_T \\,Bo_S}{N^2_r}$',linestyle='--',linewidth=2,color='red')\n",
    "plot_chi_error(btBs_f.freq_r/dxx,spec=((1/N2r)*btBs_f.mean(axis=0))*dxx*1e3,ci=ci,alpha=0.4,sn=728/T_ind,color='red')\n",
    "\n",
    "# plt.plot(btBs_t.freq_r/dxx,((1/N2r)*btBs_t.mean(axis=0))/dxx*1e3,'--',linewidth=2,color='tomato')\n",
    "\n",
    "\n",
    "\n",
    "plt.plot(bsBt_f.freq_r/dxx,((1/N2r)*bsBt_f.mean(axis=0))*dxx*1e3,label=r'$\\frac{ \\,b_s \\,Bo_T}{N^2_r}$',linestyle='--',linewidth=2,color='navy')\n",
    "# plt.plot(bsBt_t.freq_r/dxx,((1/N2r)*bsBt_t.mean(axis=0))/dxx*1e3,'--',linewidth=2,color='turquoise')\n",
    "plot_chi_error(bsBt_f.freq_r/dxx,spec=((1/N2r)*bsBt_f.mean(axis=0))*dxx*1e3,ci=ci,alpha=0.4,sn=728/T_ind,color='navy')\n",
    "\n",
    "\n",
    "plt.plot(btBt_f.freq_r/dxx,\n",
    "         ((1/N2r)*(btBt_f.mean(axis=0)+bsBs_f.mean(axis=0)+bsBt_f.mean(axis=0)+btBs_f.mean(axis=0)))*dxx*1e3,\n",
    "                                      label='$G_{EPE}$',linewidth=2,color='black')\n",
    "\n",
    "plot_chi_error(bsBt_f.freq_r/dxx,spec=(1/N2r)*(btBt_f.mean(axis=0)+bsBs_f.mean(axis=0)+bsBt_f.mean(axis=0)+btBs_f.mean(axis=0))*dxx*1e3,ci=ci,alpha=0.2,sn=728/T_ind,color='k')\n",
    "\n",
    "# plt.plot([1/50,1/50],[1000,0],'k--')\n",
    "\n",
    "plt.legend(prop={'size': 16})\n",
    "\n",
    "plt.yscale('symlog',linthresh=1e-5)\n",
    "# plt.yscale('log')\n",
    "plt.xscale('log')\n",
    "\n",
    "\n",
    "\n",
    "# plt.title(r'$b_S*Bo_T$',fontweight='bold',fontsize=15)\n",
    "plt.ylabel(r'Spectral Density [m$^{4}$s$^{-3}$]',fontweight='bold')\n",
    "plt.xlabel(r'Wavenumber  [cycle km$^{-1}$]',fontweight='bold')\n",
    "\n",
    "\n",
    "plt.xlim(1/100,1/3)\n",
    "plt.ylim(-2e-4,2e-4)\n",
    "plt.grid()\n",
    "\n",
    "plt.tight_layout()\n",
    "# plt.savefig('/homes/metogra/iufarias/Documents/figures/2_CROCO/bBo/bBo_all_spectral_v_allwavenumbers+GEPE.png')\n",
    "plt.savefig('/homes/metogra/iufarias/Documents/figures/2_CROCO/bBo/bBo_all_spectral_v_all_step_4.png',dpi=400)\n",
    "\n",
    "\n",
    "\n",
    "\n"
   ]
  },
  {
   "cell_type": "markdown",
   "id": "7febdaa6-700d-4fdc-85c8-67ee2da5d873",
   "metadata": {},
   "source": [
    "# Sum of all components"
   ]
  },
  {
   "cell_type": "code",
   "execution_count": 35,
   "id": "85789f56-efc4-4d8f-af17-77973ac89daf",
   "metadata": {
    "tags": []
   },
   "outputs": [],
   "source": [
    "from pyspec import spectrum\n",
    "import seawater as sw\n",
    "\n",
    "T_ind=np.int((2*np.pi/sw.f(lat=36.6))/(60*60*6))\n",
    "dxx=0.5\n",
    "\n",
    "def plot_chi_error(ki,spec,sn,color='red',label=None,ci=0.95,alpha=0.25):\n",
    "\n",
    "    Eu,El=spectrum.spec_error(spec,sn=sn, ci=ci)\n",
    "    return plt.fill_between(ki,El,Eu, color=color, label=None,alpha=alpha)\n"
   ]
  },
  {
   "cell_type": "code",
   "execution_count": 40,
   "id": "1f1a5d9a-1094-4ae6-bd89-9887afbffe7c",
   "metadata": {
    "tags": []
   },
   "outputs": [
    {
     "data": {
      "image/png": "[encoded data removed]",
      "text/plain": [
       "<Figure size 900x700 with 1 Axes>"
      ]
     },
     "metadata": {},
     "output_type": "display_data"
    }
   ],
   "source": [
    "\n",
    "G_EPE_full=((1/N2r)*(btBt_f.mean(axis=0)+bsBs_f.mean(axis=0)+bsBt_f.mean(axis=0)+btBs_f.mean(axis=0)))\n",
    "G_EPE_smth=((1/N2r)*(btBt_t.mean(axis=0)+bsBs_t.mean(axis=0)+bsBt_t.mean(axis=0)+btBs_t.mean(axis=0)))\n",
    "\n",
    "\n",
    "\n",
    "ci=0.95\n",
    "T_ind=3\n",
    "\n",
    "# plt.figure(figsize=(9,4))\n",
    "plt.figure(figsize=(9,7))\n",
    "\n",
    "\n",
    "plt.plot(G_EPE_full.freq_r/dxx,\n",
    "         G_EPE_full*dxx*1e3,\n",
    "                                      label='FULL',linewidth=3,color='cornflowerblue')\n",
    "plt.plot(G_EPE_smth.freq_r/dxx,\n",
    "         G_EPE_smth*dxx*1e3,\n",
    "                                     label='SMTH',linewidth=3,color='tomato')\n",
    "\n",
    "\n",
    "plot_chi_error(G_EPE_full.freq_r/dxx,spec=G_EPE_full*dxx*1e3,ci=ci,alpha=0.5,sn=728/T_ind,color='cornflowerblue')\n",
    "plot_chi_error(G_EPE_smth.freq_r/dxx,spec=G_EPE_smth*dxx*1e3,ci=ci,alpha=0.5,sn=728/T_ind,color='tomato')\n",
    "\n",
    "plt.plot(btBt_t.freq_r/dxx,np.zeros(btBt_t[0].shape),linewidth=2,color='grey',alpha=0.7)\n",
    "\n",
    "\n",
    "\n",
    "\n",
    "\n",
    "# plt.plot([1/50,1/50],[1000,0],'k--')\n",
    "\n",
    "plt.legend(prop={'size': 15})\n",
    "\n",
    "plt.yscale('symlog',linthresh=1e-6)\n",
    "# plt.yscale('log')\n",
    "plt.xscale('log')\n",
    "# plt.title(r'$\\frac{ \\,b \\,Bo}{N^2_r}$',fontsize=20)\n",
    "\n",
    "# plt.title(r'$F_{PE}$',fontsize=25,y=1.05)\n",
    "plt.title(r'Eddy Potential Energy Flux',fontsize=25,y=1.02)\n",
    "plt.title(r'(b)',fontsize=25,y=1.02,loc='left')\n",
    "\n",
    "\n",
    "# plt.text(0.5,5e-3,r'F$_{PE}$',fontsize=25)\n",
    "# plt.text(1.5e-2,0.3e-5,r'$\\uparrow$ Gain ',fontsize=20)\n",
    "# plt.text(1.5e-2,-0.5e-5,r'$\\downarrow$ Loss ',fontsize=20)\n",
    "\n",
    "plt.text(1.5e-2,0.3e-6,r'$\\uparrow$ Gain ',fontsize=20)\n",
    "plt.text(1.5e-2,-0.5e-6,r'$\\downarrow$ Loss ',fontsize=20)\n",
    "\n",
    "\n",
    "\n",
    "\n",
    "# plt.title(r'$b_S*Bo_T$',fontweight='bold',fontsize=15)\n",
    "plt.ylabel(r'Spectral Density [m$^{4}$s$^{-3}$]',fontweight='bold')\n",
    "plt.xlabel(r'Wavenumber  [cycle km$^{-1}$]',fontweight='bold')\n",
    "\n",
    "\n",
    "plt.xlim(1/100,1)\n",
    "plt.ylim(-2e-4,2e-4)\n",
    "plt.grid()\n",
    "\n",
    "plt.tight_layout()\n",
    "# plt.savefig('/homes/metogra/iufarias/Documents/figures/2_CROCO/bBo/bBo_sum_spectral_v2poster_test2.png')\n",
    "\n",
    "plt.savefig('/homes/metogra/iufarias/Documents/figures/2_CROCO/bBo/bBo_sum_spectral.png',dpi=400,bbox_inches='tight')\n",
    "\n",
    "# plt.savefig('/homes/metogra/iufarias/Documents/figures/2_CROCO/bBo/bBo_sum_spectral_allwavenumbers.png')\n",
    "\n",
    "\n",
    "\n",
    "\n"
   ]
  },
  {
   "cell_type": "code",
   "execution_count": 37,
   "id": "2e413040-2805-4af8-9b64-4575640d3b3d",
   "metadata": {
    "tags": []
   },
   "outputs": [],
   "source": [
    "G_EPE_full.to_netcdf('/homes/metogra/iufarias/FeedbackSubmeso/notebooks/G_EPE_full.nc')\n",
    "G_EPE_smth.to_netcdf('/homes/metogra/iufarias/FeedbackSubmeso/notebooks/G_EPE_smth.nc')"
   ]
  }
 ],
 "metadata": {
  "kernelspec": {
   "display_name": "ROMS",
   "language": "python",
   "name": "roms"
  },
  "language_info": {
   "codemirror_mode": {
    "name": "ipython",
    "version": 3
   },
   "file_extension": ".py",
   "mimetype": "text/x-python",
   "name": "python",
   "nbconvert_exporter": "python",
   "pygments_lexer": "ipython3",
   "version": "3.7.12"
  }
 },
 "nbformat": 4,
 "nbformat_minor": 5
}
