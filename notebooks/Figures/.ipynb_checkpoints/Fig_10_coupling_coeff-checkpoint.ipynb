{
 "cells": [
  {
   "cell_type": "markdown",
   "id": "2c77a02a-bdc7-4910-88b7-f572f4acde2b",
   "metadata": {},
   "source": [
    "# Coupling Coefficient Analysis"
   ]
  },
  {
   "cell_type": "code",
   "execution_count": 1,
   "id": "667e7e31-4333-496c-8291-b77521584b88",
   "metadata": {
    "tags": []
   },
   "outputs": [],
   "source": [
    "import numpy as np\n",
    "from glob import glob\n",
    "import matplotlib.pyplot as plt\n",
    "import gc\n",
    "import xarray as xr\n",
    "import pandas as pd\n",
    "import xrft as xrft\n",
    "from matplotlib.colors import LogNorm\n",
    "import warnings\n",
    "import scipy.signal as sig\n",
    "import scipy.stats as stats\n",
    "import sys\n",
    "import seaborn as sns\n",
    "import matplotlib.colors as mcolors\n",
    "\n",
    "sys.path.append(\"/homes/metogra/iufarias/FeedbackSubmeso/useful/\")\n",
    "import handy_roms_spec\n",
    "\n",
    "import matplotlib as mpl\n",
    "from dask.diagnostics import ProgressBar\n",
    "warnings.filterwarnings(\"ignore\")\n",
    "from scipy.ndimage import generic_filter\n"
   ]
  },
  {
   "cell_type": "code",
   "execution_count": 2,
   "id": "1e6d42df-87c0-44f7-9e9a-c2cdd37f7f77",
   "metadata": {
    "tags": []
   },
   "outputs": [],
   "source": [
    "from dask.diagnostics import ProgressBar\n",
    "import dask\n",
    "# dask.config.set(**{'array.slicing.split_large_chunks': True})\n",
    "from dask.distributed import Client, LocalCluster\n",
    "\n",
    "# cluster = LocalCluster(n_workers=61)\n",
    "# client = Client(cluster)\n",
    "\n",
    "# client"
   ]
  },
  {
   "cell_type": "code",
   "execution_count": 3,
   "id": "dcd6a6a6-36b0-4ba4-af36-d4c2ca4b0afa",
   "metadata": {
    "tags": []
   },
   "outputs": [],
   "source": [
    "import xesmf as xe\n",
    "    \n",
    "def regrid(var, lons, lats, which):\n",
    "    # rename coords for use with xESMF\n",
    "    lonkey = [coord for coord in var.coords if \"nav_lon\" in coord][0]\n",
    "    latkey = [coord for coord in var.coords if \"nav_lat\" in coord][0]\n",
    "    var = var.rename({lonkey: \"lon\", latkey: \"lat\"})\n",
    "\n",
    "    # whether inputs are\n",
    "    if which == \"pairs\":\n",
    "        locstream_out = True\n",
    "    elif which == \"grid\":\n",
    "        locstream_out = False\n",
    "\n",
    "    # set up for output\n",
    "    varint = xr.Dataset({\"lat\": ([\"y\", \"x\"], lats), \"lon\": ([\"y\", \"x\"], lons)})\n",
    "\n",
    "    # Calculate weights.\n",
    "    regridder = xe.Regridder(var, varint, \"bilinear\",  locstream_out=locstream_out)\n",
    "\n",
    "    # Perform interpolation\n",
    "    varint = regridder(var, keep_attrs=True)\n",
    "    return varint, regridder"
   ]
  },
  {
   "cell_type": "code",
   "execution_count": 4,
   "id": "5d9bbf4f-7583-4fc4-b6fd-f193479749a8",
   "metadata": {
    "tags": []
   },
   "outputs": [],
   "source": [
    "import seawater as sw\n",
    "def grid_dist_same(lon,lat):\n",
    "    import seawater as sw\n",
    "    if len(lon.shape)==2:\n",
    "        grid_x=np.zeros(lon.shape)+np.nan\n",
    "    else:\n",
    "        grid_x=np.zeros([lat.shape[0],lon.shape[0]])\n",
    "    \n",
    "    grid_d=sw.dist(lon=lon,lat=lat)[0]\n",
    "    grid_x[0:-1,:]=grid_d\n",
    "    grid_x[-1,:]=grid_d[-1,:]\n",
    "    \n",
    "    return grid_x\n",
    "\n",
    "def area_filter(lon,lat,filter_scale,dim_x,dim_y):\n",
    "    #paramerers for convolution\n",
    "    if dim_x=='x_rho' and dim_y=='y_rho':\n",
    "    \n",
    "        grid=grid_dist_same(lon,lat)\n",
    "        gs=xr.DataArray(grid,dims=(dim_y,dim_x))\n",
    "\n",
    "        radius = int( (filter_scale / gs.min().compute() / 2 ).round()) \n",
    "        # get the radius in grid-cells that covers the convolution kernel also for the smallest grid-spacing\n",
    "        window_size = 2 * radius + 1\n",
    "\n",
    "\n",
    "        gsr = gs.rolling(x_rho=window_size,center=True).construct(\"lon_window\").rolling(y_rho=window_size, center=True).construct(\"lat_window\")\n",
    "\n",
    "        gsr_lat = gsr.cumsum(\"lat_window\")\n",
    "        gsr_lat -= gsr_lat.isel(lat_window=radius)\n",
    "        gsr_lon = gsr.cumsum(\"lon_window\")\n",
    "        gsr_lon -= gsr_lon.isel(lon_window=radius)\n",
    "        circ = ((gsr_lat ** 2 + gsr_lon ** 2) ** 0.5 < filter_scale / 2)\n",
    "        Asum = (circ * (gsr ** 2)).sum(dim = [\"lat_window\",\"lon_window\"])\n",
    "    return gs,radius,circ,Asum\n",
    "\n",
    "    \n",
    "def apply_area_filter(var,gs,radius,circ,Asum):\n",
    "    \n",
    "    window_size = 2 * radius + 1\n",
    "    \n",
    "    var_sm = var.copy()\n",
    "    var_sm += np.nan;\n",
    "\n",
    "\n",
    "\n",
    "    varA  = gs ** 2 * var # multiplication with area\n",
    "    varAr = varA.rolling(x_rho=window_size,center=True).construct(\"lon_window\").rolling(y_rho=window_size, center=True).construct(\"lat_window\")\n",
    "    var_sm_tmp = ((varAr * circ).sum(dim = [\"lat_window\",\"lon_window\"]) / Asum)\n",
    "    # set the pixels at the boundary to NaN, where the convolution kernel extends over the boundary\n",
    "    var_sm_tmp2 = np.zeros((var_sm_tmp.shape)) + np.nan\n",
    "    var_sm_tmp2[radius:-radius,radius:-radius] = var_sm_tmp[radius:-radius,radius:-radius]\n",
    "    var_sm[:] = var_sm_tmp2\n",
    "    return var_sm\n",
    "\n",
    "\n",
    "def apply_area_filter_t(var,gs,radius,circ,Asum):\n",
    "    \n",
    "    window_size = 2 * radius + 1\n",
    "    \n",
    "    var_sm = var.copy()\n",
    "    var_sm += np.nan;\n",
    "\n",
    "\n",
    "\n",
    "    varA  = gs ** 2 * var # multiplication with area\n",
    "    varAr = varA.rolling(x_rho=window_size,center=True).construct(\"lon_window\").rolling(y_rho=window_size, center=True).construct(\"lat_window\")\n",
    "    var_sm_tmp = ((varAr * circ).sum(dim = [\"lat_window\",\"lon_window\"]) / Asum)\n",
    "    # set the pixels at the boundary to NaN, where the convolution kernel extends over the boundary\n",
    "    var_sm_tmp2 = np.zeros((var_sm_tmp.shape)) + np.nan\n",
    "    var_sm_tmp2[:,radius:-radius,radius:-radius] = var_sm_tmp[:,radius:-radius,radius:-radius]\n",
    "    var_sm[:] = var_sm_tmp2\n",
    "    return var_sm\n",
    "    \n",
    "\n"
   ]
  },
  {
   "cell_type": "code",
   "execution_count": 5,
   "id": "7728ca72-1acf-438b-a9c6-79c72bd66275",
   "metadata": {
    "tags": []
   },
   "outputs": [],
   "source": [
    "plt.rcParams['text.usetex'] = True\n",
    "plt.rcParams.update({'font.size': 20})\n",
    "\n",
    "plt.rcParams['font.family'] = 'sans-serif'\n",
    "plt.rcParams['font.sans-serif'] = ['Lucida Grande']"
   ]
  },
  {
   "cell_type": "markdown",
   "id": "bacfb1b3-6c14-42dc-835b-f5d16484499e",
   "metadata": {},
   "source": [
    "#### Reading CROCO files"
   ]
  },
  {
   "cell_type": "code",
   "execution_count": 6,
   "id": "9e405f7f-0a68-4742-a493-c33e1b07cc0b",
   "metadata": {
    "tags": []
   },
   "outputs": [],
   "source": [
    "\n",
    "path='/data/pacific/lrenault/SASI/CROCO/FULL/'\n",
    "listm=glob(path+'surf*.nc');listm.sort()\n",
    "# varf=xr.open_dataset(listm[-9:][xmon])\n",
    "varf=xr.open_mfdataset(listm[1:],data_vars='minimal')\n",
    "\n",
    "path='/data/pacific/lrenault/SASI/CROCO/SMTH/'\n",
    "listt=glob(path+'surf*SASI_6h_his_20*_*.nc');listt.sort()\n",
    "listt.append('/data/pacific/lrenault/SASI/CROCO/SMTH/surf_SASI_6h_his_2012-07.nc')\n",
    "#vart=xr.open_dataset(listt[xmon])\n",
    "vart=xr.open_mfdataset(listt[1:],data_vars='minimal')"
   ]
  },
  {
   "cell_type": "markdown",
   "id": "d7be871f-d438-4b38-a7dd-5800f6ab0795",
   "metadata": {},
   "source": [
    "#### Reading WRF files"
   ]
  },
  {
   "cell_type": "code",
   "execution_count": 7,
   "id": "b2a871b8-939d-48c9-9158-6e7f782589c8",
   "metadata": {
    "tags": []
   },
   "outputs": [],
   "source": [
    "chunks_new={'time_counter':40}\n",
    "\n",
    "path='/data/pacific/lrenault/SASI/FULL/WRF/'\n",
    "listmw=glob(path+'*DAY.nc');listmw.sort()\n",
    "# varf=xr.open_dataset(listm[-9:][xmon])\n",
    "varfw=xr.open_mfdataset(listmw[-7:],chunks=chunks_new)\n",
    "\n",
    "path='/data/pacific/lrenault/SASI/SMTH/WRF/'\n",
    "listtw=glob(path+'*DAY.nc');listtw.sort()\n",
    "#vart=xr.open_dataset(listt[xmon])\n",
    "vartw=xr.open_mfdataset(listtw[-7:],chunks=chunks_new)"
   ]
  },
  {
   "cell_type": "markdown",
   "id": "6072e8de-bf3a-4aeb-848a-6df11577852d",
   "metadata": {},
   "source": [
    "#### Reading WRFout files"
   ]
  },
  {
   "cell_type": "code",
   "execution_count": 8,
   "id": "ee96ffbc-9239-4d36-87c3-58ceb91d70f0",
   "metadata": {
    "tags": []
   },
   "outputs": [],
   "source": [
    "\n",
    "path='/data/pacific/lrenault/SASI/FULL/WRF/'\n",
    "listf_out=glob(path+'*out*');listf_out.sort()\n",
    "varfout=xr.open_mfdataset(listf_out[-7:])\n",
    "\n",
    "# path='/data/pacific/lrenault/SASI/SMTH/WRF/'\n",
    "# listtw=glob(path+'*out*');listtw.sort()\n",
    "# #vart=xr.open_dataset(listt[xmon])\n",
    "# vartw=xr.open_mfdataset(listtw[-7:])"
   ]
  },
  {
   "cell_type": "code",
   "execution_count": 9,
   "id": "48fb7662-2951-4b9d-bbc7-957c0b594d7d",
   "metadata": {
    "tags": []
   },
   "outputs": [],
   "source": [
    "import pandas as pd\n",
    "timer=pd.DatetimeIndex(varf.time_counter.groupby(\"time_counter.dayofyear\").mean())[:-1]"
   ]
  },
  {
   "cell_type": "code",
   "execution_count": 10,
   "id": "d18a29e7-a56e-461a-9ff0-d00460653962",
   "metadata": {
    "tags": []
   },
   "outputs": [],
   "source": [
    "dxx=0.5"
   ]
  },
  {
   "cell_type": "markdown",
   "id": "5306d57c-8f74-4729-9749-65f41b1371da",
   "metadata": {},
   "source": [
    "### Interpolating WRF variables"
   ]
  },
  {
   "cell_type": "code",
   "execution_count": 11,
   "id": "a694ef0d-4ac5-46dd-a997-df82a4eab5d5",
   "metadata": {
    "tags": []
   },
   "outputs": [
    {
     "name": "stdout",
     "output_type": "stream",
     "text": [
      "Overwrite existing file: bilinear_390x300_1520x1000.nc \n",
      " You can set reuse_weights=True to save computing time.\n",
      "Overwrite existing file: bilinear_390x300_1520x1000.nc \n",
      " You can set reuse_weights=True to save computing time.\n",
      "Overwrite existing file: bilinear_390x300_1520x1000.nc \n",
      " You can set reuse_weights=True to save computing time.\n",
      "CPU times: user 1min 11s, sys: 3.91 s, total: 1min 15s\n",
      "Wall time: 1min 33s\n"
     ]
    }
   ],
   "source": [
    "%%time\n",
    "# chunks_new={'time_counter':40}\n",
    "\n",
    "sst_w_f=regrid(varfw.SST,\n",
    "                lons=varf.nav_lon_rho.data,\n",
    "                lats=varf.nav_lat_rho.data,\n",
    "                which='grid')[0][:,100:-100,100:-200][:,1:-1,1:-1]\n",
    "\n",
    "lh_f=regrid(varfw.LH,\n",
    "                lons=varf.nav_lon_rho.data,\n",
    "                lats=varf.nav_lat_rho.data,\n",
    "                which='grid')[0][:,100:-100,100:-200][:,1:-1,1:-1]\n",
    "# lh_t=regrid(vartw.LH,\n",
    "#                 lons=varf.nav_lon_rho.data,\n",
    "#                 lats=varf.nav_lat_rho.data,\n",
    "#                 which='grid')[0][:,100:-100,100:-200][:,1:-1,1:-1]\n",
    "\n",
    "sh_f=regrid(varfw.HFX,\n",
    "                lons=varf.nav_lon_rho.data,\n",
    "                lats=varf.nav_lat_rho.data,\n",
    "                which='grid')[0][:,100:-100,100:-200][:,1:-1,1:-1]\n",
    "# sh_t=regrid(vartw.HFX,\n",
    "#                 lons=varf.nav_lon_rho.data,\n",
    "#                 lats=varf.nav_lat_rho.data,\n",
    "#                 which='grid')[0][:,100:-100,100:-200][:,1:-1,1:-1]\n",
    "\n",
    "# swh_f=regrid(varfw.GSW,\n",
    "#                 lons=varf.nav_lon_rho.data,\n",
    "#                 lats=varf.nav_lat_rho.data,\n",
    "#                 which='grid')[0][:,100:-100,100:-200][:,1:-1,1:-1] #net shortwave\n",
    "# # swh_t=regrid(vartw.GSW,\n",
    "# #                 lons=varf.nav_lon_rho.data,\n",
    "# #                 lats=varf.nav_lat_rho.data,\n",
    "# #                 which='grid')[0][:,100:-100,100:-200][:,1:-1,1:-1] \n",
    "\n",
    "\n",
    "# glw_f=regrid(varfw.GLW,\n",
    "#                 lons=varf.nav_lon_rho.data,\n",
    "#                 lats=varf.nav_lat_rho.data,\n",
    "#                 which='grid')[0][:,100:-100,100:-200][:,1:-1,1:-1] #downwelling long wave (needs to be subtract by S.Boltzman Law\n",
    "# # glw_t=regrid(vartw.GLW,\n",
    "# #                 lons=varf.nav_lon_rho.data,\n",
    "# #                 lats=varf.nav_lat_rho.data,\n",
    "# #                 which='grid')[0][:,100:-100,100:-200][:,1:-1,1:-1]"
   ]
  },
  {
   "cell_type": "markdown",
   "id": "53f8733a-af4b-4e37-9385-866a12ca34c0",
   "metadata": {
    "tags": []
   },
   "source": [
    "#### Long wave heat flux component Calculation"
   ]
  },
  {
   "cell_type": "code",
   "execution_count": null,
   "id": "a960f7c2-290b-4696-992e-ac8b5b891191",
   "metadata": {
    "tags": []
   },
   "outputs": [],
   "source": [
    "# emss=1\n",
    "\n",
    "# # lwh_f=(5.67e-8*(tw_f)**4 - glw_f)\n",
    "# # lwh_t=(5.67e-8*(tw_t)**4 - glw_t)\n",
    "\n",
    "# # lwh_f=(5.67e-8*(tf.data+273.15)**4 - glw_f)\n",
    "# # lwh_t=(5.67e-8*(tt.data+273.15)**4 - glw_t)\n",
    "\n",
    "# lwh_f= (5.67e-8*(sst_w_f.data)**4)*emss -glw_f\n",
    "# # lwh_t=(5.67e-8*(tsk_t.data)**4 - glw_t)*emss"
   ]
  },
  {
   "cell_type": "markdown",
   "id": "f6ad477c-eeab-4213-919e-76d3e38532aa",
   "metadata": {},
   "source": [
    "## Reading CROCO variables"
   ]
  },
  {
   "cell_type": "code",
   "execution_count": 13,
   "id": "9b7e6fcb-cf99-45f5-870a-bad99c0484d4",
   "metadata": {
    "tags": []
   },
   "outputs": [
    {
     "name": "stdout",
     "output_type": "stream",
     "text": [
      "CPU times: user 19.1 s, sys: 11.7 s, total: 30.8 s\n",
      "Wall time: 1min 30s\n"
     ]
    }
   ],
   "source": [
    "%%time\n",
    "chunks_new={'dayofyear':40}\n",
    "\n",
    "tf=varf.temp.groupby(\"time_counter.dayofyear\").mean('time_counter')\n",
    "tf=tf.chunk(chunks=chunks_new);\n",
    "tf=tf[:,100:-100,100:-200].compute();\n",
    "tf=tf[:-1,1:-1,1:-1]\n",
    "\n",
    "\n",
    "# tt=vart.temp.groupby(\"time_counter.dayofyear\").mean()\n",
    "# tt=tt.chunk(chunks=chunks_new);\n",
    "# tt=tt[:,100:-100,100:-200].compute()\n",
    "# tt=tt[:-1,1:-1,1:-1]\n",
    "\n",
    "\n",
    "hf=varf.shflx.groupby(\"time_counter.dayofyear\").mean()\n",
    "hf=hf.chunk(chunks=chunks_new);\n",
    "hf=hf[:,100:-100,100:-200].compute();\n",
    "hf=hf[:-1,1:-1,1:-1]\n",
    "\n",
    "\n",
    "# ht=-vart.shflx.groupby(\"time_counter.dayofyear\").mean()\n",
    "# ht=ht.chunk(chunks=chunks_new);\n",
    "# ht=ht[:,100:-100,100:-200].compute();\n",
    "# ht=ht[:-1,1:-1,1:-1]"
   ]
  },
  {
   "cell_type": "code",
   "execution_count": 14,
   "id": "f94c7982-dcdd-4f54-b861-6f02df3dd73a",
   "metadata": {
    "tags": []
   },
   "outputs": [],
   "source": [
    "sh_f=sh_f.rename({'x': 'x_rho','y': 'y_rho'})\n",
    "\n",
    "lh_f=lh_f.rename({'x': 'x_rho','y': 'y_rho'})\n",
    "\n",
    "# lwh_f=lwh_f.rename({'x': 'x_rho','y': 'y_rho'})\n",
    "\n",
    "# swh_f=swh_f.rename({'x': 'x_rho','y': 'y_rho'})"
   ]
  },
  {
   "cell_type": "code",
   "execution_count": 15,
   "id": "6480b71d-b4c0-4bad-ba2c-e1dae161ede6",
   "metadata": {
    "tags": []
   },
   "outputs": [],
   "source": [
    "qh_f=(sh_f+lh_f).compute()"
   ]
  },
  {
   "cell_type": "code",
   "execution_count": 16,
   "id": "8bc2836c-4b58-451a-a8ee-184d779fd162",
   "metadata": {
    "tags": []
   },
   "outputs": [
    {
     "name": "stdout",
     "output_type": "stream",
     "text": [
      "CPU times: user 118 ms, sys: 1.03 ms, total: 119 ms\n",
      "Wall time: 118 ms\n"
     ]
    }
   ],
   "source": [
    "%%time\n",
    "dec=3\n",
    "tdec=1\n",
    "tf=tf.compute()\n",
    "\n",
    "\n",
    "tf_sm=tf[::tdec,::dec,::dec].copy()*np.nan\n",
    "hf_sm=hf[::tdec,::dec,::dec].copy()*np.nan\n",
    "qhf_sm=qh_f[::tdec,::dec,::dec].copy()*np.nan\n",
    "\n"
   ]
  },
  {
   "cell_type": "code",
   "execution_count": 17,
   "id": "04262393-d09c-4d54-aeab-ddbe875e3186",
   "metadata": {
    "tags": []
   },
   "outputs": [
    {
     "name": "stdout",
     "output_type": "stream",
     "text": [
      "CPU times: user 31min 37s, sys: 40.3 s, total: 32min 18s\n",
      "Wall time: 32min 22s\n"
     ]
    }
   ],
   "source": [
    "%%time\n",
    "wfl=100\n",
    "counter=0\n",
    "for tms in (tf.dayofyear-1).data[::tdec]:    \n",
    "    tf_sm[counter,:,:]= xr.apply_ufunc(generic_filter,tf[tms,::dec,::dec], np.mean, [wfl,wfl])\n",
    "\n",
    "    hf_sm[counter,:,:]= xr.apply_ufunc(generic_filter,hf[tms,::dec,::dec], np.mean, [wfl,wfl])\n",
    "\n",
    "    qhf_sm[counter,:,:]= xr.apply_ufunc(generic_filter,qh_f[tms,::dec,::dec], np.mean, [wfl,wfl])\n",
    "    counter+=1"
   ]
  },
  {
   "cell_type": "code",
   "execution_count": 18,
   "id": "7afa2239-758e-4fa6-a8db-f66f5117e253",
   "metadata": {
    "tags": []
   },
   "outputs": [],
   "source": [
    "rtf_f=(tf[::tdec,::dec,::dec]-tf_sm).data#[:,~np.isnan(tf_sm[0].data)]\n",
    "rqf_f=(hf[::tdec,::dec,::dec]-hf_sm).data#[:,~np.isnan(hf_sm[0].data)]\n",
    "rqhf_f=(qh_f[::tdec,::dec,::dec]-qhf_sm).data#[:,~np.isnan(hf_sm[0].data)]"
   ]
  },
  {
   "cell_type": "code",
   "execution_count": null,
   "id": "5c173918-17fc-44cc-a945-de3a6cf298ae",
   "metadata": {
    "tags": []
   },
   "outputs": [
    {
     "data": {
      "image/png": "[encoded data removed]",
      "text/plain": [
       "<Figure size 900x800 with 2 Axes>"
      ]
     },
     "metadata": {},
     "output_type": "display_data"
    }
   ],
   "source": [
    "plt.figure(figsize=(9,8))\n",
    "# plt.hist2d(np.ravel(rtf_f),np.ravel(rqf_f),bins=1000,density=True,norm=mpl.colors.LogNorm(),cmap='inferno')\n",
    "plt.hist2d(np.ravel(rtf_f),np.ravel(rqhf_f),bins=1000,density=True,norm=mcolors.PowerNorm(1),cmap='inferno')\n",
    "# plt.colorbar()\n",
    "\n",
    "plt.grid(alpha=0.5)\n",
    "plt.xlabel(r'SST$^{\\prime}$ [$^{\\circ}$C]',fontsize=20,fontweight='bold')\n",
    "plt.ylabel(r'Q$_{SH}^{\\prime}$ + Q$_{LH}^{\\prime}$ [W m$^{-2}$]',fontsize=20,fontweight='bold')\n",
    "\n",
    "plt.title(r'r'+'={0:.2f}'.format(np.corrcoef(np.ravel(rtf_f),np.ravel(rqhf_f))[0][1])+ r'$,\\,\\,\\alpha_c$={0:.2f}'.format(np.polyfit(np.ravel(rtf_f),np.ravel(rqhf_f),deg=1)[0]) \n",
    "          +r' W m$^{-2}$ $^{\\circ}$C$^{-1}$')\n",
    "# plt.colorbar(ticks=[0.0001,0.001,0.01,0.1,0.2],label='PDF')\n",
    "cb=plt.colorbar(label='PDF',ticks=np.arange(0,0.3,0.05),pad=0.01)\n",
    "cb.ax.set_yticklabels(['0','0.05','0.10','0.15','0.20','0.25'])\n",
    "plt.xlim(-0.5,0.5)\n",
    "plt.ylim(-50,50)\n",
    "plt.yticks(np.arange(-40,60,20),labels=np.arange(-40,60,20).astype(str))\n",
    "plt.xticks(np.arange(-0.4,0.6,0.2),labels=np.round(np.arange(-0.4,0.6,0.2),3).astype(str))\n",
    "\n",
    "plt.tight_layout()\n",
    "\n",
    "# plt.savefig('/homes/metogra/iufarias/Documents/figures/2_CROCO/coupling_coeff/total_scatter_SSTx(net)_prime_WRF_LH+SH{0}km.png'.format(50),dpi=400)\n",
    "plt.savefig('/homes/metogra/iufarias/Documents/figures/2_CROCO/total_scatter_SSTx(net)_prime_WRF_LH+SH{0}km.png'.format(50),dpi=400)\n"
   ]
  }
 ],
 "metadata": {
  "kernelspec": {
   "display_name": "ROMS",
   "language": "python",
   "name": "roms"
  },
  "language_info": {
   "codemirror_mode": {
    "name": "ipython",
    "version": 3
   },
   "file_extension": ".py",
   "mimetype": "text/x-python",
   "name": "python",
   "nbconvert_exporter": "python",
   "pygments_lexer": "ipython3",
   "version": "3.7.12"
  }
 },
 "nbformat": 4,
 "nbformat_minor": 5
}
