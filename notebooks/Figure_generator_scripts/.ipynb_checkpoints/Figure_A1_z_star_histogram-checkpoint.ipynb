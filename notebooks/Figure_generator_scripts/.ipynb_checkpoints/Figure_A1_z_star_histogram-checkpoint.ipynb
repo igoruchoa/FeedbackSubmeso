{
 "cells": [
  {
   "cell_type": "code",
   "execution_count": 1,
   "id": "887738d8-b7cc-439b-985b-da2e73a5965f",
   "metadata": {
    "tags": []
   },
   "outputs": [],
   "source": [
    "import numpy as np\n",
    "import xroms\n",
    "from glob import glob\n",
    "import matplotlib.pyplot as plt\n",
    "import xarray as xr\n",
    "import pandas as pd\n",
    "import xrft as xrft\n",
    "import warnings\n",
    "import sys\n",
    "import xrft\n",
    "sys.path.append(\"/homes/metogra/iufarias/FeedbackSubmeso/useful/\")\n",
    "import romspickle\n",
    "\n",
    "from dask.diagnostics import ProgressBar\n",
    "import dask\n",
    "from dask.distributed import Client, LocalCluster\n",
    "\n",
    "import scipy.integrate as integ\n",
    "# warnings.filterwarnings(\"ignore\")\n",
    "import seawater as sw\n",
    "from scipy.interpolate import interp1d"
   ]
  },
  {
   "cell_type": "code",
   "execution_count": 2,
   "id": "fc7b9c3a-0e08-485d-a250-29668c884080",
   "metadata": {
    "tags": []
   },
   "outputs": [],
   "source": [
    "plt.rcParams['text.usetex'] = True\n",
    "plt.rcParams.update({'font.size': 20})\n",
    "\n",
    "plt.rcParams['font.family'] = 'sans-serif'\n",
    "plt.rcParams['font.sans-serif'] = ['Lucida Grande']"
   ]
  },
  {
   "cell_type": "code",
   "execution_count": 3,
   "id": "d16c84d9-cc7c-4621-a102-200345e0083a",
   "metadata": {
    "tags": []
   },
   "outputs": [],
   "source": [
    "z_star_full=xr.open_mfdataset('/data/pacific/iufarias/tseng_z_star/z_star_full*')['__xarray_dataarray_variable__'][:,:20,1:-1,1:-1]\n",
    "z_star_smth=xr.open_mfdataset('/data/pacific/iufarias/tseng_z_star/z_star_smth*')['__xarray_dataarray_variable__'][:,:20,1:-1,1:-1]"
   ]
  },
  {
   "cell_type": "code",
   "execution_count": 4,
   "id": "a99985e8-4fd9-4367-b0f2-c55a12643f2a",
   "metadata": {
    "tags": []
   },
   "outputs": [],
   "source": [
    "rho_star_full=xr.open_mfdataset('/data/pacific/iufarias/tseng_z_star/rho_star/rho_star_full*')['__xarray_dataarray_variable__'][:,:20,1:-1,1:-1]\n",
    "rho_star_smth=xr.open_mfdataset('/data/pacific/iufarias/tseng_z_star/rho_star/rho_star_smth*')['__xarray_dataarray_variable__'][:,:20,1:-1,1:-1]"
   ]
  },
  {
   "cell_type": "code",
   "execution_count": 5,
   "id": "f2dd7fac-84f8-432c-ba35-bd5998c4f8ba",
   "metadata": {
    "tags": []
   },
   "outputs": [],
   "source": [
    "rho_star_mean_full=rho_star_full.mean(axis=(2,3)).compute()\n",
    "rho_star_mean_smth=rho_star_smth.mean(axis=(2,3)).compute()"
   ]
  },
  {
   "cell_type": "code",
   "execution_count": 6,
   "id": "6f9efa3f-bc1c-491c-a95d-6e34581f74ff",
   "metadata": {
    "tags": []
   },
   "outputs": [],
   "source": [
    "N2_star_full=xr.open_mfdataset('/data/pacific/iufarias/APE_global/N2r_full_profile.nc')['__xarray_dataarray_variable__']\n",
    "N2_star_smth=xr.open_mfdataset('/data/pacific/iufarias/APE_global/N2r_smth_profile.nc')['__xarray_dataarray_variable__']"
   ]
  },
  {
   "cell_type": "code",
   "execution_count": null,
   "id": "00591f58-4c07-475c-a8f2-0bb60e5ab521",
   "metadata": {
    "tags": []
   },
   "outputs": [],
   "source": [
    "rho_interp_full=xr.open_mfdataset('/data/pacific/iufarias/rho_interp/rho_full_M*.nc')['__xarray_dataarray_variable__'][:,:20,1:-1,1:-1]\n",
    "rho_interp_smth=xr.open_mfdataset('/data/pacific/iufarias/rho_interp/rho_smth_M*.nc')['__xarray_dataarray_variable__'][:,:20,1:-1,1:-1]\n",
    "\n",
    "\n",
    "rho_interp_full['z_rho']=rho_star_full.z_rho.data\n",
    "rho_interp_smth['z_rho']=rho_star_smth.z_rho.data"
   ]
  },
  {
   "cell_type": "code",
   "execution_count": 7,
   "id": "c8cf2073-810e-4f70-9ab7-58c215187fbc",
   "metadata": {
    "tags": []
   },
   "outputs": [],
   "source": [
    "rho0=1025\n",
    "g=9.8\n",
    "b_star_mean_full=-(g/rho0)*(rho_star_mean_full-rho0)\n",
    "b_star_mean_smth=-(g/rho0)*(rho_star_mean_smth-rho0)"
   ]
  },
  {
   "cell_type": "code",
   "execution_count": 8,
   "id": "458abcce-164e-47f0-a316-cd04da615eb9",
   "metadata": {
    "tags": []
   },
   "outputs": [],
   "source": [
    "\n",
    "mean_profile_rho_full=rho_star_mean_full.mean(['ocean_time'])\n",
    "mean_profile_b_full=b_star_mean_full.mean(['ocean_time'])\n",
    "\n",
    "# ul_profile_rho_full=2*rho_star_mean_full.std(['ocean_time'])+ mean_profile_rho_full\n",
    "# ll_profile_rho_full=-2*rho_star_mean_full.std(['ocean_time'])+ mean_profile_rho_full\n",
    "\n",
    "\n",
    "\n",
    "mean_profile_rho_smth=rho_star_mean_smth.mean(['ocean_time'])\n",
    "mean_profile_b_smth=b_star_mean_smth.mean(['ocean_time'])\n",
    "\n",
    "# ul_profile_rho_smth=2*rho_star_mean_smth.std(['ocean_time'])+ mean_profile_rho_smth\n",
    "# ll_profile_rho_smth=-2*rho_star_mean_smth.std(['ocean_time'])+ mean_profile_rho_smth"
   ]
  },
  {
   "cell_type": "code",
   "execution_count": 9,
   "id": "40156f02-0953-4697-b747-67b492b239b9",
   "metadata": {
    "tags": []
   },
   "outputs": [],
   "source": [
    "delta_z_full=(z_star_full.z_rho - z_star_full)\n",
    "delta_z_smth=(z_star_smth.z_rho - z_star_smth)"
   ]
  },
  {
   "cell_type": "code",
   "execution_count": 11,
   "id": "49fbdde9-7016-4393-81be-34805dee6815",
   "metadata": {
    "tags": []
   },
   "outputs": [
    {
     "ename": "NameError",
     "evalue": "name 'rho_interp_full' is not defined",
     "output_type": "error",
     "traceback": [
      "\u001b[0;31m---------------------------------------------------------------------------\u001b[0m",
      "\u001b[0;31mNameError\u001b[0m                                 Traceback (most recent call last)",
      "Cell \u001b[0;32mIn[11], line 1\u001b[0m\n\u001b[0;32m----> 1\u001b[0m b_prime_full\u001b[38;5;241m=\u001b[39m\u001b[38;5;241m-\u001b[39m(g\u001b[38;5;241m/\u001b[39mrho0)\u001b[38;5;241m*\u001b[39m(\u001b[43mrho_interp_full\u001b[49m\u001b[38;5;241m-\u001b[39mrho_star_full)\n\u001b[1;32m      2\u001b[0m b_prime_smth\u001b[38;5;241m=\u001b[39m\u001b[38;5;241m-\u001b[39m(g\u001b[38;5;241m/\u001b[39mrho0)\u001b[38;5;241m*\u001b[39m(rho_interp_smth\u001b[38;5;241m-\u001b[39mrho_star_smth)\n",
      "\u001b[0;31mNameError\u001b[0m: name 'rho_interp_full' is not defined"
     ]
    }
   ],
   "source": [
    "b_prime_full=-(g/rho0)*(rho_interp_full-rho_star_full)\n",
    "b_prime_smth=-(g/rho0)*(rho_interp_smth-rho_star_smth)"
   ]
  },
  {
   "cell_type": "markdown",
   "id": "ed7ac98c-1820-4f35-ab78-c00aac267a4e",
   "metadata": {},
   "source": [
    "## Using b"
   ]
  },
  {
   "cell_type": "code",
   "execution_count": 12,
   "id": "5cefb87a-1944-4d91-942f-bef06479b35e",
   "metadata": {
    "tags": []
   },
   "outputs": [
    {
     "name": "stderr",
     "output_type": "stream",
     "text": [
      "Exception ignored in: <bound method IPythonKernel._clean_thread_parent_frames of <ipykernel.ipkernel.IPythonKernel object at 0x7f5a92f71370>>\n",
      "Traceback (most recent call last):\n",
      "  File \"/homes/metogra/iufarias/miniconda3/envs/XROMS/lib/python3.8/site-packages/ipykernel/ipkernel.py\", line 770, in _clean_thread_parent_frames\n",
      "    def _clean_thread_parent_frames(\n",
      "KeyboardInterrupt: \n",
      "\n",
      "KeyboardInterrupt\n",
      "\n"
     ]
    }
   ],
   "source": [
    "dep=6\n",
    "delta_z_smth.isel(z_rho=slice(0,dep)).std().compute()"
   ]
  },
  {
   "cell_type": "code",
   "execution_count": null,
   "id": "d2928146-cf0e-4c60-82b5-aac6a4402bc9",
   "metadata": {
    "tags": []
   },
   "outputs": [],
   "source": [
    "delta_z_full.isel(z_rho=slice(0,dep)).std().compute()"
   ]
  },
  {
   "cell_type": "code",
   "execution_count": 27,
   "id": "302dc77e-4d88-4080-a539-d6128f1a24f2",
   "metadata": {
    "tags": []
   },
   "outputs": [
    {
     "data": {
      "image/png": "[encoded data removed]",
      "text/plain": [
       "<Figure size 1000x800 with 3 Axes>"
      ]
     },
     "metadata": {},
     "output_type": "display_data"
    }
   ],
   "source": [
    "dep=6\n",
    "fig=plt.figure(figsize=(10,8))\n",
    "\n",
    "plt.subplot(2,2,1)\n",
    "plt.hist(np.ravel(delta_z_full.isel(z_rho=slice(0,dep))),density='True',color='cornflowerblue',edgecolor='k',rwidth=10,alpha=0.4,bins=25,label='FULL')\n",
    "plt.ylabel('Density')\n",
    "\n",
    "# plt.xlabel(r'$z^*$')\n",
    "plt.title('(a)')\n",
    "plt.xticks([-80,-40,0,40,80],labels=['-80','-40','0','40','80'],fontsize=18)\n",
    "plt.yticks(np.arange(0,0.02,0.005),labels=np.round(np.arange(0,0.02,0.005),4).astype(str),fontsize=18)\n",
    "\n",
    "\n",
    "plt.xlim(-100,100)\n",
    "\n",
    "plt.subplot(2,2,3)\n",
    "\n",
    "\n",
    "plt.hist(np.ravel(delta_z_smth.isel(z_rho=slice(0,dep))),density='True',color='tomato',edgecolor='k',rwidth=10,alpha=0.4,bins=25,label='FULL')\n",
    "\n",
    "plt.xlabel(r'$z-z_r$ [m]')\n",
    "plt.xticks([-80,-40,0,40,80],labels=['-80','-40','0','40','80'],fontsize=18)\n",
    "plt.yticks(np.arange(0,0.02,0.005),labels=np.round(np.arange(0,0.02,0.005),4).astype(str),fontsize=18)\n",
    "\n",
    "plt.xlim(-100,100)\n",
    "\n",
    "# plt.legend()\n",
    "plt.ylabel('Density')\n",
    "\n",
    "plt.title('(b)')\n",
    "\n",
    "\n",
    "plt.subplot(1,2,2)\n",
    "plt.plot(mean_profile_b_full,b_star_mean_full.z_rho,color='cornflowerblue',label='FULL')\n",
    "plt.plot(mean_profile_b_smth,b_star_mean_smth.z_rho,color='tomato',label='SMTH')\n",
    "plt.plot([mean_profile_b_full.min().data,mean_profile_b_full.max().data],[-50,-50],'k--',alpha=0.5)\n",
    "plt.ylabel('Depth [m]')\n",
    "plt.xlabel(r'$b_r$ [m s$^{-2}$]')\n",
    "\n",
    "plt.grid()\n",
    "plt.legend()\n",
    "plt.ylim(-150,0)\n",
    "plt.yticks(np.arange(-140,20,20),labels=np.arange(-140,20,20).astype(str),fontsize=18)\n",
    "plt.title('(c)')\n",
    "# plt.xticks([1025,1025.5],['1025','1025.5'])\n",
    "plt.xlim(-0.015,0.0025)\n",
    "plt.xticks(np.arange(-0.015,0.005,0.005),labels=np.round(np.arange(-0.015,0.005,0.005),4).astype(str),fontsize=18)\n",
    "\n",
    "\n",
    "plt.tight_layout()\n",
    "plt.savefig('/homes/metogra/iufarias/Documents/figures/2_CROCO/z_appendix_panel.png',dpi=400)\n"
   ]
  },
  {
   "cell_type": "markdown",
   "id": "f85dc299-3110-4fc6-984b-4ca2e77afe7f",
   "metadata": {},
   "source": [
    "## MLD sum"
   ]
  },
  {
   "cell_type": "code",
   "execution_count": null,
   "id": "88bde3db-2db3-4f82-9aed-7d4fca7b56ac",
   "metadata": {
    "tags": []
   },
   "outputs": [],
   "source": [
    "dep=6\n",
    "fig=plt.figure(figsize=(10,8))\n",
    "\n",
    "plt.subplot(2,2,1)\n",
    "plt.hist(np.ravel(delta_z_full.isel(z_rho=slice(0,dep))),density='True',color='cornflowerblue',edgecolor='k',alpha=0.4,bins=25,label='FULL')\n",
    "plt.ylabel('Density')\n",
    "\n",
    "# plt.xlabel(r'$z^*$')\n",
    "plt.title('(a)')\n",
    "plt.xticks([-80,-40,0,40,80],fontsize=18)\n",
    "\n",
    "plt.xlim(-100,100)\n",
    "\n",
    "plt.subplot(2,2,3)\n",
    "\n",
    "\n",
    "plt.hist(np.ravel(delta_z_smth.isel(z_rho=slice(0,dep))),density='True',color='tomato',edgecolor='k',alpha=0.4,bins=25,label='FULL')\n",
    "\n",
    "plt.xlabel(r'$z-z_r$ [m]')\n",
    "plt.xticks([-80,-40,0,40,80],fontsize=18)\n",
    "\n",
    "plt.xlim(-100,100)\n",
    "\n",
    "# plt.legend()\n",
    "plt.ylabel('Density')\n",
    "\n",
    "plt.title('(b)')\n",
    "\n",
    "\n",
    "\n",
    "plt.subplot(1,2,2)\n",
    "plt.plot(mean_profile_rho_full,rho_star_mean_full.z_rho,color='cornflowerblue',label='FULL')\n",
    "plt.plot(mean_profile_rho_smth,rho_star_mean_smth.z_rho,color='tomato',label='SMTH')\n",
    "plt.plot([1024,1027],[-50,-50],'k--',alpha=0.5)\n",
    "plt.ylabel('Depth [m]')\n",
    "plt.xlabel(r'$\\rho_r$ [kg m$^{-3}$]')\n",
    "\n",
    "# plt.fill_betweenx(x1=ll_profile_rho_full,x2=ul_profile_rho_full,y=rho_star_full.z_rho,color='cornflowerblue',alpha=0.2)\n",
    "# plt.fill_betweenx(x1=ll_profile_rho_smth,x2=ul_profile_rho_smth,y=rho_star_smth.z_rho,color='tomato',alpha=0.2)\n",
    "plt.grid()\n",
    "plt.legend()\n",
    "plt.ylim(-100,0)\n",
    "plt.title('(c)')\n",
    "# plt.xticks([1025,1025.5],['1025','1025.5'])\n",
    "plt.xlim(1024.75,1026)\n",
    "\n",
    "plt.tight_layout()"
   ]
  },
  {
   "cell_type": "markdown",
   "id": "14dd59b2-2ae0-42b9-a1d8-35f83354ea8b",
   "metadata": {},
   "source": [
    "What if we filter the displacements to submesoscale?"
   ]
  },
  {
   "cell_type": "markdown",
   "id": "4960af98-3cea-46d7-a4e3-199be218fade",
   "metadata": {},
   "source": [
    "## Only surface"
   ]
  },
  {
   "cell_type": "code",
   "execution_count": null,
   "id": "f2febc4a-29ef-4c61-94a9-3283f27d834d",
   "metadata": {
    "tags": []
   },
   "outputs": [],
   "source": [
    "dep=1\n",
    "fig=plt.figure(figsize=(10,8))\n",
    "\n",
    "plt.subplot(2,2,1)\n",
    "\n",
    "plt.hist(np.ravel(delta_z_full.isel(z_rho=slice(0,dep))),density='True',color='cornflowerblue',edgecolor='k',alpha=0.4,bins=20,label='FULL')\n",
    "plt.ylabel('Density')\n",
    "\n",
    "# plt.xlabel(r'$z^*$')\n",
    "plt.title('(a)')\n",
    "plt.xticks([0,40,80],fontsize=18)\n",
    "\n",
    "plt.xlim(0,100)\n",
    "\n",
    "plt.subplot(2,2,3)\n",
    "\n",
    "plt.hist(np.ravel(delta_z_smth.isel(z_rho=slice(0,dep))),density='True',color='tomato',edgecolor='k',alpha=0.4,bins=20,label='FULL')\n",
    "\n",
    "plt.xlabel(r'$z-z_r$ [m]')\n",
    "plt.xticks([0,40,80],fontsize=18)\n",
    "\n",
    "plt.xlim(0,100)\n",
    "\n",
    "# plt.legend()\n",
    "plt.ylabel('Density')\n",
    "\n",
    "plt.title('(b)')\n",
    "\n",
    "\n",
    "\n",
    "plt.subplot(1,2,2)\n",
    "plt.plot(mean_profile_rho_full,rho_star_mean_full.z_rho,color='cornflowerblue',label='FULL')\n",
    "plt.plot(mean_profile_rho_smth,rho_star_mean_smth.z_rho,color='tomato',label='SMTH')\n",
    "plt.plot([1024,1027],[-50,-50],'k--',alpha=0.5)\n",
    "plt.ylabel('Depth [m]')\n",
    "plt.xlabel(r'$\\rho_r$ [kg m$^{-3}$]')\n",
    "\n",
    "# plt.fill_betweenx(x1=ll_profile_rho_full,x2=ul_profile_rho_full,y=rho_star_full.z_rho,color='cornflowerblue',alpha=0.2)\n",
    "# plt.fill_betweenx(x1=ll_profile_rho_smth,x2=ul_profile_rho_smth,y=rho_star_smth.z_rho,color='tomato',alpha=0.2)\n",
    "plt.grid()\n",
    "plt.legend()\n",
    "plt.ylim(-100,0)\n",
    "plt.title('(c)')\n",
    "# plt.xticks([1025,1025.5],['1025','1025.5'])\n",
    "plt.xlim(1024.75,1026)\n",
    "\n",
    "plt.tight_layout()"
   ]
  },
  {
   "cell_type": "code",
   "execution_count": null,
   "id": "1197f2e1-9a12-42a0-b0c0-96dfc80e7ffb",
   "metadata": {},
   "outputs": [],
   "source": []
  }
 ],
 "metadata": {
  "kernelspec": {
   "display_name": "XROMS",
   "language": "python",
   "name": "xroms"
  },
  "language_info": {
   "codemirror_mode": {
    "name": "ipython",
    "version": 3
   },
   "file_extension": ".py",
   "mimetype": "text/x-python",
   "name": "python",
   "nbconvert_exporter": "python",
   "pygments_lexer": "ipython3",
   "version": "3.8.19"
  }
 },
 "nbformat": 4,
 "nbformat_minor": 5
}
