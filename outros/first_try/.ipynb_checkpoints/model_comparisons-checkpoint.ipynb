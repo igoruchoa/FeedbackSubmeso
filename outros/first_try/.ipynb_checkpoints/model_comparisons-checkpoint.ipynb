{
 "cells": [
  {
   "cell_type": "code",
   "execution_count": 2,
   "metadata": {},
   "outputs": [],
   "source": [
    "import numpy as np\n",
    "from glob import glob\n",
    "from netCDF4 import Dataset\n",
    "import matplotlib.pyplot as plt\n",
    "import matplotlib.colors as colors\n",
    "import seawater as sw\n",
    "from scipy.interpolate import griddata\n",
    "import matplotlib.patheffects as PathEffects\n",
    "from matplotlib.path import Path\n",
    "import matplotlib.gridspec as gridspec\n",
    "from scipy.ndimage.filters import gaussian_filter as gfilter\n",
    "from numpy.linalg import *\n",
    "import pickle as pkl\n",
    "import gc\n",
    "import sys\n",
    "import scipy.signal as sg\n",
    "import xarray as xr\n",
    "import dask.array as dsar"
   ]
  },
  {
   "cell_type": "code",
   "execution_count": 3,
   "metadata": {},
   "outputs": [],
   "source": [
    "path='/data/pacific/lrenault/SASI/FULL/WRF/'\n",
    "listm=glob(path+'*DAY.nc');listm.sort()\n",
    "full=xr.open_mfdataset(listm)['time_counter']\n"
   ]
  },
  {
   "cell_type": "code",
   "execution_count": null,
   "metadata": {},
   "outputs": [],
   "source": []
  }
 ],
 "metadata": {
  "kernelspec": {
   "display_name": "Python 3",
   "language": "python",
   "name": "python3"
  },
  "language_info": {
   "codemirror_mode": {
    "name": "ipython",
    "version": 3
   },
   "file_extension": ".py",
   "mimetype": "text/x-python",
   "name": "python",
   "nbconvert_exporter": "python",
   "pygments_lexer": "ipython3",
   "version": "3.8.5"
  }
 },
 "nbformat": 4,
 "nbformat_minor": 4
}
