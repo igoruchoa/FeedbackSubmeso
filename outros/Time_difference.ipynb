{
 "cells": [
  {
   "cell_type": "code",
   "execution_count": 6,
   "id": "d026f9ca-56b0-4140-a945-831b7b955df1",
   "metadata": {},
   "outputs": [],
   "source": [
    "import numpy as np\n",
    "from glob import glob\n",
    "import matplotlib.pyplot as plt\n",
    "import gc\n",
    "import xarray as xr\n",
    "import dask \n",
    "import pandas as pd\n",
    "import xrft \n",
    "from scipy.interpolate import griddata\n",
    "\n",
    "from scipy.ndimage import gaussian_filter as gauss\n",
    "\n",
    "import cftime\n",
    "from pyspec import spectrum as spec\n",
    "\n",
    "from matplotlib.colors import LogNorm"
   ]
  },
  {
   "cell_type": "code",
   "execution_count": 7,
   "id": "5904262f-b878-4514-aa8e-38f0087c57fb",
   "metadata": {},
   "outputs": [
    {
     "name": "stderr",
     "output_type": "stream",
     "text": [
      "/homes/metogra/iufarias/miniconda3/envs/ROMS/lib/python3.7/site-packages/xarray/conventions.py:520: SerializationWarning: variable 'u' has multiple fill values {1e+33, 1e+20}, decoding all values to NaN.\n",
      "  decode_timedelta=decode_timedelta,\n",
      "/homes/metogra/iufarias/miniconda3/envs/ROMS/lib/python3.7/site-packages/xarray/conventions.py:520: SerializationWarning: variable 'v' has multiple fill values {1e+33, 1e+20}, decoding all values to NaN.\n",
      "  decode_timedelta=decode_timedelta,\n",
      "/homes/metogra/iufarias/miniconda3/envs/ROMS/lib/python3.7/site-packages/xarray/conventions.py:520: SerializationWarning: variable 'w' has multiple fill values {1e+33, 1e+20}, decoding all values to NaN.\n",
      "  decode_timedelta=decode_timedelta,\n",
      "/homes/metogra/iufarias/miniconda3/envs/ROMS/lib/python3.7/site-packages/xarray/conventions.py:520: SerializationWarning: variable 'temp' has multiple fill values {1e+33, 1e+20}, decoding all values to NaN.\n",
      "  decode_timedelta=decode_timedelta,\n",
      "/homes/metogra/iufarias/miniconda3/envs/ROMS/lib/python3.7/site-packages/xarray/conventions.py:520: SerializationWarning: variable 'salt' has multiple fill values {1e+33, 1e+20}, decoding all values to NaN.\n",
      "  decode_timedelta=decode_timedelta,\n",
      "/homes/metogra/iufarias/miniconda3/envs/ROMS/lib/python3.7/site-packages/xarray/conventions.py:520: SerializationWarning: variable 'rho' has multiple fill values {1e+33, 1e+20}, decoding all values to NaN.\n",
      "  decode_timedelta=decode_timedelta,\n"
     ]
    }
   ],
   "source": [
    "xmon=1\n",
    "path='/data/pacific/lrenault/SASI/CROCO/FULL/'\n",
    "listm=glob(path+'*2012*.nc');listm.sort()\n",
    "varf=xr.open_dataset(listm[xmon],decode_times=False)\n",
    "# varf=xr.open_mfdataset(listm)\n",
    "\n",
    "\n",
    "path='/data/pacific/lrenault/SASI/CROCO/SMTH/'\n",
    "listt=glob(path+'*2012*.nc');listt.sort()\n",
    "vart=xr.open_dataset(listt[xmon],decode_times=False)\n",
    "# vart=xr.open_mfdataset(listt)"
   ]
  },
  {
   "cell_type": "code",
   "execution_count": 8,
   "id": "4fe47617-10c7-46a4-a5f2-ed43d65dfcac",
   "metadata": {},
   "outputs": [],
   "source": [
    "Tf=varf.temp\n",
    "Tt=vart.temp\n",
    "# plt.contourf(varf.u[0,0,:,:])\n",
    "# plt.colorbar()"
   ]
  },
  {
   "cell_type": "code",
   "execution_count": 9,
   "id": "aa7d12ae-b11e-4e60-9019-1f51b9c91973",
   "metadata": {},
   "outputs": [],
   "source": [
    "Tfx=Tf[0,:,:,:850].sum(axis=0)\n",
    "Ttx=Tt[0,:,:,:850].sum(axis=0)\n",
    "\n"
   ]
  },
  {
   "cell_type": "code",
   "execution_count": 16,
   "id": "89e829a3-8e43-447f-9188-b2fd6a73a4ff",
   "metadata": {},
   "outputs": [],
   "source": [
    "spf = spec.TWODimensional_spec(Tfx,0.1,0.1)\n",
    "spt = spec.TWODimensional_spec(Ttx,0.1,0.1)\n",
    "\n",
    "\n",
    "ispf=spec.calc_ispec(spf.k1,spf.k2,spf.spec)\n",
    "ispt=spec.calc_ispec(spt.k1,spt.k2,spt.spec)\n"
   ]
  },
  {
   "cell_type": "code",
   "execution_count": 17,
   "id": "85e4bee5-b8ab-4555-9457-11f541c75778",
   "metadata": {},
   "outputs": [
    {
     "ename": "NameError",
     "evalue": "name 'varr' is not defined",
     "output_type": "error",
     "traceback": [
      "\u001b[0;31m---------------------------------------------------------------------------\u001b[0m",
      "\u001b[0;31mNameError\u001b[0m                                 Traceback (most recent call last)",
      "\u001b[0;32m/tmp/ipykernel_89023/3978239667.py\u001b[0m in \u001b[0;36m<module>\u001b[0;34m\u001b[0m\n\u001b[1;32m     13\u001b[0m \u001b[0;34m\u001b[0m\u001b[0m\n\u001b[1;32m     14\u001b[0m \u001b[0mplt\u001b[0m\u001b[0;34m.\u001b[0m\u001b[0mgrid\u001b[0m\u001b[0;34m(\u001b[0m\u001b[0;34m)\u001b[0m\u001b[0;34m\u001b[0m\u001b[0m\n\u001b[0;32m---> 15\u001b[0;31m \u001b[0mplt\u001b[0m\u001b[0;34m.\u001b[0m\u001b[0mtitle\u001b[0m\u001b[0;34m(\u001b[0m\u001b[0;34m'Full Period {0}'\u001b[0m\u001b[0;34m.\u001b[0m\u001b[0mformat\u001b[0m\u001b[0;34m(\u001b[0m\u001b[0mvarr\u001b[0m\u001b[0;34m)\u001b[0m\u001b[0;34m)\u001b[0m\u001b[0;34m\u001b[0m\u001b[0m\n\u001b[0m\u001b[1;32m     16\u001b[0m \u001b[0;34m\u001b[0m\u001b[0m\n\u001b[1;32m     17\u001b[0m \u001b[0mplt\u001b[0m\u001b[0;34m.\u001b[0m\u001b[0mxticks\u001b[0m\u001b[0;34m(\u001b[0m\u001b[0mnp\u001b[0m\u001b[0;34m.\u001b[0m\u001b[0marray\u001b[0m\u001b[0;34m(\u001b[0m\u001b[0;34m[\u001b[0m\u001b[0;36m3\u001b[0m\u001b[0;34m,\u001b[0m\u001b[0;36m4\u001b[0m\u001b[0;34m,\u001b[0m\u001b[0;36m5\u001b[0m\u001b[0;34m]\u001b[0m\u001b[0;34m)\u001b[0m\u001b[0;34m,\u001b[0m\u001b[0;34m[\u001b[0m\u001b[0;34mr'10$^3$'\u001b[0m\u001b[0;34m,\u001b[0m\u001b[0;34mr'10$^4$'\u001b[0m\u001b[0;34m,\u001b[0m\u001b[0;34mr'10$^5$'\u001b[0m\u001b[0;34m]\u001b[0m\u001b[0;34m)\u001b[0m\u001b[0;34m\u001b[0m\u001b[0m\n",
      "\u001b[0;31mNameError\u001b[0m: name 'varr' is not defined"
     ]
    },
    {
     "data": {
      "image/png": "[encoded data removed]",
      "text/plain": [
       "<Figure size 720x576 with 1 Axes>"
      ]
     },
     "metadata": {
      "needs_background": "light"
     },
     "output_type": "display_data"
    }
   ],
   "source": [
    "plt.figure(figsize=(10,8))\n",
    "\n",
    "\n",
    "plt.plot(np.log10(1/ispf[0]),np.log10(ispf[1][::-1]),label='FULL',linewidth=2,color='navy')\n",
    "\n",
    "plt.plot(np.log10(1/ispt[0]),\n",
    "        np.log10(ispt[1][::-1]),label='SMTH',linewidth=2,color='lightcoral')\n",
    "\n",
    "\n",
    "\n",
    "\n",
    "plt.legend()\n",
    "\n",
    "plt.grid()\n",
    "plt.title('Full Period {0}'.format(varr))\n",
    "\n",
    "plt.xticks(np.array([3,4,5]),[r'10$^3$',r'10$^4$',r'10$^5$'])\n",
    "#plt.title(np.datetime_as_string(varf.time_counter[xday].data)[:10])\n",
    "plt.xlabel(r'$\\lambda [m]$')\n",
    "\n",
    "plt.tight_layout()"
   ]
  },
  {
   "cell_type": "code",
   "execution_count": null,
   "id": "f4651241-3543-4186-8777-dac552bc2251",
   "metadata": {},
   "outputs": [],
   "source": []
  }
 ],
 "metadata": {
  "kernelspec": {
   "display_name": "ROMS",
   "language": "python",
   "name": "roms"
  },
  "language_info": {
   "codemirror_mode": {
    "name": "ipython",
    "version": 3
   },
   "file_extension": ".py",
   "mimetype": "text/x-python",
   "name": "python",
   "nbconvert_exporter": "python",
   "pygments_lexer": "ipython3",
   "version": "3.7.0"
  }
 },
 "nbformat": 4,
 "nbformat_minor": 5
}
