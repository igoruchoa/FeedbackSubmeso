{
 "cells": [
  {
   "cell_type": "code",
   "execution_count": 1,
   "metadata": {},
   "outputs": [],
   "source": [
    "import numpy as np\n",
    "from glob import glob\n",
    "import matplotlib.pyplot as plt\n",
    "import gc\n",
    "import xarray as xr\n",
    "import dask \n",
    "import pandas as pd\n",
    "import xrft \n",
    "import seawater as sw\n",
    "from scipy.interpolate import griddata\n",
    "from matplotlib import ticker\n",
    "\n",
    "import os.path as op\n",
    "\n",
    "from dask.diagnostics import ProgressBar\n",
    "from scipy.ndimage import gaussian_filter as gauss"
   ]
  },
  {
   "cell_type": "code",
   "execution_count": 3,
   "metadata": {},
   "outputs": [
    {
     "ename": "NameError",
     "evalue": "name 'xar' is not defined",
     "output_type": "error",
     "traceback": [
      "\u001b[0;31m---------------------------------------------------------------------------\u001b[0m",
      "\u001b[0;31mNameError\u001b[0m                                 Traceback (most recent call last)",
      "\u001b[0;32m<ipython-input-3-4136da600b6f>\u001b[0m in \u001b[0;36m<module>\u001b[0;34m\u001b[0m\n\u001b[1;32m      3\u001b[0m \u001b[0mpath\u001b[0m\u001b[0;34m=\u001b[0m\u001b[0;34m'/data/pacific/lrenault/SASI/FULL/WRF/'\u001b[0m\u001b[0;34m\u001b[0m\u001b[0;34m\u001b[0m\u001b[0m\n\u001b[1;32m      4\u001b[0m \u001b[0mlistm\u001b[0m\u001b[0;34m=\u001b[0m\u001b[0mglob\u001b[0m\u001b[0;34m(\u001b[0m\u001b[0mpath\u001b[0m\u001b[0;34m+\u001b[0m\u001b[0;34m'*DAY.nc'\u001b[0m\u001b[0;34m)\u001b[0m\u001b[0;34m;\u001b[0m\u001b[0mlistm\u001b[0m\u001b[0;34m.\u001b[0m\u001b[0msort\u001b[0m\u001b[0;34m(\u001b[0m\u001b[0;34m)\u001b[0m\u001b[0;34m\u001b[0m\u001b[0;34m\u001b[0m\u001b[0m\n\u001b[0;32m----> 5\u001b[0;31m \u001b[0mvarf\u001b[0m\u001b[0;34m=\u001b[0m\u001b[0mxar\u001b[0m\u001b[0;34m.\u001b[0m\u001b[0mopen_dataset\u001b[0m\u001b[0;34m(\u001b[0m\u001b[0mlistm\u001b[0m\u001b[0;34m[\u001b[0m\u001b[0;34m-\u001b[0m\u001b[0;36m9\u001b[0m\u001b[0;34m:\u001b[0m\u001b[0;34m]\u001b[0m\u001b[0;34m[\u001b[0m\u001b[0mxmon\u001b[0m\u001b[0;34m]\u001b[0m\u001b[0;34m)\u001b[0m\u001b[0;34m\u001b[0m\u001b[0;34m\u001b[0m\u001b[0m\n\u001b[0m\u001b[1;32m      6\u001b[0m \u001b[0;34m\u001b[0m\u001b[0m\n\u001b[1;32m      7\u001b[0m \u001b[0;34m\u001b[0m\u001b[0m\n",
      "\u001b[0;31mNameError\u001b[0m: name 'xar' is not defined"
     ]
    }
   ],
   "source": [
    "xmon=2\n",
    "\n",
    "path='/data/pacific/lrenault/SASI/FULL/WRF/'\n",
    "listm=glob(path+'*DAY.nc');listm.sort()\n",
    "varf=xar.open_dataset(listm[-9:][xmon])\n",
    "\n",
    "\n",
    "path='/data/pacific/lrenault/SASI/SMTH/WRF/'\n",
    "listt=glob(path+'*DAY.nc');listt.sort()\n",
    "vart=xar.open_dataset(listt[xmon])\n"
   ]
  },
  {
   "cell_type": "code",
   "execution_count": 4,
   "metadata": {},
   "outputs": [],
   "source": [
    "plt.rcParams['font.size']=15\n",
    "plt.rcParams['font.sans-serif']='Arial'\n",
    "plt.rcParams['font.weight']='bold'"
   ]
  },
  {
   "cell_type": "code",
   "execution_count": 5,
   "metadata": {},
   "outputs": [
    {
     "ename": "NameError",
     "evalue": "name 'varf' is not defined",
     "output_type": "error",
     "traceback": [
      "\u001b[0;31m---------------------------------------------------------------------------\u001b[0m",
      "\u001b[0;31mNameError\u001b[0m                                 Traceback (most recent call last)",
      "\u001b[0;32m<ipython-input-5-715ce5f1c948>\u001b[0m in \u001b[0;36m<module>\u001b[0;34m\u001b[0m\n\u001b[1;32m      1\u001b[0m \u001b[0mplt\u001b[0m\u001b[0;34m.\u001b[0m\u001b[0mfigure\u001b[0m\u001b[0;34m(\u001b[0m\u001b[0;34m)\u001b[0m\u001b[0;34m\u001b[0m\u001b[0;34m\u001b[0m\u001b[0m\n\u001b[0;32m----> 2\u001b[0;31m \u001b[0mplt\u001b[0m\u001b[0;34m.\u001b[0m\u001b[0mcontourf\u001b[0m\u001b[0;34m(\u001b[0m\u001b[0mnp\u001b[0m\u001b[0;34m.\u001b[0m\u001b[0marctan2\u001b[0m\u001b[0;34m(\u001b[0m\u001b[0mvarf\u001b[0m\u001b[0;34m.\u001b[0m\u001b[0mnav_lat\u001b[0m\u001b[0;34m-\u001b[0m\u001b[0mvarf\u001b[0m\u001b[0;34m.\u001b[0m\u001b[0mnav_lat\u001b[0m\u001b[0;34m.\u001b[0m\u001b[0mmin\u001b[0m\u001b[0;34m(\u001b[0m\u001b[0;34m)\u001b[0m\u001b[0;34m,\u001b[0m\u001b[0mvarf\u001b[0m\u001b[0;34m.\u001b[0m\u001b[0mnav_lon\u001b[0m\u001b[0;34m-\u001b[0m\u001b[0mvarf\u001b[0m\u001b[0;34m.\u001b[0m\u001b[0mnav_lon\u001b[0m\u001b[0;34m.\u001b[0m\u001b[0mmin\u001b[0m\u001b[0;34m(\u001b[0m\u001b[0;34m)\u001b[0m\u001b[0;34m)\u001b[0m\u001b[0;34m)\u001b[0m\u001b[0;34m\u001b[0m\u001b[0;34m\u001b[0m\u001b[0m\n\u001b[0m\u001b[1;32m      3\u001b[0m \u001b[0mplt\u001b[0m\u001b[0;34m.\u001b[0m\u001b[0mcolorbar\u001b[0m\u001b[0;34m(\u001b[0m\u001b[0;34m)\u001b[0m\u001b[0;34m\u001b[0m\u001b[0;34m\u001b[0m\u001b[0m\n",
      "\u001b[0;31mNameError\u001b[0m: name 'varf' is not defined"
     ]
    },
    {
     "data": {
      "text/plain": [
       "<Figure size 432x288 with 0 Axes>"
      ]
     },
     "metadata": {},
     "output_type": "display_data"
    }
   ],
   "source": [
    "plt.figure()\n",
    "plt.contourf(np.arctan2(varf.nav_lat-varf.nav_lat.min(),varf.nav_lon-varf.nav_lon.min()))\n",
    "plt.colorbar()\n"
   ]
  },
  {
   "cell_type": "code",
   "execution_count": 6,
   "metadata": {},
   "outputs": [
    {
     "ename": "NameError",
     "evalue": "name 'varf' is not defined",
     "output_type": "error",
     "traceback": [
      "\u001b[0;31m---------------------------------------------------------------------------\u001b[0m",
      "\u001b[0;31mNameError\u001b[0m                                 Traceback (most recent call last)",
      "\u001b[0;32m<ipython-input-6-a0896c8ac093>\u001b[0m in \u001b[0;36m<module>\u001b[0;34m\u001b[0m\n\u001b[0;32m----> 1\u001b[0;31m \u001b[0mang\u001b[0m \u001b[0;34m=\u001b[0m \u001b[0mnp\u001b[0m\u001b[0;34m.\u001b[0m\u001b[0marctan2\u001b[0m\u001b[0;34m(\u001b[0m\u001b[0mvarf\u001b[0m\u001b[0;34m.\u001b[0m\u001b[0mnav_lat\u001b[0m\u001b[0;34m-\u001b[0m\u001b[0mvarf\u001b[0m\u001b[0;34m.\u001b[0m\u001b[0mnav_lat\u001b[0m\u001b[0;34m.\u001b[0m\u001b[0mmin\u001b[0m\u001b[0;34m(\u001b[0m\u001b[0;34m)\u001b[0m\u001b[0;34m,\u001b[0m\u001b[0mvarf\u001b[0m\u001b[0;34m.\u001b[0m\u001b[0mnav_lon\u001b[0m\u001b[0;34m-\u001b[0m\u001b[0mvarf\u001b[0m\u001b[0;34m.\u001b[0m\u001b[0mnav_lon\u001b[0m\u001b[0;34m.\u001b[0m\u001b[0mmin\u001b[0m\u001b[0;34m(\u001b[0m\u001b[0;34m)\u001b[0m\u001b[0;34m)\u001b[0m\u001b[0;34m.\u001b[0m\u001b[0mmean\u001b[0m\u001b[0;34m(\u001b[0m\u001b[0;34m)\u001b[0m\u001b[0;34m\u001b[0m\u001b[0;34m\u001b[0m\u001b[0m\n\u001b[0m\u001b[1;32m      2\u001b[0m \u001b[0mX\u001b[0m \u001b[0;34m=\u001b[0m \u001b[0mnp\u001b[0m\u001b[0;34m.\u001b[0m\u001b[0mexp\u001b[0m\u001b[0;34m(\u001b[0m\u001b[0;34m-\u001b[0m\u001b[0;36m1j\u001b[0m\u001b[0;34m*\u001b[0m\u001b[0mang\u001b[0m\u001b[0;34m)\u001b[0m\u001b[0;34m*\u001b[0m\u001b[0;34m(\u001b[0m\u001b[0mvarf\u001b[0m\u001b[0;34m.\u001b[0m\u001b[0mnav_lon\u001b[0m\u001b[0;34m-\u001b[0m\u001b[0mvarf\u001b[0m\u001b[0;34m.\u001b[0m\u001b[0mnav_lon\u001b[0m\u001b[0;34m.\u001b[0m\u001b[0mmean\u001b[0m\u001b[0;34m(\u001b[0m\u001b[0;34m)\u001b[0m \u001b[0;34m+\u001b[0m \u001b[0;36m1j\u001b[0m\u001b[0;34m*\u001b[0m\u001b[0;34m(\u001b[0m\u001b[0mvarf\u001b[0m\u001b[0;34m.\u001b[0m\u001b[0mnav_lat\u001b[0m\u001b[0;34m-\u001b[0m\u001b[0mvarf\u001b[0m\u001b[0;34m.\u001b[0m\u001b[0mnav_lat\u001b[0m\u001b[0;34m.\u001b[0m\u001b[0mmean\u001b[0m\u001b[0;34m(\u001b[0m\u001b[0;34m)\u001b[0m\u001b[0;34m)\u001b[0m\u001b[0;34m)\u001b[0m\u001b[0;34m\u001b[0m\u001b[0;34m\u001b[0m\u001b[0m\n\u001b[1;32m      3\u001b[0m \u001b[0mxrot\u001b[0m\u001b[0;34m,\u001b[0m\u001b[0myrot\u001b[0m \u001b[0;34m=\u001b[0m \u001b[0mX\u001b[0m\u001b[0;34m.\u001b[0m\u001b[0mreal\u001b[0m\u001b[0;34m.\u001b[0m\u001b[0mmean\u001b[0m\u001b[0;34m(\u001b[0m\u001b[0;34m'y'\u001b[0m\u001b[0;34m)\u001b[0m\u001b[0;34m,\u001b[0m\u001b[0mX\u001b[0m\u001b[0;34m.\u001b[0m\u001b[0mimag\u001b[0m\u001b[0;34m.\u001b[0m\u001b[0mmean\u001b[0m\u001b[0;34m(\u001b[0m\u001b[0;34m'x'\u001b[0m\u001b[0;34m)\u001b[0m\u001b[0;34m\u001b[0m\u001b[0;34m\u001b[0m\u001b[0m\n\u001b[1;32m      4\u001b[0m \u001b[0;34m\u001b[0m\u001b[0m\n\u001b[1;32m      5\u001b[0m \u001b[0mxrr\u001b[0m\u001b[0;34m=\u001b[0m\u001b[0mnp\u001b[0m\u001b[0;34m.\u001b[0m\u001b[0mlinspace\u001b[0m\u001b[0;34m(\u001b[0m\u001b[0mxrot\u001b[0m\u001b[0;34m.\u001b[0m\u001b[0mmin\u001b[0m\u001b[0;34m(\u001b[0m\u001b[0;34m)\u001b[0m\u001b[0;34m*\u001b[0m\u001b[0;36m111e3\u001b[0m\u001b[0;34m,\u001b[0m\u001b[0mxrot\u001b[0m\u001b[0;34m.\u001b[0m\u001b[0mmax\u001b[0m\u001b[0;34m(\u001b[0m\u001b[0;34m)\u001b[0m\u001b[0;34m*\u001b[0m\u001b[0;36m111e3\u001b[0m\u001b[0;34m,\u001b[0m\u001b[0mlen\u001b[0m\u001b[0;34m(\u001b[0m\u001b[0mxrot\u001b[0m\u001b[0;34m)\u001b[0m\u001b[0;34m)\u001b[0m\u001b[0;34m\u001b[0m\u001b[0;34m\u001b[0m\u001b[0m\n",
      "\u001b[0;31mNameError\u001b[0m: name 'varf' is not defined"
     ]
    }
   ],
   "source": [
    "ang = np.arctan2(varf.nav_lat-varf.nav_lat.min(),varf.nav_lon-varf.nav_lon.min()).mean()\n",
    "X = np.exp(-1j*ang)*(varf.nav_lon-varf.nav_lon.mean() + 1j*(varf.nav_lat-varf.nav_lat.mean()))\n",
    "xrot,yrot = X.real.mean('y'),X.imag.mean('x')\n",
    "\n",
    "xrr=np.linspace(xrot.min()*111e3,xrot.max()*111e3,len(xrot))\n",
    "yrr=np.linspace(yrot.min()*111e3,yrot.max()*111e3,len(yrot))"
   ]
  },
  {
   "cell_type": "code",
   "execution_count": null,
   "metadata": {},
   "outputs": [],
   "source": [
    "# af = varf.SST[xday].assign_coords(xrot=xrot,yrot=yrot).drop(['nav_lat','nav_lon'])\n",
    "# at = vart.SST[xday].assign_coords(xrot=xrot,yrot=yrot).drop(['nav_lat','nav_lon'])\n",
    "xday=15\n",
    "af = varf.SST[xday][:,0:200].assign_coords(x=xrr[0:200],y=yrr).drop(['nav_lat','nav_lon'])\n",
    "at = vart.SST[xday][:,0:200].assign_coords(x=xrr[0:200],y=yrr).drop(['nav_lat','nav_lon'])\n",
    "# at.data=gauss(vart.SST[xday],5)\n",
    "\n",
    "\n",
    "\n",
    "\n",
    "\n",
    "# af = xr.DataArray(varf.SST[xday].data,dims=('ya','xa'),coords={'xa':(('xa','ya'),xrot),'ya':(('xa','ya'),yrot)})\n",
    "\n",
    "# at = xr.DataArray(vart.SST[xday].data,dims=('ya','xa'),coords={'xa':(('xa','ya'),xrot),'ya':(('xa','ya'),yrot)})\n"
   ]
  },
  {
   "cell_type": "code",
   "execution_count": null,
   "metadata": {},
   "outputs": [],
   "source": [
    "\n",
    "plt.figure(figsize=(16,8))\n",
    "plt.subplot(1,2,1)\n",
    "plt.contourf(af.x,af.y,af-273.15,levels=np.linspace(5,10,31),cmap='jet')\n",
    "plt.grid(alpha=0.4)\n",
    "plt.colorbar()\n",
    "\n",
    "plt.subplot(1,2,2)\n",
    "plt.contourf(at.x,af.y,at-273.15,levels=np.linspace(5,10,31),cmap='jet')\n",
    "plt.grid(alpha=0.4)\n",
    "plt.colorbar()\n",
    "\n",
    "\n"
   ]
  },
  {
   "cell_type": "code",
   "execution_count": 277,
   "metadata": {},
   "outputs": [
    {
     "name": "stderr",
     "output_type": "stream",
     "text": [
      "/opt/anaconda3/lib/python3.8/site-packages/xrft/xrft.py:1063: Warning: This function has been renamed and will disappear in the future. Please use isotropic_power_spectrum instead\n",
      "  warnings.warn(msg, Warning)\n",
      "/opt/anaconda3/lib/python3.8/site-packages/xrft/xrft.py:1041: FutureWarning: The flag `truncate` will be set to True by default in future version in order to truncate the isotropic wavenumber larger than the Nyquist wavenumber.\n",
      "  warnings.warn(msg, FutureWarning)\n",
      "/opt/anaconda3/lib/python3.8/site-packages/xrft/xrft.py:1063: Warning: This function has been renamed and will disappear in the future. Please use isotropic_power_spectrum instead\n",
      "  warnings.warn(msg, Warning)\n",
      "/opt/anaconda3/lib/python3.8/site-packages/xrft/xrft.py:1041: FutureWarning: The flag `truncate` will be set to True by default in future version in order to truncate the isotropic wavenumber larger than the Nyquist wavenumber.\n",
      "  warnings.warn(msg, FutureWarning)\n"
     ]
    }
   ],
   "source": [
    "full_ps = xrft.power_spectrum(af,dim=[\"x\",\"y\"])\n",
    "smth_ps = xrft.power_spectrum(at,dim=[\"x\",\"y\"])\n",
    "\n",
    "\n",
    "iso_f = xrft.isotropic_powerspectrum(af, dim=['x','y'],detrend='constant')\n",
    "iso_t = xrft.isotropic_powerspectrum(at, dim=['x','y'],detrend='constant')\n",
    "\n",
    "\n",
    "fy=smth_ps.freq_y\n",
    "fx=smth_ps.freq_x\n",
    "\n",
    "fx,fy=np.meshgrid(fx,fy)"
   ]
  },
  {
   "cell_type": "code",
   "execution_count": 278,
   "metadata": {},
   "outputs": [
    {
     "data": {
      "text/plain": [
       "([<matplotlib.axis.XTick at 0x7fa512c3e3d0>,\n",
       "  <matplotlib.axis.XTick at 0x7fa512c3eb80>,\n",
       "  <matplotlib.axis.XTick at 0x7fa51444ffa0>],\n",
       " [Text(0, 0, '10$^3$'), Text(0, 0, '10$^4$'), Text(0, 0, '10$^5$')])"
      ]
     },
     "execution_count": 278,
     "metadata": {},
     "output_type": "execute_result"
    },
    {
     "data": {
      "image/png": "[encoded data removed]",
      "text/plain": [
       "<Figure size 720x576 with 1 Axes>"
      ]
     },
     "metadata": {
      "needs_background": "light"
     },
     "output_type": "display_data"
    }
   ],
   "source": [
    "\n",
    "# plt.figure(figsize=(23,6))\n",
    "# plt.subplot(1,3,1)\n",
    "# plt.contourf(fx,fy,np.log(full_ps),levels=np.linspace(0,24,51),cmap='rainbow')\n",
    "# plt.colorbar()\n",
    "# plt.title('FULL')\n",
    "\n",
    "# plt.subplot(1,3,2)\n",
    "# plt.contourf(fx,fy,np.log(smth_ps),levels=np.linspace(0,24,51),cmap='rainbow')\n",
    "# plt.colorbar()\n",
    "# plt.title('SMTH')\n",
    "\n",
    "# plt.subplot(1,3,3)\n",
    "# plt.contourf(fx,fy,full_ps-smth_ps,levels=np.linspace(-1000,1000,51),cmap='seismic')\n",
    "# plt.colorbar()\n",
    "# plt.title('FULL - SMTH')\n",
    "\n",
    "\n",
    "\n",
    "# plt.figure(figsize=(10,8))\n",
    "# plt.plot(np.log10(2*np.pi/iso_f.freq_r),np.log10(iso_f),label='FULL',linewidth=2,color='navy')\n",
    "# plt.plot(np.log10(2*np.pi/iso_f.freq_r),np.log10(iso_t),label='SMTH',linewidth=2,color='lightcoral')\n",
    "# plt.ylabel(r'$P_{(SST)}$')\n",
    "# # plt.xlabel(r'$\\lambda$ [km]')\n",
    "# plt.legend()\n",
    "# plt.grid()\n",
    "# # plt.xlim(0,10)\n",
    "\n",
    "\n",
    "plt.figure(figsize=(10,8))\n",
    "plt.plot(np.log10(1/iso_f.freq_r),np.log10(iso_f),label='FULL',linewidth=2,color='navy')\n",
    "plt.plot(np.log10(1/iso_f.freq_r),np.log10(iso_t),label='SMTH',linewidth=2,color='lightcoral')\n",
    "plt.ylabel(r'$P_{(SST)}$')\n",
    "# plt.xlabel(r'$\\lambda$ [km]')\n",
    "plt.legend()\n",
    "plt.grid()\n",
    "plt.title(np.datetime_as_string(varf.time_counter[xday].data)[:10])\n",
    "plt.xlabel(r'$\\lambda [m]$')\n",
    "plt.xticks(np.arange(3,6,1),[r'10$^3$',r'10$^4$',r'10$^5$'])\n",
    "# plt.xlim(0,10)\n",
    "\n",
    "# plt.figure()\n",
    "# plt.plot(iso_f-iso_t)\n",
    "\n",
    "# plt.figure(figsize=(10,8))\n",
    "# plt.plot(1/iso_f.freq_r,iso_f,norm='logNorm()',label='FULL',linewidth=2,color='navy')\n",
    "# plt.plot(np.log(1/iso_f.freq_r),np.log(iso_t),label='SMTH',linewidth=2,color='lightcoral')\n",
    "# plt.ylabel(r'$P_{(SST)}$')\n",
    "# # plt.xlabel(r'$\\lambda$ [km]')\n",
    "# plt.legend()\n",
    "# plt.grid()\n",
    "# plt.ylim(3,5)\n",
    "\n",
    "\n",
    "\n",
    "\n",
    "\n"
   ]
  },
  {
   "cell_type": "code",
   "execution_count": null,
   "metadata": {},
   "outputs": [],
   "source": []
  }
 ],
 "metadata": {
  "kernelspec": {
   "display_name": "Python 3",
   "language": "python",
   "name": "python3"
  },
  "language_info": {
   "codemirror_mode": {
    "name": "ipython",
    "version": 3
   },
   "file_extension": ".py",
   "mimetype": "text/x-python",
   "name": "python",
   "nbconvert_exporter": "python",
   "pygments_lexer": "ipython3",
   "version": "3.8.5"
  }
 },
 "nbformat": 4,
 "nbformat_minor": 4
}
