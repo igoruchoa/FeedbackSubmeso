{
 "cells": [
  {
   "cell_type": "code",
   "execution_count": null,
   "id": "a049811b-2098-4846-a80e-a06ba059382b",
   "metadata": {},
   "outputs": [],
   "source": []
  }
 ],
 "metadata": {
  "kernelspec": {
   "display_name": "ROMS",
   "language": "python",
   "name": "roms"
  },
  "language_info": {
   "codemirror_mode": {
    "name": "ipython",
    "version": 3
   },
   "file_extension": ".py",
   "mimetype": "text/x-python",
   "name": "python",
   "nbconvert_exporter": "python",
   "pygments_lexer": "ipython3",
   "version": "3.7.0"
  }
 },
 "nbformat": 4,
 "nbformat_minor": 5
}
