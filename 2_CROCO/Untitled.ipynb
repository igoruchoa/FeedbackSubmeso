{
 "cells": [
  {
   "cell_type": "code",
   "execution_count": null,
   "id": "d4e66755-e8aa-49d8-a2f2-5f15a9018524",
   "metadata": {},
   "outputs": [],
   "source": [
    "# import xesmf as xe\n",
    "from glob import glob\n",
    "import matplotlib.pyplot as plt\n",
    "import gc\n",
    "import xarray as xr\n",
    "import pandas as pd\n",
    "import xrft as xrft\n",
    "from scipy.interpolate import griddata\n",
    "from scipy.ndimage import gaussian_filter as gauss\n",
    "from matplotlib.colors import LogNorm\n",
    "import xroms\n",
    "import numpy as np\n",
    "import seawater as sw\n",
    "from dask.diagnostics import ProgressBar\n",
    "import scipy.integrate as integ\n",
    "\n",
    "\n",
    "import sys\n",
    "sys.path.append(\"/homes/metogra/iufarias/Documents/Scripts/useful\")\n",
    "import romspickle as rp\n",
    "\n",
    "from dask.diagnostics import ProgressBar\n",
    "import dask\n",
    "dask.config.set(**{'array.slicing.split_large_chunks': True})\n",
    "\n",
    "plt.rcParams['font.size']=15\n",
    "plt.rcParams['font.sans-serif']='Arial'\n",
    "plt.rcParams['font.weight']='bold'"
   ]
  },
  {
   "cell_type": "code",
   "execution_count": 8,
   "id": "2c568e34-6751-488a-b9d9-3e3a35b6a3c0",
   "metadata": {},
   "outputs": [],
   "source": [
    "chunks={'time_counter':10, 'x_rho':1000, 'y_rho':1520,'s_rho':40,'s_w':40}\n",
    "\n",
    "#3D\n",
    "path='/data/pacific/lrenault/SASI/CROCO/'\n",
    "\n",
    "varf=xr.open_mfdataset(path + 'FULL/SASI*2012*.nc',data_vars='minimal', chunks=chunks)\n",
    "vart=xr.open_mfdataset(path + 'SMTH/SASI*2012*.nc',data_vars='minimal', chunks=chunks)\n",
    "\n"
   ]
  },
  {
   "cell_type": "code",
   "execution_count": 11,
   "id": "329a6108-0e66-4ece-b56f-8d2c84f48ba8",
   "metadata": {},
   "outputs": [],
   "source": [
    "varx = varf.rename({\"time_counter\":\"ocean_time\",\"x_rho\": \"xi_rho\",\"x_u\":\"xi_u\",\"x_v\":\"xi_v\",\"x_w\":\"xi_w\",\n",
    "                    \"y_rho\":\"eta_rho\",\"y_v\":\"eta_v\",\"y_u\":\"eta_u\",\"y_w\":\"eta_w\",\"s_rho\":\"s_rho\",\"s_w\":\"s_w\"})\n",
    "df,gf=xroms.roms_dataset(varx,Vtransform=2)\n",
    "\n",
    "vary = vart.rename({\"time_counter\":\"ocean_time\",\"x_rho\": \"xi_rho\",\"x_u\":\"xi_u\",\"x_v\":\"xi_v\",\n",
    "                    \"y_rho\":\"eta_rho\",\"y_v\":\"eta_v\",\"y_u\":\"eta_u\",\"y_w\":\"eta_w\",\"s_rho\":\"s_rho\",\"s_w\":\"s_w\"})\n",
    "dt,gt=xroms.roms_dataset(vary,Vtransform=2)"
   ]
  }
 ],
 "metadata": {
  "kernelspec": {
   "display_name": "XROMS",
   "language": "python",
   "name": "xroms"
  },
  "language_info": {
   "codemirror_mode": {
    "name": "ipython",
    "version": 3
   },
   "file_extension": ".py",
   "mimetype": "text/x-python",
   "name": "python",
   "nbconvert_exporter": "python",
   "pygments_lexer": "ipython3",
   "version": "3.8.13"
  }
 },
 "nbformat": 4,
 "nbformat_minor": 5
}
