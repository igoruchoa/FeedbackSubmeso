{
 "cells": [
  {
   "cell_type": "markdown",
   "id": "e3f8968f-3b02-4bad-b225-ea5e3735dea5",
   "metadata": {},
   "source": [
    "# $b'B_o$ computation"
   ]
  },
  {
   "cell_type": "code",
   "execution_count": 25,
   "id": "95bf87c5-6607-4e76-8b94-e54a4fd68c07",
   "metadata": {},
   "outputs": [],
   "source": [
    "# obs: talvez tenha que cropar um quadrado pequeno pra fazer tudo\n",
    "# o crte dos CROCO estao errados"
   ]
  },
  {
   "cell_type": "code",
   "execution_count": 1,
   "id": "dc6c4173-e2c5-41ad-9a79-cddc9c64ab66",
   "metadata": {},
   "outputs": [],
   "source": [
    "import numpy as np\n",
    "from glob import glob\n",
    "import matplotlib.pyplot as plt\n",
    "import gc\n",
    "import xarray as xr\n",
    "import pandas as pd\n",
    "import xrft as xrft\n",
    "import warnings\n",
    "import scipy.signal as sig\n",
    "import sys\n",
    "import seaborn as sns\n",
    "import gsw as gsw\n",
    "sys.path.append(\"/homes/metogra/iufarias/FeedbackSubmeso/useful/\")\n",
    "import romspickle\n",
    "# import seawater as sw\n",
    "\n",
    "from dask.diagnostics import ProgressBar\n",
    "\n",
    "warnings.filterwarnings(\"ignore\")"
   ]
  },
  {
   "cell_type": "code",
   "execution_count": 2,
   "id": "20557764-e164-4c3a-8ca8-d0143907f6f1",
   "metadata": {},
   "outputs": [],
   "source": [
    "plt.rcParams['font.size']=15\n",
    "plt.rcParams['font.sans-serif']='Arial'\n",
    "plt.rcParams['font.weight']='bold'"
   ]
  },
  {
   "cell_type": "code",
   "execution_count": 3,
   "id": "738c878a-a9f8-4100-bd33-46f48b4e6bb0",
   "metadata": {},
   "outputs": [],
   "source": [
    "path='/data/pacific/lrenault/SASI/CROCO/FULL/'\n",
    "listm=glob(path+'surf*.nc');listm.sort()\n",
    "# varf=xr.open_dataset(listm[-9:][xmon])\n",
    "varf=xr.open_mfdataset(listm[1:],data_vars='minimal')\n",
    "\n",
    "path='/data/pacific/lrenault/SASI/CROCO/SMTH/'\n",
    "listt=glob(path+'surf*SASI_6h_his_20*_*.nc');listt.sort()\n",
    "listt.append('/data/pacific/lrenault/SASI/CROCO/SMTH/surf_SASI_6h_his_2012-07.nc')\n",
    "#vart=xr.open_dataset(listt[xmon])\n",
    "vart=xr.open_mfdataset(listt[1:],data_vars='minimal')"
   ]
  },
  {
   "cell_type": "code",
   "execution_count": 5,
   "id": "08e9a90f-b069-4788-bb9e-e0c6735203a8",
   "metadata": {},
   "outputs": [],
   "source": [
    "\n",
    "path='/data/pacific/lrenault/SASI/FULL/WRF/'\n",
    "listmw=glob(path+'*DAY.nc');listmw.sort()\n",
    "# varf=xr.open_dataset(listm[-9:][xmon])\n",
    "varfw=xr.open_mfdataset(listmw[-9:])\n",
    "\n",
    "\n",
    "path='/data/pacific/lrenault/SASI/SMTH/WRF/'\n",
    "listtw=glob(path+'*DAY.nc');listtw.sort()\n",
    "#vart=xr.open_dataset(listt[xmon])\n",
    "vartw=xr.open_mfdataset(listtw)"
   ]
  },
  {
   "cell_type": "code",
   "execution_count": 6,
   "id": "fc9519b8-a7c8-46cf-9416-bed325aca1d3",
   "metadata": {},
   "outputs": [],
   "source": [
    "import pandas as pd\n",
    "timer=pd.DatetimeIndex(varf.time_counter.groupby(\"time_counter.dayofyear\").mean())"
   ]
  },
  {
   "cell_type": "code",
   "execution_count": 7,
   "id": "af31f859-4abc-4ec8-a3c5-f401bea742f3",
   "metadata": {},
   "outputs": [
    {
     "name": "stdout",
     "output_type": "stream",
     "text": [
      "CPU times: user 1min 13s, sys: 1min 31s, total: 2min 44s\n",
      "Wall time: 4min 47s\n"
     ]
    }
   ],
   "source": [
    "%%time\n",
    "chunks_new={'dayofyear':40}\n",
    "\n",
    "tf=varf.temp.groupby(\"time_counter.dayofyear\").mean()\n",
    "tf=tf.chunk(chunks=chunks_new);\n",
    "tf=tf[:,:,300:-100].compute();\n",
    "tf=tf[:,1:-1,1:-1]\n",
    "\n",
    "tt=vart.temp.groupby(\"time_counter.dayofyear\").mean()\n",
    "tt=tt.chunk(chunks=chunks_new);\n",
    "tt=tt[:,:,300:-100].compute();\n",
    "tt=tt[:,1:-1,1:-1]\n",
    "\n",
    "\n",
    "shf=varf.shflx.groupby(\"time_counter.dayofyear\").mean()\n",
    "shf=shf.chunk(chunks=chunks_new);\n",
    "shf=shf[:,:,300:-100].compute();\n",
    "shf=shf[:,1:-1,1:-1]\n",
    "\n",
    "sht=vart.shflx.groupby(\"time_counter.dayofyear\").mean()\n",
    "sht=sht.chunk(chunks=chunks_new);\n",
    "sht=sht[:,:,300:-100].compute();\n",
    "sht=sht[:,1:-1,1:-1]\n",
    "\n",
    "\n",
    "sf=varf.salt.groupby(\"time_counter.dayofyear\").mean()\n",
    "sf=sf.chunk(chunks=chunks_new);\n",
    "sf=sf[:,:,300:-100].compute();\n",
    "sf=sf[:,1:-1,1:-1]\n",
    "\n",
    "\n",
    "st=vart.salt.groupby(\"time_counter.dayofyear\").mean()\n",
    "st=st.chunk(chunks=chunks_new);\n",
    "st=st[:,:,300:-100].compute();\n",
    "st=st[:,1:-1,1:-1]\n"
   ]
  },
  {
   "cell_type": "markdown",
   "id": "f83b7de4-52b9-4f93-841d-646888bc8404",
   "metadata": {
    "tags": []
   },
   "source": [
    "# Computing $Bo_t$ and $b_T$"
   ]
  },
  {
   "cell_type": "code",
   "execution_count": 8,
   "id": "f98a1420-0887-418a-85a6-cd176e6f0aa2",
   "metadata": {},
   "outputs": [],
   "source": [
    "cp=gsw.cp_t_exact(sf,tf,p=0).mean()\n",
    "rho=1024\n",
    "g=9.8"
   ]
  },
  {
   "cell_type": "code",
   "execution_count": 9,
   "id": "874b3727-f91e-465e-b0aa-9a185c53653a",
   "metadata": {},
   "outputs": [],
   "source": [
    "ct_f=gsw.CT_from_t(sf,tf,p=0)\n",
    "alpha_f=gsw.alpha(sf,ct_f,p=0)\n",
    "# lv_f=gsw.latentheat_evap_CT(sf,ct_f)\n",
    "\n",
    "\n",
    "ct_t=gsw.CT_from_t(st,tt,p=0)\n",
    "alpha_t=gsw.alpha(st,ct_t,p=0)\n",
    "# lv_t=gsw.latentheat_evap_CT(st,ct_t)"
   ]
  },
  {
   "cell_type": "code",
   "execution_count": 10,
   "id": "cb40fd06-c4d1-4f30-a9a0-2fb5de1aa526",
   "metadata": {},
   "outputs": [],
   "source": [
    "Bot_f=-(alpha_f.mean()*g*shf)/(rho*cp)\n",
    "Bot_t=-(alpha_f.mean()*g*sht)/(rho*cp)\n",
    "\n",
    "bt_f=alpha_f.mean()*g*(tf-tf.mean(axis=1).mean(axis=1))#spatial reference\n",
    "bt_t=alpha_t.mean()*g*(tt-tt.mean(axis=1).mean(axis=1))#spatial reference\n",
    "\n",
    "# bt_f=alpha_f.mean()*g*(tf-tf.mean())#time and spatial reference\n",
    "# bt_t=alpha_t.mean()*g*(tt-tt.mean())#time and spatial reference\n"
   ]
  },
  {
   "cell_type": "markdown",
   "id": "73b41b8a-18ed-4914-be08-8f9bfe9eb918",
   "metadata": {},
   "source": [
    "# Computing $Bo_s$ and $b_S$"
   ]
  },
  {
   "cell_type": "code",
   "execution_count": 33,
   "id": "da0df084-8c4f-409b-8f20-cb7ad52104a4",
   "metadata": {},
   "outputs": [
    {
     "name": "stdout",
     "output_type": "stream",
     "text": [
      "CPU times: user 447 ms, sys: 270 ms, total: 717 ms\n",
      "Wall time: 5.65 s\n"
     ]
    }
   ],
   "source": [
    "%%time\n",
    "chunks_new={'time_counter':40}\n",
    "\n",
    "lhtf=varfw.LH\n",
    "lhtf=lhtf.chunk(chunks=chunks_new);\n",
    "lhtf=lhtf[:,30:-30,30:200].compute();\n",
    "lhtf=lhtf[:,1:-1,1:-1]\n",
    "\n",
    "lhtt=vartw.LH\n",
    "lhtt=lhtt.chunk(chunks=chunks_new);\n",
    "lhtt=lhtt[:,30:-30,30:200].compute();\n",
    "lhtt=lhtt[:,1:-1,1:-1]\n",
    "\n",
    "Pf=varfw.RAIN\n",
    "Pf=Pf.chunk(chunks=chunks_new);\n",
    "Pf=Pf[:,30:-30,30:200].compute();\n",
    "Pf=Pf[:,1:-1,1:-1]\n",
    "\n",
    "Pt=vartw.RAIN\n",
    "Pt=Pt.chunk(chunks=chunks_new);\n",
    "Pt=Pt[:,30:-30,30:200].compute();\n",
    "Pt=Pt[:,1:-1,1:-1]\n"
   ]
  },
  {
   "cell_type": "code",
   "execution_count": 20,
   "id": "94ccbf51-c519-40df-a80b-8d98f33a6654",
   "metadata": {},
   "outputs": [],
   "source": [
    "L=gsw.latentheat_evap_CT(sf,ct_f).mean()"
   ]
  },
  {
   "cell_type": "code",
   "execution_count": 36,
   "id": "d4d3e300-bc61-4ef4-b90a-3984e61e45da",
   "metadata": {},
   "outputs": [],
   "source": [
    "Evap_f=lhtf/(L*rho)\n",
    "Evap_t=lhtt/(L*rho)\n",
    "\n",
    "beta_f=gsw.beta(sf,ct_f,p=0)\n",
    "beta_t=gsw.beta(st,ct_t,p=0)"
   ]
  },
  {
   "cell_type": "code",
   "execution_count": 88,
   "id": "a7445c3a-ad76-4fe8-a547-dc807209bca7",
   "metadata": {},
   "outputs": [],
   "source": [
    "EP_f=Evap_f.mean(axis=1).mean(axis=1)-Pf.mean(axis=1).mean(axis=1);EP_f=EP_f.rename({'time_counter': 'dayofyear'})\n",
    "EP_t=Evap_t.mean(axis=1).mean(axis=1)-Pt.mean(axis=1).mean(axis=1);EP_t=EP_t.rename({'time_counter': 'dayofyear'})"
   ]
  },
  {
   "cell_type": "code",
   "execution_count": 89,
   "id": "8e12b352-96b5-469e-b59d-b3480c0aa63e",
   "metadata": {},
   "outputs": [],
   "source": [
    "Bos_f=-(g*beta_f*sf)*(EP_f)\n",
    "Bos_t=-(g*beta_t)*st*(EP_t)\n",
    "\n",
    "bs_f=-g*beta_f*(sf-sf.mean(axis=1).mean(axis=1))\n",
    "bs_t=-g*beta_t*(st-st.mean(axis=1).mean(axis=1))\n",
    "\n",
    "# bs_f=-g*beta_f*(sf-sf.mean())\n",
    "# bs_t=-g*beta_t*(st-st.mean())"
   ]
  },
  {
   "cell_type": "code",
   "execution_count": null,
   "id": "5b98da48-cd39-4d11-bb3b-7cc2851314e8",
   "metadata": {},
   "outputs": [],
   "source": [
    "plt.figure(figsize=(10,8))\n",
    "plt.plot(timer,(bs_f.mean(axis=2).mean(axis=1)*Bos_f.mean(axis=2).mean(axis=1)),label='FULL')\n",
    "plt.plot(timer,(bs_t.mean(axis=2).mean(axis=1)*Bos_t.mean(axis=2).mean(axis=1)),label='SMTH')\n",
    "plt.legend()"
   ]
  },
  {
   "cell_type": "code",
   "execution_count": 15,
   "id": "53d7c599-8492-463b-9a0b-4fe0ee9dc03a",
   "metadata": {},
   "outputs": [
    {
     "data": {
      "text/plain": [
       "<matplotlib.legend.Legend at 0x7f0c5436d5c0>"
      ]
     },
     "execution_count": 15,
     "metadata": {},
     "output_type": "execute_result"
    },
    {
     "data": {
      "image/png": "[encoded data removed]",
      "text/plain": [
       "<Figure size 720x576 with 1 Axes>"
      ]
     },
     "metadata": {
      "needs_background": "light"
     },
     "output_type": "display_data"
    }
   ],
   "source": [
    "plt.figure(figsize=(10,8))\n",
    "plt.plot(timer,(bt_f.mean(axis=2).mean(axis=1)*Bot_f.mean(axis=2).mean(axis=1)),label='FULL')\n",
    "plt.plot(timer,(bt_t.mean(axis=2).mean(axis=1)*Bot_t.mean(axis=2).mean(axis=1)),label='SMTH')\n",
    "plt.legend()"
   ]
  },
  {
   "cell_type": "code",
   "execution_count": null,
   "id": "c4db4ec8-4e01-4ce5-8192-5314461c1e28",
   "metadata": {},
   "outputs": [],
   "source": []
  }
 ],
 "metadata": {
  "kernelspec": {
   "display_name": "ROMS",
   "language": "python",
   "name": "roms"
  },
  "language_info": {
   "codemirror_mode": {
    "name": "ipython",
    "version": 3
   },
   "file_extension": ".py",
   "mimetype": "text/x-python",
   "name": "python",
   "nbconvert_exporter": "python",
   "pygments_lexer": "ipython3",
   "version": "3.7.0"
  }
 },
 "nbformat": 4,
 "nbformat_minor": 5
}
