{
 "cells": [
  {
   "cell_type": "code",
   "execution_count": 1,
   "id": "4e5e90f6-74b0-4fd0-9f1e-40c1330e8e1e",
   "metadata": {},
   "outputs": [],
   "source": [
    "import numpy as np\n",
    "from glob import glob\n",
    "import matplotlib.pyplot as plt\n",
    "import gc\n",
    "import xarray as xr\n",
    "import pandas as pd\n",
    "import xrft as xrft\n",
    "import warnings\n",
    "import sys\n",
    "sys.path.append(\"/homes/metogra/iufarias/FeedbackSubmeso/useful/\")\n",
    "import romspickle\n",
    "import matplotlib.dates as mdates"
   ]
  },
  {
   "cell_type": "code",
   "execution_count": null,
   "id": "81abbfd2-f855-4161-a81d-a6adccd3ee52",
   "metadata": {},
   "outputs": [],
   "source": []
  },
  {
   "cell_type": "code",
   "execution_count": 2,
   "id": "571bd540-cca5-4dc9-b028-75cb306a8d2a",
   "metadata": {},
   "outputs": [],
   "source": [
    "\n",
    "plt.rcParams['text.usetex'] = True\n",
    "plt.rcParams.update({'font.size': 22})\n",
    "\n",
    "plt.rcParams['font.family'] = 'sans-serif'\n",
    "plt.rcParams['font.sans-serif'] = ['Lucida Grande']"
   ]
  },
  {
   "cell_type": "code",
   "execution_count": 3,
   "id": "f376dee8-aff1-4dad-9ef0-c501843d921e",
   "metadata": {},
   "outputs": [],
   "source": [
    "\n",
    "path='/data/pacific/lrenault/SASI/CROCO/FULL/'\n",
    "listm=glob(path+'surf*.nc');listm.sort()\n",
    "# varf=xr.open_dataset(listm[-9:][xmon])\n",
    "varf=xr.open_mfdataset(listm[1:],data_vars='minimal')\n",
    "\n",
    "path='/data/pacific/lrenault/SASI/CROCO/SMTH/'\n",
    "listt=glob(path+'surf*SASI_6h_his_20*_*.nc');listt.sort()\n",
    "listt.append('/data/pacific/lrenault/SASI/CROCO/SMTH/surf_SASI_6h_his_2012-07.nc')\n",
    "#vart=xr.open_dataset(listt[xmon])\n",
    "vart=xr.open_mfdataset(listt[1:],data_vars='minimal')"
   ]
  },
  {
   "cell_type": "code",
   "execution_count": 4,
   "id": "48718857-ae05-4c19-bd49-e348628e4a46",
   "metadata": {},
   "outputs": [],
   "source": [
    "dxx=0.5\n",
    "dyy=dxx"
   ]
  },
  {
   "cell_type": "code",
   "execution_count": 5,
   "id": "b9e5769b-f9dc-470b-ae01-18e10d60ec1a",
   "metadata": {},
   "outputs": [],
   "source": [
    "import datetime\n",
    "\n",
    "# t_ind=pd.DatetimeIndex(varf.time_counter.compute())\n",
    "t_ind=varf.time_counter.groupby(\"time_counter.dayofyear\").mean()\n",
    "t_ind_h=varf.time_counter\n",
    "\n",
    "\n",
    "mon_ind=t_ind.dt.month\n",
    "mes=np.array([12,1,2,3,4,5,6,7])\n",
    "mes_str=['Dec/11','Jan/12','Feb/12','Mar/12','Apr/12','May/12','Jun/12','Jul/12']"
   ]
  },
  {
   "cell_type": "markdown",
   "id": "66cec19a-475d-48a8-8108-ff79bc3abb0e",
   "metadata": {},
   "source": [
    "## Spectral Analysis"
   ]
  },
  {
   "cell_type": "markdown",
   "id": "11b9cf1b-afab-470b-b8d9-f695e4246b55",
   "metadata": {
    "tags": []
   },
   "source": [
    "### Temperature Spectra"
   ]
  },
  {
   "cell_type": "code",
   "execution_count": 6,
   "id": "36e18585-033e-4fb2-8e03-f8b0921f2faf",
   "metadata": {},
   "outputs": [],
   "source": [
    "# chunks_new={'time_counter':10}\n",
    "chunks_new={'dayofyear':1}"
   ]
  }
 ],
 "metadata": {
  "kernelspec": {
   "display_name": "ROMS",
   "language": "python",
   "name": "roms"
  },
  "language_info": {
   "codemirror_mode": {
    "name": "ipython",
    "version": 3
   },
   "file_extension": ".py",
   "mimetype": "text/x-python",
   "name": "python",
   "nbconvert_exporter": "python",
   "pygments_lexer": "ipython3",
   "version": "3.7.0"
  }
 },
 "nbformat": 4,
 "nbformat_minor": 5
}
