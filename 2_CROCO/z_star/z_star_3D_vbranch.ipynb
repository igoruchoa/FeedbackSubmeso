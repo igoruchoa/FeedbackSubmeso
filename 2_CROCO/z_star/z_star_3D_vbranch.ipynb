{
 "cells": [
  {
   "cell_type": "code",
   "execution_count": 1,
   "id": "babb62b7-9f8a-4a13-b7ff-47dc0b17779a",
   "metadata": {
    "tags": []
   },
   "outputs": [],
   "source": [
    "import numpy as np\n",
    "import xroms\n",
    "from glob import glob\n",
    "import matplotlib.pyplot as plt\n",
    "import xarray as xr\n",
    "import pandas as pd\n",
    "import xrft as xrft\n",
    "import warnings\n",
    "import sys\n",
    "import xrft\n",
    "sys.path.append(\"/homes/metogra/iufarias/FeedbackSubmeso/useful/\")\n",
    "import romspickle\n",
    "\n",
    "from dask.diagnostics import ProgressBar\n",
    "import dask\n",
    "from dask.distributed import Client, LocalCluster\n",
    "\n",
    "import scipy.integrate as integ\n",
    "warnings.filterwarnings(\"ignore\")"
   ]
  },
  {
   "cell_type": "code",
   "execution_count": 2,
   "id": "75648b9c-2770-4c4f-b71f-256640a6a2eb",
   "metadata": {
    "tags": []
   },
   "outputs": [],
   "source": [
    "\n",
    "plt.rcParams['text.usetex'] = False\n",
    "plt.rcParams.update({'font.size': 22})\n",
    "\n",
    "plt.rcParams['font.family'] = 'sans-serif'\n",
    "plt.rcParams['font.sans-serif'] = ['Lucida Grande']"
   ]
  },
  {
   "cell_type": "code",
   "execution_count": 3,
   "id": "ddd389d7-cf59-496b-a12c-270ec0a68cc2",
   "metadata": {
    "tags": []
   },
   "outputs": [],
   "source": [
    "client = Client(processes=False)\n",
    "# client = Client(cluster)\n",
    "# client = Client(n_workers=90)\n"
   ]
  },
  {
   "cell_type": "code",
   "execution_count": 4,
   "id": "bb12b1e3-9ee1-4365-9e0b-c2dad1c93879",
   "metadata": {
    "tags": []
   },
   "outputs": [
    {
     "data": {
      "text/html": [
       "<div>\n",
       "    <div style=\"width: 24px; height: 24px; background-color: #e1e1e1; border: 3px solid #9D9D9D; border-radius: 5px; position: absolute;\"> </div>\n",
       "    <div style=\"margin-left: 48px;\">\n",
       "        <h3 style=\"margin-bottom: 0px;\">Client</h3>\n",
       "        <p style=\"color: #9D9D9D; margin-bottom: 0px;\">Client-de200aa0-3e0b-11ef-b372-b07b25d42406</p>\n",
       "        <table style=\"width: 100%; text-align: left;\">\n",
       "\n",
       "        <tr>\n",
       "        \n",
       "            <td style=\"text-align: left;\"><strong>Connection method:</strong> Cluster object</td>\n",
       "            <td style=\"text-align: left;\"><strong>Cluster type:</strong> distributed.LocalCluster</td>\n",
       "        \n",
       "        </tr>\n",
       "\n",
       "        \n",
       "            <tr>\n",
       "                <td style=\"text-align: left;\">\n",
       "                    <strong>Dashboard: </strong> <a href=\"http://128.8.216.13:8787/status\" target=\"_blank\">http://128.8.216.13:8787/status</a>\n",
       "                </td>\n",
       "                <td style=\"text-align: left;\"></td>\n",
       "            </tr>\n",
       "        \n",
       "\n",
       "        </table>\n",
       "\n",
       "        \n",
       "            <details>\n",
       "            <summary style=\"margin-bottom: 20px;\"><h3 style=\"display: inline;\">Cluster Info</h3></summary>\n",
       "            <div class=\"jp-RenderedHTMLCommon jp-RenderedHTML jp-mod-trusted jp-OutputArea-output\">\n",
       "    <div style=\"width: 24px; height: 24px; background-color: #e1e1e1; border: 3px solid #9D9D9D; border-radius: 5px; position: absolute;\">\n",
       "    </div>\n",
       "    <div style=\"margin-left: 48px;\">\n",
       "        <h3 style=\"margin-bottom: 0px; margin-top: 0px;\">LocalCluster</h3>\n",
       "        <p style=\"color: #9D9D9D; margin-bottom: 0px;\">d88fa280</p>\n",
       "        <table style=\"width: 100%; text-align: left;\">\n",
       "            <tr>\n",
       "                <td style=\"text-align: left;\">\n",
       "                    <strong>Dashboard:</strong> <a href=\"http://128.8.216.13:8787/status\" target=\"_blank\">http://128.8.216.13:8787/status</a>\n",
       "                </td>\n",
       "                <td style=\"text-align: left;\">\n",
       "                    <strong>Workers:</strong> 1\n",
       "                </td>\n",
       "            </tr>\n",
       "            <tr>\n",
       "                <td style=\"text-align: left;\">\n",
       "                    <strong>Total threads:</strong> 128\n",
       "                </td>\n",
       "                <td style=\"text-align: left;\">\n",
       "                    <strong>Total memory:</strong> 502.98 GiB\n",
       "                </td>\n",
       "            </tr>\n",
       "            \n",
       "            <tr>\n",
       "    <td style=\"text-align: left;\"><strong>Status:</strong> running</td>\n",
       "    <td style=\"text-align: left;\"><strong>Using processes:</strong> False</td>\n",
       "</tr>\n",
       "\n",
       "            \n",
       "        </table>\n",
       "\n",
       "        <details>\n",
       "            <summary style=\"margin-bottom: 20px;\">\n",
       "                <h3 style=\"display: inline;\">Scheduler Info</h3>\n",
       "            </summary>\n",
       "\n",
       "            <div style=\"\">\n",
       "    <div>\n",
       "        <div style=\"width: 24px; height: 24px; background-color: #FFF7E5; border: 3px solid #FF6132; border-radius: 5px; position: absolute;\"> </div>\n",
       "        <div style=\"margin-left: 48px;\">\n",
       "            <h3 style=\"margin-bottom: 0px;\">Scheduler</h3>\n",
       "            <p style=\"color: #9D9D9D; margin-bottom: 0px;\">Scheduler-dd7ec923-57bc-49ea-89cd-c1de3b8ed74e</p>\n",
       "            <table style=\"width: 100%; text-align: left;\">\n",
       "                <tr>\n",
       "                    <td style=\"text-align: left;\">\n",
       "                        <strong>Comm:</strong> inproc://128.8.216.13/750450/1\n",
       "                    </td>\n",
       "                    <td style=\"text-align: left;\">\n",
       "                        <strong>Workers:</strong> 1\n",
       "                    </td>\n",
       "                </tr>\n",
       "                <tr>\n",
       "                    <td style=\"text-align: left;\">\n",
       "                        <strong>Dashboard:</strong> <a href=\"http://128.8.216.13:8787/status\" target=\"_blank\">http://128.8.216.13:8787/status</a>\n",
       "                    </td>\n",
       "                    <td style=\"text-align: left;\">\n",
       "                        <strong>Total threads:</strong> 128\n",
       "                    </td>\n",
       "                </tr>\n",
       "                <tr>\n",
       "                    <td style=\"text-align: left;\">\n",
       "                        <strong>Started:</strong> Just now\n",
       "                    </td>\n",
       "                    <td style=\"text-align: left;\">\n",
       "                        <strong>Total memory:</strong> 502.98 GiB\n",
       "                    </td>\n",
       "                </tr>\n",
       "            </table>\n",
       "        </div>\n",
       "    </div>\n",
       "\n",
       "    <details style=\"margin-left: 48px;\">\n",
       "        <summary style=\"margin-bottom: 20px;\">\n",
       "            <h3 style=\"display: inline;\">Workers</h3>\n",
       "        </summary>\n",
       "\n",
       "        \n",
       "        <div style=\"margin-bottom: 20px;\">\n",
       "            <div style=\"width: 24px; height: 24px; background-color: #DBF5FF; border: 3px solid #4CC9FF; border-radius: 5px; position: absolute;\"> </div>\n",
       "            <div style=\"margin-left: 48px;\">\n",
       "            <details>\n",
       "                <summary>\n",
       "                    <h4 style=\"margin-bottom: 0px; display: inline;\">Worker: 0</h4>\n",
       "                </summary>\n",
       "                <table style=\"width: 100%; text-align: left;\">\n",
       "                    <tr>\n",
       "                        <td style=\"text-align: left;\">\n",
       "                            <strong>Comm: </strong> inproc://128.8.216.13/750450/4\n",
       "                        </td>\n",
       "                        <td style=\"text-align: left;\">\n",
       "                            <strong>Total threads: </strong> 128\n",
       "                        </td>\n",
       "                    </tr>\n",
       "                    <tr>\n",
       "                        <td style=\"text-align: left;\">\n",
       "                            <strong>Dashboard: </strong> <a href=\"http://128.8.216.13:40267/status\" target=\"_blank\">http://128.8.216.13:40267/status</a>\n",
       "                        </td>\n",
       "                        <td style=\"text-align: left;\">\n",
       "                            <strong>Memory: </strong> 502.98 GiB\n",
       "                        </td>\n",
       "                    </tr>\n",
       "                    <tr>\n",
       "                        <td style=\"text-align: left;\">\n",
       "                            <strong>Nanny: </strong> None\n",
       "                        </td>\n",
       "                        <td style=\"text-align: left;\"></td>\n",
       "                    </tr>\n",
       "                    <tr>\n",
       "                        <td colspan=\"2\" style=\"text-align: left;\">\n",
       "                            <strong>Local directory: </strong> /tmp/dask-worker-space/worker-enfj4yy4\n",
       "                        </td>\n",
       "                    </tr>\n",
       "\n",
       "                    \n",
       "\n",
       "                    \n",
       "\n",
       "                </table>\n",
       "            </details>\n",
       "            </div>\n",
       "        </div>\n",
       "        \n",
       "\n",
       "    </details>\n",
       "</div>\n",
       "\n",
       "        </details>\n",
       "    </div>\n",
       "</div>\n",
       "            </details>\n",
       "        \n",
       "\n",
       "    </div>\n",
       "</div>"
      ],
      "text/plain": [
       "<Client: 'inproc://128.8.216.13/750450/1' processes=1 threads=128, memory=502.98 GiB>"
      ]
     },
     "execution_count": 4,
     "metadata": {},
     "output_type": "execute_result"
    }
   ],
   "source": [
    "client"
   ]
  },
  {
   "cell_type": "code",
   "execution_count": 5,
   "id": "448ab733-de27-4b44-a804-c1ca52511d79",
   "metadata": {
    "tags": []
   },
   "outputs": [],
   "source": [
    "# chunks={'time_counter':10, 'x_rho':50, 'y_rho':190,'s_rho':80,'s_w':80}\n",
    "chunks={'time_counter':1,'x_rho':1000,\"x_u\":1000,\"x_v\":1000,\n",
    "                        'y_rho':1520,\"y_u\":1520,\"y_v\":1520,'s_rho':80,'s_w':80}\n",
    "\n",
    "\n",
    "path='/data/pacific/lrenault/SASI/CROCO/'\n",
    "\n",
    "varf=xr.open_mfdataset(path + 'FULL/SASI*2012-01*.nc',data_vars='minimal',chunks=chunks)\n",
    "vart=xr.open_mfdataset(path + 'SMTH/SASI*2012-01*.nc',data_vars='minimal',chunks=chunks)\n",
    "\n",
    "# varf=xr.open_mfdataset(path + 'FULL/SASI*2012*.nc',data_vars='minimal',chunks=chunks)\n",
    "# vart=xr.open_mfdataset(path + 'SMTH/SASI*2012*.nc',data_vars='minimal',chunks=chunks)"
   ]
  },
  {
   "cell_type": "code",
   "execution_count": 6,
   "id": "7dddce8d-e7fd-4e20-8aa5-18a1cafe1178",
   "metadata": {
    "tags": []
   },
   "outputs": [],
   "source": [
    "varx = varf.rename({\"time_counter\":\"ocean_time\",\"x_rho\": \"xi_rho\",\"x_u\":\"xi_u\",\"x_v\":\"xi_v\",\"x_w\":\"xi_w\",\n",
    "                    \"y_rho\":\"eta_rho\",\"y_v\":\"eta_v\",\"y_u\":\"eta_u\",\"y_w\":\"eta_w\",\"s_rho\":\"s_rho\",\"s_w\":\"s_w\"})\n",
    "df,gf=xroms.roms_dataset(varx,Vtransform=varx.Vtransform.data)\n",
    "\n",
    "vary = vart.rename({\"time_counter\":\"ocean_time\",\"x_rho\": \"xi_rho\",\"x_u\":\"xi_u\",\"x_v\":\"xi_v\",\n",
    "                    \"y_rho\":\"eta_rho\",\"y_v\":\"eta_v\",\"y_u\":\"eta_u\",\"y_w\":\"eta_w\",\"s_rho\":\"s_rho\",\"s_w\":\"s_w\"})\n",
    "dt,gt=xroms.roms_dataset(vary,Vtransform=vary.Vtransform.data)"
   ]
  },
  {
   "cell_type": "code",
   "execution_count": 7,
   "id": "00e19eae-7106-47c8-b544-acd4075aeab7",
   "metadata": {
    "tags": []
   },
   "outputs": [],
   "source": [
    "timer_h=pd.DatetimeIndex(dt.ocean_time)\n",
    "timer_d=pd.DatetimeIndex(dt.ocean_time.groupby(\"ocean_time.dayofyear\").mean())"
   ]
  },
  {
   "cell_type": "code",
   "execution_count": 8,
   "id": "36086b89-1eed-4d83-b45a-cad095784f39",
   "metadata": {
    "tags": []
   },
   "outputs": [],
   "source": [
    "rho0=df.rho0"
   ]
  },
  {
   "cell_type": "code",
   "execution_count": 9,
   "id": "f91d43bb-3161-4cc9-91f7-2a5a86bd8df2",
   "metadata": {
    "tags": []
   },
   "outputs": [],
   "source": [
    "# rho_full=df.rho[:,:,120:-120,120:800] +rho0\n",
    "# rho_smth=dt.rho[:,:,120:-120,120:800] +rho0\n",
    "\n",
    "rho_full=df.rho[:,:,120:-120,120:750] +rho0\n",
    "rho_smth=dt.rho[:,:,120:-120,120:750] +rho0"
   ]
  },
  {
   "cell_type": "code",
   "execution_count": 10,
   "id": "212b4787-4314-42ea-92f6-667cf892ac91",
   "metadata": {
    "tags": []
   },
   "outputs": [
    {
     "data": {
      "text/plain": [
       "-10.080808080808081"
      ]
     },
     "execution_count": 10,
     "metadata": {},
     "output_type": "execute_result"
    }
   ],
   "source": [
    "# z_interp=np.linspace(-2,-100, 100)\n",
    "z_interp=np.linspace(-2,-1000,100)\n",
    "np.diff(z_interp).mean()"
   ]
  },
  {
   "cell_type": "code",
   "execution_count": 11,
   "id": "915a8de3-97a8-4e27-9974-54cb0e7d297b",
   "metadata": {
    "tags": []
   },
   "outputs": [],
   "source": [
    "z=rho_full.z_rho0.compute()"
   ]
  },
  {
   "cell_type": "code",
   "execution_count": 12,
   "id": "06f63b88-7386-4c00-aa3c-7837d0d54ae9",
   "metadata": {
    "tags": []
   },
   "outputs": [],
   "source": [
    "z_matrix=np.zeros([z_interp.shape[0],rho_full.shape[2],rho_full.shape[3]])\n",
    "z_matrix[:,:,:]=z_interp[:,None,None]\n",
    "\n",
    "z_full_interp=rho_full[0,:,:,:].xroms.isoslice(z_interp).copy().compute()\n",
    "zstar_full=rho_full[0,:,:,:].xroms.isoslice(z_interp).copy().compute()\n",
    "del zstar_full.attrs['grid']"
   ]
  },
  {
   "cell_type": "code",
   "execution_count": 19,
   "id": "e429c35f-94b4-4de5-b3e3-98771b67ec7d",
   "metadata": {
    "tags": []
   },
   "outputs": [],
   "source": [
    "dec=1\n",
    "Zstar_full=xr.DataArray(coords=(df.ocean_time[::dec],\n",
    "                                z_interp,\n",
    "                                rho_full.eta_rho.data,\n",
    "                                rho_full.xi_rho.data),\n",
    "                      dims=['ocean_time','z_rho','eta_rho','xi_rho'])\n",
    "\n",
    "Rho_full_interp=xr.DataArray(coords=(df.ocean_time[::dec],\n",
    "                                z_interp,\n",
    "                                rho_full.eta_rho.data,\n",
    "                                rho_full.xi_rho.data),\n",
    "                      dims=['ocean_time','z_rho','eta_rho','xi_rho'])\n",
    "\n",
    "\n",
    "# Zstar_full=Zstar_full.to_dataset(name='z_star')\n",
    "# Zstar_smth=Zstar_smth.to_dataset(name='z_star')"
   ]
  },
  {
   "cell_type": "code",
   "execution_count": 20,
   "id": "63ec24e8-e50a-4e5e-a0c0-31adb4dc4cad",
   "metadata": {
    "tags": []
   },
   "outputs": [
    {
     "name": "stdout",
     "output_type": "stream",
     "text": [
      "CPU times: user 30min 46s, sys: 2min 22s, total: 33min 9s\n",
      "Wall time: 38min 22s\n"
     ]
    }
   ],
   "source": [
    "%%time\n",
    "M='01'\n",
    "# day_x=-1\n",
    "\n",
    "for day_x in range(rho_full.ocean_time.shape[0]):\n",
    "\n",
    "    rho_full_interp=rho_full[day_x,:,:,:].xroms.isoslice(z_interp).compute()\n",
    "    # z_full_interp[:]=z_matrix.copy()\n",
    "    Rho_full_interp[day_x,:,:,:]=rho_full_interp\n",
    "    \n",
    "    \n",
    "    \"numpy method (working but janky)\"\n",
    "    rho_full_stacked=np.ravel(rho_full_interp)\n",
    "    index_sorted_full=np.argsort(rho_full_stacked)\n",
    "\n",
    "    # rho_star=rho_stacked[index_sorted].reshape(rho.shape)\n",
    "\n",
    "    z_full_stacked=np.ravel(z_matrix.copy())\n",
    "    # zstar_full[:]=z_full_stacked[index_sorted_full].reshape(rho_full_interp.shape)\n",
    "    Zstar_full[day_x,:,:,:]=z_full_stacked[index_sorted_full].reshape(rho_full_interp.shape)\n"
   ]
  },
  {
   "cell_type": "code",
   "execution_count": 21,
   "id": "dbaffba9-c543-4e3f-84e4-66e94dab6472",
   "metadata": {
    "tags": []
   },
   "outputs": [
    {
     "name": "stdout",
     "output_type": "stream",
     "text": [
      "CPU times: user 8.51 s, sys: 54.1 s, total: 1min 2s\n",
      "Wall time: 11min 31s\n"
     ]
    }
   ],
   "source": [
    "%%time\n",
    "Zstar_full.to_netcdf('/data/pacific/iufarias/z_star/z_star_full_M{0}.nc'.format(M))\n",
    "del Zstar_full"
   ]
  },
  {
   "cell_type": "code",
   "execution_count": 22,
   "id": "44400cff-70b0-46ab-981f-c81d46ef773d",
   "metadata": {
    "tags": []
   },
   "outputs": [
    {
     "name": "stdout",
     "output_type": "stream",
     "text": [
      "CPU times: user 8.33 s, sys: 56.1 s, total: 1min 4s\n",
      "Wall time: 11min 44s\n"
     ]
    }
   ],
   "source": [
    "%%time\n",
    "Rho_full_interp.to_netcdf('/data/pacific/iufarias/z_star/rho_full_M{0}.nc'.format(M))\n",
    "del Rho_full_interp"
   ]
  },
  {
   "cell_type": "code",
   "execution_count": 34,
   "id": "ef7350d3-36ff-4068-9299-273b8bdc5293",
   "metadata": {
    "tags": []
   },
   "outputs": [],
   "source": [
    "z_matrix=np.zeros([z_interp.shape[0],rho_smth.shape[2],rho_smth.shape[3]])\n",
    "z_matrix[:,:,:]=z_interp[:,None,None]\n",
    "\n",
    "z_smth_interp=rho_smth[0,:,:,:].xroms.isoslice(z_interp).copy().compute()\n",
    "zstar_smth=rho_smth[0,:,:,:].xroms.isoslice(z_interp).copy().compute()\n",
    "del zstar_smth.attrs['grid']\n"
   ]
  },
  {
   "cell_type": "code",
   "execution_count": 23,
   "id": "06471d7b-743b-4de7-a6a8-d4a375ea1cfa",
   "metadata": {
    "tags": []
   },
   "outputs": [],
   "source": [
    "Zstar_smth=xr.DataArray(coords=(dt.ocean_time[::dec],\n",
    "                                z_interp,\n",
    "                                rho_smth.eta_rho,\n",
    "                                rho_smth.xi_rho),\n",
    "                      dims=['ocean_time','z_rho','eta_rho','xi_rho'])\n",
    "\n",
    "Rho_smth_interp=xr.DataArray(coords=(dt.ocean_time[::dec],\n",
    "                                z_interp,\n",
    "                                rho_smth.eta_rho,\n",
    "                                rho_smth.xi_rho),\n",
    "                      dims=['ocean_time','z_rho','eta_rho','xi_rho'])\n"
   ]
  },
  {
   "cell_type": "code",
   "execution_count": 24,
   "id": "8f98e3c5-e13b-4611-935f-89257e9cf00c",
   "metadata": {
    "tags": []
   },
   "outputs": [
    {
     "name": "stdout",
     "output_type": "stream",
     "text": [
      "CPU times: user 30min 53s, sys: 2min 24s, total: 33min 18s\n",
      "Wall time: 39min 5s\n"
     ]
    }
   ],
   "source": [
    "%%time\n",
    "M='01'\n",
    "# day_x=-1\n",
    "\n",
    "for day_x in range(rho_smth.ocean_time.shape[0]):\n",
    "\n",
    "    rho_smth_interp=rho_smth[day_x,:,:,:].xroms.isoslice(z_interp).compute()\n",
    "    # z_full_interp[:]=z_matrix.copy()\n",
    "    Rho_smth_interp[day_x,:,:,:]=rho_smth_interp\n",
    "\n",
    "    \"numpy method (working but janky)\"\n",
    "    rho_smth_stacked=np.ravel(rho_smth_interp)\n",
    "    index_sorted_smth=np.argsort(rho_smth_stacked)\n",
    "\n",
    "    # rho_star=rho_stacked[index_sorted].reshape(rho.shape)\n",
    "\n",
    "    z_smth_stacked=np.ravel(z_matrix.copy())\n",
    "    # zstar_full[:]=z_full_stacked[index_sorted_full].reshape(rho_full_interp.shape)\n",
    "    Zstar_smth[day_x,:,:,:]=z_smth_stacked[index_sorted_smth].reshape(rho_smth_interp.shape)\n"
   ]
  },
  {
   "cell_type": "code",
   "execution_count": 25,
   "id": "d00b7a2a-6aa9-47f9-b794-52c646dd74a9",
   "metadata": {
    "tags": []
   },
   "outputs": [
    {
     "name": "stdout",
     "output_type": "stream",
     "text": [
      "CPU times: user 8.1 s, sys: 53.8 s, total: 1min 1s\n",
      "Wall time: 11min 31s\n"
     ]
    }
   ],
   "source": [
    "%%time\n",
    "Zstar_smth.to_netcdf('/data/pacific/iufarias/z_star/z_star_smth_M{0}.nc'.format(M))\n",
    "del Zstar_smth"
   ]
  },
  {
   "cell_type": "code",
   "execution_count": 26,
   "id": "94eea1ea-f956-45bc-8f1f-89014629c3f9",
   "metadata": {
    "tags": []
   },
   "outputs": [
    {
     "name": "stdout",
     "output_type": "stream",
     "text": [
      "CPU times: user 10.9 s, sys: 53.6 s, total: 1min 4s\n",
      "Wall time: 11min 52s\n"
     ]
    }
   ],
   "source": [
    "%%time\n",
    "Rho_smth_interp.to_netcdf('/data/pacific/iufarias/z_star/rho_smth_M{0}.nc'.format(M))\n",
    "del Rho_smth_interp"
   ]
  }
 ],
 "metadata": {
  "kernelspec": {
   "display_name": "XROMS",
   "language": "python",
   "name": "xroms"
  },
  "language_info": {
   "codemirror_mode": {
    "name": "ipython",
    "version": 3
   },
   "file_extension": ".py",
   "mimetype": "text/x-python",
   "name": "python",
   "nbconvert_exporter": "python",
   "pygments_lexer": "ipython3",
   "version": "3.8.19"
  }
 },
 "nbformat": 4,
 "nbformat_minor": 5
}
